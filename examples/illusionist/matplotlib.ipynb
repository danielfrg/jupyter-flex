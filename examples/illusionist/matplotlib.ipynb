{
 "cells": [
  {
   "cell_type": "code",
   "execution_count": 1,
   "metadata": {},
   "outputs": [],
   "source": [
    "import ipywidgets\n",
    "import numpy as np\n",
    "from IPython.display import display, clear_output\n",
    "\n",
    "import matplotlib as mpl\n",
    "import matplotlib.pyplot as plt\n",
    "\n",
    "%matplotlib inline\n",
    "backend_ =  mpl.get_backend()\n",
    "plt.rcParams[\"figure.figsize\"] = (20, 20)"
   ]
  },
  {
   "cell_type": "code",
   "execution_count": 2,
   "metadata": {},
   "outputs": [],
   "source": [
    "mpl.use(\"Agg\")\n",
    "ax = plt.axes()\n",
    "mpl.use(backend_)"
   ]
  },
  {
   "cell_type": "markdown",
   "metadata": {},
   "source": [
    "# Page"
   ]
  },
  {
   "cell_type": "markdown",
   "metadata": {
    "tags": [
     "sidebar"
    ]
   },
   "source": [
    "## Sidebar"
   ]
  },
  {
   "cell_type": "code",
   "execution_count": 3,
   "metadata": {
    "tags": [
     "body"
    ]
   },
   "outputs": [],
   "source": [
    "A = 5\n",
    "f = ipywidgets.IntSlider(min=1, max=10, value=5)"
   ]
  },
  {
   "cell_type": "code",
   "execution_count": 4,
   "metadata": {
    "tags": [
     "body"
    ]
   },
   "outputs": [
    {
     "data": {
      "application/vnd.jupyter.widget-view+json": {
       "model_id": "50eb28f4cfca4f028c344931ec1e46ac",
       "version_major": 2,
       "version_minor": 0
      },
      "text/plain": [
       "IntSlider(value=5, max=10, min=1)"
      ]
     },
     "metadata": {},
     "output_type": "display_data"
    }
   ],
   "source": [
    "f"
   ]
  },
  {
   "cell_type": "markdown",
   "metadata": {},
   "source": [
    "## Content"
   ]
  },
  {
   "cell_type": "code",
   "execution_count": 6,
   "metadata": {
    "tags": [
     "body"
    ]
   },
   "outputs": [
    {
     "data": {
      "application/vnd.jupyter.widget-view+json": {
       "model_id": "7f6fcb4bbfd34925a0180d51f18724d9",
       "version_major": 2,
       "version_minor": 0
      },
      "text/plain": [
       "Output()"
      ]
     },
     "metadata": {},
     "output_type": "display_data"
    }
   ],
   "source": [
    "out = ipywidgets.Output()\n",
    "out"
   ]
  },
  {
   "cell_type": "code",
   "execution_count": 7,
   "metadata": {},
   "outputs": [],
   "source": [
    "def update(value):\n",
    "    ax.clear()\n",
    "    \n",
    "    out.clear_output(wait=True)\n",
    "\n",
    "    t = np.arange(0.0, f.value, 0.01)\n",
    "    s = A + np.sin(np.pi * t)\n",
    "\n",
    "    ax.plot(t, s)\n",
    "\n",
    "    ax.set(xlabel=\"time (s)\", ylabel=\"voltage (mV)\", title=\"About as simple as it gets, folks\")\n",
    "    ax.grid()\n",
    "    \n",
    "    with out:\n",
    "        display(ax.figure)\n",
    "    #import time\n",
    "    #time.sleep(5)"
   ]
  },
  {
   "cell_type": "code",
   "execution_count": 8,
   "metadata": {},
   "outputs": [],
   "source": [
    "f.observe(update, \"value\")\n",
    "update(None)"
   ]
  },
  {
   "cell_type": "code",
   "execution_count": null,
   "metadata": {},
   "outputs": [],
   "source": []
  }
 ],
 "metadata": {
  "kernelspec": {
   "display_name": "Python 3",
   "language": "python",
   "name": "python3"
  },
  "language_info": {
   "codemirror_mode": {
    "name": "ipython",
    "version": 3
   },
   "file_extension": ".py",
   "mimetype": "text/x-python",
   "name": "python",
   "nbconvert_exporter": "python",
   "pygments_lexer": "ipython3",
   "version": "3.7.6"
  },
  "widgets": {
   "application/vnd.jupyter.widget-state+json": {
    "state": {
     "443cac77ca994aa597c774f1a14a1f15": {
      "model_module": "@jupyter-widgets/base",
      "model_module_version": "1.2.0",
      "model_name": "LayoutModel",
      "state": {}
     },
     "770eab8c3fd442b9a44219851443a22f": {
      "model_module": "@jupyter-widgets/controls",
      "model_module_version": "1.5.0",
      "model_name": "SliderStyleModel",
      "state": {
       "description_width": ""
      }
     },
     "980cca4e167c4434b55006e3e2cd1db8": {
      "model_module": "@jupyter-widgets/base",
      "model_module_version": "1.2.0",
      "model_name": "LayoutModel",
      "state": {}
     },
     "aacc2a7e349c4a04b1043cf69a2891fc": {
      "model_module": "@jupyter-widgets/output",
      "model_module_version": "1.0.0",
      "model_name": "OutputModel",
      "state": {
       "layout": "IPY_MODEL_443cac77ca994aa597c774f1a14a1f15",
       "outputs": [
        {
         "data": {
          "image/png": "iVBORw0KGgoAAAANSUhEUgAAAYgAAAEWCAYAAAB8LwAVAAAABHNCSVQICAgIfAhkiAAAAAlwSFlzAAALEgAACxIB0t1+/AAAADh0RVh0U29mdHdhcmUAbWF0cGxvdGxpYiB2ZXJzaW9uMy4yLjEsIGh0dHA6Ly9tYXRwbG90bGliLm9yZy+j8jraAAAgAElEQVR4nOy9eXxb13nn/X0AkgA3cBUhUaK1eYvlLbZsJ3Fi023qOkuT9u3mNGmaTFOP02amS9o66UzSdTrTaWemTZPWcfq2eds0ybRpnTiOYzuORTmO40WOLduyLFkLLUpcwB0ESQAE8Lx/3HspiCYpgLgbyPv9fPghgHvvOecH3Hue85zznHNEVQkICAgICFhKyOsCBAQEBAT4k8BABAQEBAQsS2AgAgICAgKWJTAQAQEBAQHLEhiIgICAgIBlCQxEQEBAQMCyBAYiYBER+aKI/InX5XACEXm/iDzsUNqefm8i8jYROeJV/mtFDP5BRCZF5OkSzlcRudB8vW7vVT8RGIgNiIj0mQ9lxKX8dpgPd40b+S2Hqv6zqt7qVf5OoqrfU9VLrPci0i8ib3ciLxHpFZHTNiX3VuDHgG2qer1NaQbYSGAgNhgisgN4G6DAezwtTMBGZzvQr6qzXhckYHkCA7Hx+CDwJPBF4JeWOd4pIt8RkRkR2S8i260DIvIWEXlGRKbN/28pOnZOq1VE/kBEvmS+fcz8PyUiKRF589JMReR6EfmBiEyJyJCIfFZE6sxjIiL/R0QSZt4viMjly4kTkQ+JyAmz/CdF5P1Fnz9edJ6KyK+KyKvmuX8sIrvNMiRF5F+K8u8VkdMi8nsiMmZqff9KX7CIvFtEnje1PCEiV65y7l+JyICZ57Mi8rYl38kB89iIiPzvFdJYbNWLyD8BFwDfNL/r313hmt81v+dBEfnIku6biIj8hYicMvO9W0TqRaQR+DbQbaadEpHuUsu5JP9fBv4OeLOZzh+an/+KiBwTkQkRuU9EuktIq1lE9onIZ8x75Z0i8rL5u54Rkd8+XxoBK6Cqwd8G+gOOAb8KXAssAPGiY18EZoCbgAjwV8Dj5rF2YBL4RaAGeJ/5vsM83g+8vSitPwC+ZL7egeGx1KxSrmuBN5lp7wAOA79hHvtx4FmgFRDgDcCWZdJoBJLAJeb7LcAe8/WHLC3mewXuA2LAHiADfBfYBbQALwO/ZJ7bC+SA/21+LzcDs0X5fBH4E/P1NUACuAEIYxjhfiCygu4PAB2m7o8Dw0DUPPYD4BfN103Am1ZIoxc4XfT+nN9imfNvM/PZAzQA/2R+Hxeax//S/G7agWbgm8B/Xy6vcsq5TDmW/iY/AoyZ32EE+GvgsSW/mVXGLwJ/Yn53T1vfv3lsCHib+boNuMbr565a/wIPYgMhIm/FcOv/RVWfBY4Dv7DktG+p6mOqmgH+C0YLrwd4F/Cqqv6TquZU9SvAK8BP2FE2VX1WVZ800+4HPo9REYNhyJqBSwFR1cOqOrRCUgXgchGpV9UhVT20SrZ/pqpJ85yXgIdV9YSqTmO0lN+45PxPqWpGVfcD3wJ+bpk0fwX4vKo+pap5Vf3/MIzPm1bQ/SVVHTd1/y+MitEaT1gALhSRTlVNqeqTq2gph58D/kFVD6nqHPCH1gEREVPDb6rqhKrOAH8K3L5KenaV8/3A36vqD83775MY99+OFc7vBvYD/6qq/3VJeS4TkZiqTqrqD9dYng1PYCA2Fr+EUQmOme+/zOu7mQasF6qaAiYwHsRu4LUl574GbLWjYCJysYjcLyLDIpLEqJQ6zXI8CnwW+BwwIiL3iEhsaRpq9GX/PHAnMCQi3xKRS1fJdqTo9fwy75uK3k/quX3lr2F8J0vZDnzc7F6aEpEpoGeFcxGRj4vIYbPrbArDe+k0D/8ycDHwihhdeu9eRUs5dFP0Oy95vQnDq3i2qPwPmp+vhF3lPOceM++/cVa+x94F1AN3L/n8p4F3Aq+J0U36ui7NgNIIDMQGQUTqMVqON5uV8DDwm8BVInJV0ak9Rdc0YXQzDJp/2zmXC4Az5utZjIrFYnPR61KWDP5bDI/kIlWNAb+H0Z1kJKD6GVW9FqNb5GLgd5ZLRFUfUtUfw+heegX4Qgl5l0Kb2QdvcQHGd7KUAeC/qWpr0V+D6XGdgznecBfG79Kmqq3ANKZuVX1VVd8HdAF/BnxtSRlW4nzf9xCwreh9T9HrMQzjuKeo/C2qahnL16VdQTmXcs49ZqbRwdl7bClfwDBeDxTnp6rPqOp7zfJ8HfiXNZQlgMBAbCR+EsgDlwFXm39vAL6HMXBt8U4Reas5QPvHwFOqOgA8AFwsIr8gIjUi8vNmWveb1z0P3C4itSKyF/iZojRHMbp+dq1SvmaM8YOU2er/qHVARK4TkRtEpBbDEKVNLecgInEReY9ZWWSA1HLnVcAfikidWbG/G/jXZc75AnCnWV4RkUYReZeINC9zbjPG2MYoUCMin8YYE7H0fEBENqlqAZgyPy5Fzwirf9f/AnxYRN4gIg3Ap60DZl5fAP6PiHSZ5dgqIj9elHaHiLSUUk4xBvQ/VEKZwfBoPywiV4sRgv2nGPdf/yrXfAw4AtxvDqTXiTHnpUVVFzDuKTvvgQ1FYCA2Dr+E0e98SlWHrT+Mrpv3y9k5Cl8Gfh+ja+lajH5hVHUco1L8OIbb/7vAu4u6qz4F7MYYuP5DMx3Ma+eA/wZ83+y2WK4//rcxxkNmMCqo/1t0LGZ+NonRBTEO/MUyaYTM8g2a5b8ZY0DeDobN/AeBfwbuVNVXlp6kqgcw+vA/a55/DGMwdjkewhjrOIqhK8253T23AYdEJIURMHC7qqZLKOt/B/6r+V2/LoJHVb8NfAbYZ5bvB+ahjPn/LvPzJ83uvkcwx0VMzV8BTpjpd69UTrOR0YERNXdeVPW7GPfRv2F4ObtZfewDVVXgDozv7RtAFCOQot8s+50YgQABa0CM7zcgIGAlRKQXIyJr2/nOrUZE5A0Yg/QRVc3ZmO5bgV8zu58CqpDAgwgI2ICIyE+Z3TFtGOMG37TTOACo6uOBcahuAgMRELAx+Y8YYx/HMfroP7r66QEbkaCLKSAgICBgWQIPIiAgICBgWTxbXdMJOjs7dceOHWu6dnZ2lsbGtYRuVy+B5o1BoHn9U4neZ599dkxVl50Iua4MxI4dOzhw4MCaru3r66O3t9feAvmcQPPGINC8/qlEr4gsXSFhkaCLKSAgICBgWQIDERAQEBCwLIGBCAgICAhYlsBABAQEBAQsS2AgAgICAgKWxVEDISKtIvI1EXnFXPP+zUuOixjbBB4TYxvJa4qO3SYiR8xjn3CynAEBAQEBr8dpD+KvgAdV9VLgKoxtJIt5B3CR+XcHxp4AiEgYY3OYd2AsKf0+EbnM4bIGBAQEBBTh2DwIc8evmzCXOlbVLJBdctp7gX80l+x90vQ4tmDsSXxMVU+YaX3VPPdlp8q7FhbyBe57fpC8Ku+5qptobdjrIjlOeiHPN54/Q11NiHdf2U1teP33Us5mcnz9+TPEorW884othENy/ouqnOm5Be47eIauWJRbL4tj7ES6vhlLZbj/4CDbOxu55ZIur4vjCxxbi0lErgbuwajUr8LYdP7Xi7dtFJH7gf+hqo+b77+LsRb9DuA2Vf2I+fkvAjeo6seWyecODO+DeDx+7Ve/+tU1lTeVStHU1HT+E01Ulc88l+G5hLEXyZ6OEB/fGyVURQ9SuZrzBeUvDqQ5PFEAYG88zK9dHamqyqNczdm88t+fSnMyaWi+aVsN/+HyiFPFc4RyNc8tKH/y1DyDKaNuuG1HLbdfWudU8RyhXM3JjPJHT84zNm9o/umLavmJ3dWjuVy9xdxyyy3Pqure5Y45OZO6BrgG+E+q+pSI/BXwCYwNQSyWq1l0lc9f/6HqPRiGiL179+paZxOWOxPx3549zXOJg3ziHZfSGKnhU19/idPRnXzwzTvWlL8XlKv57x8/yeGJl/nTn7qCybksf/7QEZJtF/Peq23ZltoVytX8f75zlJPJV/nr972Rlwan+fz+E3z4x95YVS3McjX/wX2HGJrt5x8+dB0PvzzCV54+xa+84zqu3d7mXCFtplzNv/V/nyeZTfPVO27gS0++xtdfGuaOd72ZSzYvtxGg/3Bq5riT/QOngdOq+pT5/msYBmPpOcX74W7D2LFrpc99gary+ceOc9mWGHe8bRcfuOECrt/Zzt/2HWchX/C6eI6Qyxf4u++d4E272nnf9T189ObdvGFLjL9+9BiFwvpcEXg+m+eLT/Tz43vi/MRV3Xz8xy6hp72ezz56zOuiOcbUXJavPnOKn712G7dc2sWn3v0GOpvq+Ny+9at5cGqebxwc5Jfesp037ergT37ycqI1Ie7ef9zronmOYwbC3M5yQEQuMT/6UV4/hnAf8EEzmulNwLSqDgHPABeJyE5z28LbzXN9wZMnJjg6kuJDN+4gFBJEhDvetouh6TT7Xkl4XTxHeORwgsHpNB++cSciQigkfOStOzmWSPFM/4TXxXOEbx4cZHp+gQ/fuBOAupoQH37LTp59bZJXhpMel84Z/vXAadILhUXNDXU1vP+G7Tz6SoLBqXmPS+cMX37qFAXVRe+/taGOn93bw/0vDDI9t+Bt4TzG6RHG/wT8s4i8AFwN/KmI3Ckid5rHHwBOYOx/+wXM/YPNna0+hrFn72HgX1T1kMNlLZn7Dp6hKVLDe67qXvzs5ks20dpQywMvDnlYMue47+AZNjVH+NFLz3at3Hb5ZiI1oXWr+RsHz7Crs5EbdrYvfvYTV3UTEnjghfWr+eqeVt6wJbb42U++0ehCXI+/s6ryjYNnuOmiTfS0Nyx+/pNv3MpCXnn45WEPS+c9jhoIVX1eVfeq6pWq+pOqOqmqd6vq3eZxVdVfU9XdqnqFueG7de0Dqnqxeey/OVnOcigUlEcOJ7j54k3nRC3VhkPcelmcRw4nSC/kPSyh/WRyefYfGeXtb4hTUxS11BipofeSTXz7peF11800Pb/AUycmuHXP5nMG4Tc1R7hhZwffWoeV5dD0PC+dSfLjezaf8/nOzkYu2xJblwbi6EiKgYn512m+alsLW1vr16Xmclj/MYo288KZaUZnMrz9stcPUv74ns2kMjl++NqkByVzjidPTDCbzfNjK2hOzGR4eWh9dbnsPzpKrqDLar51T5zjo7MMTMx5UDLneOSw0T26kubnBqaYmlsaqV7dPHJ4BIAffcO5mkWEW/fEeeL4OJnc+mrwlUNgIMrk+8fGALj54tc/RNfvbCccEn5wYtztYjnK46+OUhcO8Zbdna87Zn325DrU3FJfy9U9r4/cufFCQ/N6/J23tdWze9PrwyVvvLATVXjq5Poab3r81TH2dMeIx6KvO3bj7k4yuQLPnZryoGT+IDAQZXKgf4ILu5pob3x9jHRztJYrtrbwxPH1VXE83T/JVT0ty04E3NwSZVdn47rT/Ez/JNftaFt2UtxFXU10NtXxg3WkWVU50D/J9Tvbl53XctW2Vuprw+tKczZX4LkBQ/NyXL+rnZCw7u7tcggMRBkUCsqzr02yd5V48Lfs7uDgwBRz2ZyLJXOOuWyOQ2emuW7H8g8RwJt3d/D0yQny62QcIjGT5uTY7IqaRYQ37epYV5Xl8dFZxmezXL+C5rqaEHt3tK0rzS+emSa9UFhRc8xs8D25jjSXS2AgyuDYaIpkOrfqhKFrt7eRKyiHBtdHn/xzp6bIFZTrVmhlgaE5lclxfDTlYsmc40C/MYZ0Ps3DyTTD02m3iuUoVqjy+TQfTcyQyqyPxo+lee8qjZ9rtrfx4plpcut0ftP5CAxEGVgVx2o31JXbWgE4OLA++i0PnjZ0XLNMX7yFpfn5daS5Nixc3t2y4jmLv/Pp9aH5hdNTtNTXsqtz5Y3vr9rWiiq8dGbaxZI5xwunp7igvYFNzSsvnXLVtlbmF/K8mlgfjZ9yCQxEGTx3apL2xjp2dDSseM6m5ghbW+s5eHp9PESHziTpaa+npaF2xXN2dTbSHKnhhXVSWR46k+SSzc3U1az8eOzpjlETknWj+aUzSS7fGlt1Xa0rtxkGc71pXo2reoyGwHrRXC6BgSiDw8NJ9nSv/hABXNXTsm48iEOD0+zZsnJLGiAUEq7saeHgQPUbRVUtSXO0NsylW5rXheaFfIEjwzPsWcVjAuhoitDTXr8uNCfTC5yamDuv5h0dDcSiNTy/DjSvhcBAlEguX+DoSOqcGaYrsae7hVMTc8ykq3ua/kx6gf7xufO2sgAu727hyMhM1ffVDk2nmZxbKFnzy0NJnFoR2S2OJVJk8wX2dJeuudp52RwjPJ9mEeHyretD81oIDESJnBibJZsr8IYt51/d8VJzBcijIzNOF8tRzj5Eq7eyAC7Z3Ew2V6B/fPa85/oZq3/9shI1T8xmGU1lnC6Wo1iaS/2d+8dnmc9W9+SxcjW/OjKz7lYLKIXAQJTIYbMFUYoHcXHcMBCvDFe3gbAisfaU0JpeT5pDQkkNgUtMzUfWgeaGujA7Vxmgtrgk3owqvJqobs0vDyaJxyKrDlBbXBJvZi6bZ2Byfc2cL4XAQJTIy0NJ6sKhZWeZLmVbWz1NkRqOVnnF8cpwks6mOrqaXz/LdCkXdjURDsm60Lyjs5GGuvNvlWLtFVDtBuKVYWNQvpSd8taL5sPDMyU19mD9aF4LgYEokcNDM1zY1VTSFpsiwsXxpqpvTR9LpLiwq7RdqqK1YXZ0NKwLzReVqLmjKUJnU6TqK45jidmSNW/vaCRSE6pqzfmCcmK09N/54nXiKa6FwECUyLGRmcWxhVK4ZHMzR0ZmqnYAU1U5PjpbksdkYWmuVhbyBV4bnytTc1NVa56eW2AslSlZczgkXBSvbs2DU/NkcoWSNTdGauhpr+eVKta8VgIDUQJz2RyD02l2bTp/H63FJfFmpuYWSMxU5wDm+GyW6fmF8irLeIxTE3NVu8zIqYk5cgUtW/PRkZmqXWbk+JgxAaxczdXsKR4zZ/zvLtGDAENz4EEELMvJMSMyZ1cZD9FFplt6vEpnYFrlLrWLCeCieBOqcGK0OiOZ1qo5vVCo2t3W1qp5dCbD9Hx1hnEvai7reW6if2y26sO4y8VRAyEi/SLyoog8LyIHljn+O+ax50XkJRHJi0h7Kde6iVXhlRLlYWF5GyfGqrOyXEsry9J8sso1l+MpWktTVLPmunCIbW31JV9jae6vUs3HR1O0N9bRtsyKzCuxq7ORXEE5PVmdDYG14oYHcYuqXq2qe5ceUNU/N49dDXwS2K+qE6Vc6yYnx2YRKc9AxJuj1NeGq7biOJ6Ypb42zJZl1slfiR0d1V1ZHk/MEo9FaI6uvKzIUnZWuVE8nphlR2fDOTsFno9qbwgcT8yyu4xGAFS/5rXipy6m9wFf8boQy3FiNEV3S/2y+yGsRCgk7OhsrNob6vhoil2bGgmVEPpoEa0Ns7W1vqo1l9MXD7CpKUJTpKZqNZ9Yg+ae9gZCUr3e8Vp+552dxvnVqnmtnD/YuzIUeFhEFPi8qt6z3Eki0gDcBnxsDdfeAdwBEI/H6evrW1NBU6nUitcePDFPay1lp92kaQ6dmllzmZxmNc2HBua4sDVUdtlbwxkOnhiir8+fa1GtpFlVOTI0x5u7a8rW3BkpcODoAH19o/YU0mZW0pwrKP3jc+yJZcvW3BEVnjp0gr7aQXsKaTMraU5llfHZLJocKUuzqtJYC98/eJTdudfsK6hNrPYsV4SqOvYHdJv/u4CDwE0rnPfzwDfXcm3x37XXXqtrZd++fct+XigUdM+nH9RPf/3FstP88wdf0V2f/JZmc/k1l8tJVtI8l8npjk/cr3/1yNGy0/yv976oV/z+g1ooFCosnTOspHlkel6333W/fvH7J8tO8z99+Yf61j/7bmUFc5CVNB8dTur2u+7Xe394uuw0P/j/PqXv+sxjFZbMOVbS/MzJcd1+1/366OGRstN872cf11/4wg8qLJkzrKS3FIADukKd6mgXk6oOmv8TwL3A9SucejtLupfKuNZRRlMZUplcWRFMFjs7G8kXtOo2tz81MYcq7ChjzMViZ2cjyXSOidnq2ty+f9z4jdaq+fTkfNVtbl+p5pOjs1U3z6cSzbtMzRsJxwyEiDSKSLP1GrgVeGmZ81qAm4FvlHutG6wlgsmiWgcwT5kGbXv7yvterMRG1LxrUyOqcGq8+hoCsHbNs9k8o1U2z+fUxBwhga2tpUdtWezsbGRwOl31CxWWg5MeRBx4XEQOAk8D31LVB0XkThG5s+i8nwIeVtXZ813rYFlX5LXxCgxElUb1WBXHBWsxEFWsOSTQvYaKo1qjtwYm5miO1NC6ymZQK1HNmre01K+6GdRKWF7HaxPVpbkSHBukVtUTwFXLfH73kvdfBL5YyrVecGpijnBI2NJSerinRWtDLU2RmqqLna6k4uhurUcEBqpQ81orjh7TkFab5lMTc/S0N5x3A6zlKNZ8g90Fc5BTE3NravhAkeaJeS7dXNpCf9WOn8JcfcnAxDzdrdGy4sQtRIRtbfVVOQax1oqjribElliU01Woea0VR1tDLY114ar8ndequbs1ajQENpDmHnMyYbVproTAQJyHgck5etrWdkOB0eqotnXkK3mIALZtMM0iQk97A6erSHPBDJ64YJX91VcjUhNmcyxaVb/zvDlmslbN7Y11NNSFq0pzpQQG4jwMTMxXZiDaGhiYmK+aaA+r4uhpL78v3sLSXC1YFUclmrdVmebRVIZMrrDYKl4LPW0NnK4izVbFXs6yIsWISNXd25USGIhVmM/mGUtVVnH0tNczv5BnvErCPq2KoxIPoqe9npGZdNWEfVoVR0+Fmgcm56qmIWAFIlSieZupuVqwoswqvberyVOslMBArMJpOyqONmtgqzpuKjsqjp62BlThTJUM2tpScbQ1MJfNV838D7s0DyerpyFQSXSeheEpVk9DoFICA7EKZ13SysYgjLSqo7J8zZZWVpVptqHiqEbNIrC1ki6mdqMhMDiVtrFkznFqYo7GujDtZaziupSe9gZms3km56pzqfNyCQzEKlitrMr6pqsr8uGULRVHdWkesKXiqD7NW2JRIjWlL0C5lGqL6qkkOs+i2jRXSmAgVmFgcp5obYhNTZE1p9EYqaGjsa5q+i1PT8yxucKKI94cpS4cqpr+6QFbKg7Lg6gezdsq8Jig2GuqHs2VdJ1C9WmulMBArMLAxBzb2iqrOMAM+6ySyIczU/NrWoagmFBI2NpWXzURLnZobozU0N5YVzW/8+DUPNsq1ByPRakNS1VoVlUGbfidiyfLbQQCA7EKA5PzFYUBWvS0VU+0x+D0/JqWm1jKtmrSPGWP5p626ohwyeULDCfTFWsOh4StrdXxOyfnc8xm8xUbiKZIDW0NtVWh2Q4CA7EKZybnKuqLt9jW1sDg1DwFn29sXygow9OVVxxgaK6GKKZUJkcyndtQmkdmMhR0betOLaVaNJ8x9wzfSJrtIDAQKzBrVhxbWiq/obpboyzklbFZf698OZbKsJBXtraWv+7UUrpboozPZkkv+DsEcmix4qhc85aWKIPT/p8UabfmoWn/V5ZWGTeSZjsIDMQKDE0boXv23FCGkRnyeTigna2sLWYaw9PVobnSrgcwNKcXCkz5PATSbs2JmQwL+ULFaTnJoI2au1vrff8s20VgIFbAaiHY4UFYK8H6vdVhxbPbYSC6Tc2DgWbfYWneYpNmVRhJ+rvCPDOVpjYsdFYQkWixpSXKTCZHMu3vhoAdBAZiBawWQrcNBsJqtZzxeavDamXZodmqcP0+iWpwap6QQFdz5RVHNWmORWtoilS+2n81ad7cEiUUqiwiEc5q3gheRGAgVsBqBcZbKq84WhtqidaGFvt+/crg9DyNdWFi9ZVXHJstr6kKNG+OrW0596Vsaa0OT3HIpkg1ONsFWxWabWj4wFnNfvcU7cBRAyEi/SLyoog8LyIHljneKyLT5vHnReTTRcduE5EjInJMRD7hZDmXY2gqTWdTpKIJYxYiQndL/eK4hl+xwj0rnfcBEK0N09FYx2CVaLaDzsYItWHxfWv6zFTalr54ONsF63fNgw5o3ggehGM7yhVxi6qOrXL8e6r67uIPRCQMfA74MeA08IyI3KeqLztYznMw5gNUPkBtsaU16vsWx+CUPSGuFlta/R/tMTiV5uqeVlvSCoWEzVUQ4TI4Nc/e7W22pNUYqSEWrfG1ZrvmfVh0NUcIif+9JjvwaxfT9cAxVT2hqlngq8B73SzA0HR6TduMrkR3S/1iH79fsbM1Df7XXCiord0t4H/NqUyO6fkFezW3+ltzYiZDvqC2aa4Jh9gciy5Gg61nnPYgFHhYRBT4vKres8w5bxaRg8Ag8NuqegjYCgwUnXMalt/6VkTuAO4AiMfj9PX1ramgqVRq8VpV5fT4HDvr02tObynZqSyJ5AKPPLqPGhsGyuygWHM2r4zPZslMDtHXN25L+oVUhoHxnG3foR0Ua55KF1jIK6nEAH19w7akH8qkOTZR8K3mMykjHHVq8CR9fQOrXFU6kXyao6dnfav51UljLs7YqaP0zZ+wJf0GyXK4f4i+vilb0quUYr124rSBuFFVB0WkC/iOiLyiqo8VHf8hsF1VUyLyTuDrwEXAcjXosrOPTKNzD8DevXu1t7d3TQXt6+vDunZ6foH0Qw9z3Z4L6b1p95rSW8pwwym+cfxFLn3jDRUtH24nxZpPjs3Cd/q48erL6L12my3pH5HjPHLqFa55043EorW2pFkpxZqfH5iCvu/Te92V9F4WtyX9p9Ov8MxjJ3jbTTcT9klDoFjz/qOj8PjTvP0t13DdjnZb0v/O5Is88OIQa332nKBYc/LgIDz1HLfddAMXx5ttSf9rgz/kpTPTvtFcrNdOHO1iUtVB838CuBej66j4eFJVU+brB4BaEenE8Bh6ik7dhuFhuIKdcyAstvg8HHDQxklyFlt8Hg7olOZcQRmd8eeseSc0d7fWMzm3wHzWn7PmLc22dhm31jM4nfb9rPlKccxAiEijiDRbr4FbgZeWnLNZzJAZEbneLM848AxwkYjsFJE64HbgPqfKupTFORA2DlJ3+3yynJ2zay38PkJNvZEAACAASURBVHHMztm1FtWgOSQQt2Heh8WWKtAci9bQbKMXu6UlSjZXqJqthNeKk11MceBes/6vAb6sqg+KyJ0Aqno38DPAR0UkB8wDt6thknMi8jHgISAM/L05NuEKgxvQg7CWxLBj3oeF3ycUDU2nqa+1Z96HxTmaL7AtWdsYmk7T1WzPvA+LYs27NzXZlq5dGAEn9j3LcK5mO2Zn+xXHDISqngCuWubzu4tefxb47ArXPwA84FT5VmNoKm3b7FqLJp+HA44k07Q31tky78PC7+GAI8k0m1uitsz7sLAmY/lZc9zGrhY4q9mvHkTCYc1XbGuxNW0/4dcwV08ZnJ4nbtPs2mL8HA44kszYahDBCAeM+zgcMOGA5lh9DQ11YV9rtrN7Cc56nX6+t+3WbM2a96tmuwgMxDIMTdk7B8Jic0uUYZ8uapaYSdMVc0azXxdyG3FAs4hUgWZ7K8tITZjOpjpfas4XlNFUxnbNHY111IVDvn2e7SIwEMswND1vy0qXS9kcizI87c/olpFk2vZWFlia/fcQqeqG05xeyDM1t0C82f6GQNynmsdnjUlycQcaAl2xCCM+1GwngYFYgqoyNJ1ejEaxk65YlPFZ/62dny8oY6ms7Q8RGBVHIuk/oziTyZFeKDimecSHmq3Q242k2br3uhwyin7UbCeBgVjC9PwCmVyBzTZHPYDRslTFdzHyZ1tZ9rem4zFj7fzZTM72tCshYXYN2N31AKZRnEn7bovZxIyzmv3YxWRpduLe3uxTzXYSGIglWC0CZyrLiJmHv26qxVaWIy1Lf2o++zs7o3khr0zO+StG3mnN47NZsjl/ecdOau6KRXx3X9tNYCCWYP3gTrmkxXn4Bas8TjxEm800/TaYF2i2F0uz1WL3C5bmTQ6NNc1m88ys453lAgOxhLMPkTNuuJGHv7qYRhb7ae3XbHklfhuH2Kiaa8NCW4P962L5+d7uaKyj1uaQdfCvZjsJDMQSEjPODWp1NNZRExLfehCOtLJa/Os1NUVqaLRh282l+FVzImnMorZzYqBFfNEo+lCzAx4T+FeznQQGYgmJZJpYtIb6OvtmFFuEQkJXc8R3XQ+JmQydTc60spoiNTTWhX2neXTG/th4i03m0gt+05xwULPlcftRsxO9AeBfzXYSGIgljCQzjvTRWsRb/Bf2abUsncKPmo05EM5orqsJmRPHNo7m9sY6asOyoTQHXUwbkJGZtLMGotl/s6kNzc4tOLYRNXc1+y8EciTpnGYR8Z3mXL7AWMo5D6IxUkNzpMZXmu0mMBBLcGJ9nmL8uAyD016T3zQbs6g3lub5bJ5kOudYfzz4T/P4bJaCOhO+bRH3mWa7WXWETkS2YezF8DagG2NJ7peAbwHfVlV/BT1XiKo6tiaRRVcswkw6x1w2R0Od0xv6nR+rleWkUeyKRUgkM6iqIwOk5TI9v0A2V3BkUN4iHovwwml/bEcJRZPkHNb8yvCMY+mXy9mQdWc1+807tpMVPQgR+Qfg74Es8GfA+4BfBR4BbgMeF5Gb3CikW0zOLbCQd2ZGscVmn/VbjqWyqMOtrM2xKNl8gck5f8SLOzl5yiIeizKWyvpmWRW3NPtprGkjarab1Zqw/0tVX1rm85eAfzd3elt1SxQR6QdmgDyQU9W9S46/H7jLfJsCPqqqB0u51gmcnEhkYaU9PJ1mZ2ejY/mUytmlCNzR3N5Y51g+peKm5sRMxtYd69aKW5pTmRypTI4mB8KHy8UtzSNJY1mVkE/2ILeT1cYgbjO7mJZFVbOqeqyEPG5R1atXqOBPAjer6pXAHwP3lHGt7Tg5Sc7ibMXhD7fUyaVFLBajPTaQ5rOeYqDZK0aSGUSgs8m5RsnmWJRcQZnw2bIqdrGagdgK/EBEHhORj4pIp92Zq+oTqjppvn0SWNEguYGTKz9aLMZO+2SZYHe8JnM9Jp9pdvJ37vKZ5kQyTV1NiJZ6+2dRW/hRc2dTxPaNv4rx2/NsNyv6gar6myLyW8BNGAPVnxKRg8BXgHtVtZTRKAUeFhEFPq+qSz2EYn4Z+Ha514rIHcAdAPF4nL6+vhKK9XpSqRRPHj8MwOHnnuJ42Dl3MRqGZ18+Rp8OOJZHKaRSKZ5+9QgCvHTgBxx2yEXOmauaPvXCK2yeO+FIHqWSSqX44anjNNTAU098z7F8kllD8+M/fIn68SOO5VMKqVSKF46naalV9u/f71g+w7PGeEvf08+TPe1tF1MqleLl/jQNomuuE0rhzFQegEe+/wxjXd5pTqVSjuhcVZGqKrAf2C8iHwPeDvwP4G6goYT0b1TVQRHpAr4jIq+o6mNLTxKRWzAMxFvLvdY0HPcA7N27V3t7e0so1uvp6+ujMddJ65lBbv3RW9aURql0H+ijNhajt/caR/M5H319fdS3tbOpOcGP/oizmju+/x2i7Zvp7b3C0XzOR19fH7XNzWxtT9Hbe7Nj+RQKysf3f5vmrh56ey91LJ9S6Ovrg/oo2+sK9Pa+xbF8ZjM5PvG9h2jr3klv727H8imFvr4+cjVhLuyI0tt7nWP5XDw1zx8/+Shd2y+m94ZVh2Qdpa+vj7XWfatRku8lIlcAfwR8DiOq6fdKuU5VB83/CeBe4Ppl0r4S+Dvgvao6Xs61duPkrMti/LR2vhNbUC6HEe2xcTQby6psLM1+mziWcEHzpuYIIv4Zd7Gb1cJcLxKRT4nIy8CXgTngVlW9QVX/8nwJi0ijiDRbr4FbMSKgis+5APh34BdV9Wg51zrBiINr1RTjp9hpYxN7N4xioNlLRpMZR8dcLPyyR0KuoIzPZh3XXBsO0dHoD81OsFoX00MY4w0/r6ovriHtOHCvOTGqBviyqj4oIncCqOrdwKeBDuBvzPOscNZlr11DGcoikUxzUZftY/Gvw1qbyA8TxxIzaa7qaXU8n80tUV48k3Q8n/PhxmRIi80tUY74YOJYOqfMZHKOBiJY+GU2dTKrqDobfGGxuWUDGghV3VX8XkRixeer6sRqCavqCeCqZT6/u+j1R4CPlHqtkxRUjdUuHZx1aRFvPjtxzMt5AbnFvaid19zVfHY/bidWjS2V1AKOT4a06GqO8tjRMcfzOR9TGWPA3A3N8eYoT51ctWpwham0u5oH12kU03mfVBH5jyIyArwAPGv+HXC6YG4zk8Xcl9mdVhZ4Hxo3vVhxuKNZ9ex+G14x5bJma+KYl7ipOd7ij/24J13WvF49iFKacr8N7FHVHaq60/zbdd6rqoypjBGi50qLw8zD68lyrrYsLc0eP0iTaQ9+Z481u9ua9sd+3Na97cqYYnOUCR/ux20HpRiI4xgD1OuaszeUCwN5zf7YknJRsxuDl83+WIPKTc1xn2i2WtObXIrQA+81T6WVkEBHo3sNgdHU+luTqZSZHZ8EnhCRp4DFb0BV/7NjpfKAs60s5x8iaxVRv3gQbrSyrDxGfaLZyZVcLbp84ilOZwpEa0PEos5P5CrWfBkxx/NbiamMsqk5QtiF9ZG6ijxFP6y7ZSel3DGfBx4FXgTWnw9lslhxNDlfcURrw7Q21PqilRUOiSutrI5G42H1XHNGaW2oJVpr/5ayS7G8UT94ivGYM3tRL8VP3rEbjT3wj3fsBKUYiJyq/pbjJfGYyYzS3lhHXY07ETZxH+y+NZVRNjW508oKh4RNTd6HA06llXizO6285kgN9bVhzzVPppV4i0uVpbUek9e/c0a5ZJM7mv22AKedlFIb7hORO0Rki4i0W3+Ol8xlpjPqSoirRVcswojHET2TGXfCPS3iPtA8lVFXutTA2IZzo2mO1IRpa6j1fOXeqXTBtXu7o7HO9I7Xn4EoxYP4BfP/J4s+U2BdRTJNpZULNrvT4gCj1XEs4W2M/FS6wBu63NPcFYsyMOFtvMNURrnGpa4HMDR7WXGoqqvdLWAtJeOdUczk8swsuDOeCNayKpGN2cWkqjvdKIjXTGaU61xuTY/OZDzdaGTKZa8pHotwoN+7SVSFgnqgOcqLHm49msrkyOSd3XZzKV0er7s1OmMt2++u5vXoQay2FtNbVzpmHo+JyOX2F8l98gVl2uVWVleztxuNZHJ5Ui62ssDQPDm3QCaXdy3PYqxN7N3VHCExYyyr4gVubLu5FEuzV3iledTjrkQnWG0M4qdF5AkR+bSIvEtErheRm0TkP4jIPwH3A+sipms8lUFxZw6ERdzjwTzrZnZ7DKI4b7c5uwWlu5rnsnnPZlNbmt0agwBDc8L0jr1g1CPN69GDON+GQW3AzwA/C2wB5oHDGBv4PO5OEZ1nJOmNSwpGOOCebteyXWRRs8v98Vbe29pK2U7EXhIeaC6eONYcdW43t5VIeNCajsei5M3VVN2Yb7IULzyIeJF3HKlxPoTaLc63YdAk8AXzb93ixubmSzlbcXjT6rD6iN1Y9toivhgj741mN7ZXXUpXkeYLu5pcy9fCS80jybRHBiJNWKC9wb2FMONFDb6edvcbP07h3bKaPsKNDd2XYk3I8yry4WzF4X4Xk1dG0fqu3ZgMabGo2aOwz5FkhmgYmiLubYfp9VpjI8kMLRFxNfjDL7Pm7SYwEBgVlgCdLlYcdTUhOhrrvKs4ZjKEBdpcbGW1NdRRGxbP5gWMzKRprsO1yZBwbreaF4zMpGmNuBsl5/V6TIkNqNkpAgOBcUM114nr+xRsao54tiTBSDLteisrZM6m9kpzIpmmNeLub9wUqaGxLuyp5haXK0uroeXlve22gbDGL71eudduStkPosHcevQL5vuLROTdpSQuIv0i8qKIPC8ir9tDQgw+IyLHROQFEbmm6NhtInLEPPaJckSVy0gyQ1vU/bkI8VjUM5d0dCbj+kMEZoy8R5oTHmmOx6KeeYqJGffvba+948RMhlaXNXvtHTtFKc2pf8BYxfXN5vvTwJ+Ukcctqnq1uZXoUt4BXGT+3QH8LYCIhIHPmccvA94nIpeVkWdZJGbcb2WBt6FxI8m0R0bRW83eGMWIJy1LVfVQszeT5dILeabmFlzXbMymXn+T5UoxELtV9X8CCwCqOg/Y9e2/F/hHNXgSaBWRLcD1wDFVPaGqWeCr5rmOMJL0rmU5OpMh70G8uJeaveinzRfU8Jo88hS90JxM50gvFFzvVgOrIeC+ZmuOTZtnDYH15UGUEtqQFZF6jPWXEJHdFO0LcR4UeFhEFGPuxD1Ljm8FBorenzY/W+7zG5bLQETuwPA+iMfj9PX1lVg0s4CqNMkCHTX5sq+tlOnhBQoK33x4H61R9x7ibF6Znl+gQdR1zbNjWabnF3j4u/uoC7v3EE+lCxQUGsi6rjkzlWVoaoF9+/a5suS2xZmUsTp/lIzrmguzGQbG3H+mXp00ZulH1H3NoUyaExMF1/MFSKVSjuRbioH4feBBoEdE/hm4EfhQienfqKqDItIFfEdEXlHVx4qOL/e06Cqfv/5Dw+jcA7B3717t7e0tsWhnueUW6OvrYy3XVkL20DD/+PKz7L78Wq7Y1uJavqfG5+A7++hqjriuebRpgH979QUuvfoGLuhwL178xdPT0Pc48VjUdc3Hwid4sP8w19zwVloa3Jss9/irY/D4U2xpqXdd8w+zR3j8zDHedtPNriwnbzH7whA89UO2tDa4rnnf9Eu8+twZ1/MF5+qv8zZbVfU7wP+DYRS+AuxV1b5SElfVQfN/ArgXo+uomNNAT9H7bcDgKp+vKxZnU7s8mGcNHnrVNw0eaE5uXM1ejK9tikUpqLGMjZt4/Tsb3XrurjX2zYOD/NtRZ9Z0KyWK6RpgOzCEUUlfICK7RWRV70NEGkWk2XoN3Aq8tOS0+4APmtFMbwKmVXUIeAa4SER2ikgdcLt57rri7MQxdx8iq5/UzW4tC880z1iaPRiDaPZYsxdjTR5qrg0LTe6valIU6uqu5n2vJHhi0Jm1vkrpYvob4BrgBYyun8vN1x0icqeqPrzCdXHgXrPPtQb4sqo+KCJ3Aqjq3cADwDuBY8Ac8GHzWE5EPgY8BISBv1fVQ2uT6F86myKIuD+z2MrPi4G8eLM3S4yMJNOIQKzOm0FqqwxuMpJM0xypIVrjreYrcK/7NJFM09XszvaqS1nUPJN2tfs0MZNxzEssxUD0A79sVdBmuOnvAH8M/DuwrIFQ1RPAVct8fnfRawV+bYXrH8AwIOuW2nCIjsaIJ11MdeEQjR60slobaqkLh1yPkU/MpOlojFDjwd4bXR4tt5GYSbu6omkxxZWlm4zMpE0vdcHVfMG7hkBixrmQ9VL6GC4tbr2r6svAG00DEFAhXoQDJpIZumIRT1pZIuJJOOBIMuPqulPFNNTV0Byt8Uize4v0FdPZVGd6xxtHs1fdp9baU05QioE4IiJ/KyI3m39/AxwVEW/M9DrDi9nUI8m0Zw8RBJrdwkvNNeEQnU2Rxb0Z3MJLzS31tdTVhFz9ndMLeabnnZsYWIqB+BDGGMFvAL8JnDA/WwBucaRUGwgvPIiRZNrVvS+W4o3mzIbSrKqGp7iBNM9n88ykc54sMQ6Gdxx32TsedTgQoZQw13lV/V+q+lOq+pOq+heqOqeqBVVNOVKqDcSm5ihjqQy5fMG1PBMz3rnhgOtLEuTyBcZnM65uFLQUtzVPzy+QzRc2lGYv9nVZivuaPTYQ5uJ8XxORl0XkhPXnSGk2IPFYBFUYS7mzN/VcNsdMOufZ4CUYg7Yz6RxzWXe24RxLZVF1d++LpVjjLm7tTe3FHidLcduD8I9mFw2Ew3NdSl2s72+BHEaX0j8C/+RIaTYgbod9Lm5B6eJOcks5u7OcO5XH4uZIHmvO5gtMzbkzbOfFTnJL6WqOMj6bYcEl79gvmt3sYkosrj3lzJymUlKtV9XvAqKqr6nqHwA/4khpNiBuh8b54SHa0JpdGsD0hVGMRU3veAM1BGJRZjLueceJmTQ1IaHJoX2/SjEQaREJAa+KyMdE5KeALmeKs/E4uz2jSw/RjD/ccNigml1qXVrfrZddiV5ojtSEiNW7t73qUtzWPJLM0NkUIeRQyHopBuI3gAbgPwPXAh8APuhIaTYgHU0RQuLeTlRWPp4OXrrsQSSSaUJifNde4YXX1FJfS7Q27Ep+y+GF5njMm1nUFm5rTsxkHG0ElGIgdqhqSlVPq+qHVfWngQscK9EGIxwSOpvcG8xbbGVFvWtlxaI1RGpCrnkQCbOV5eaqokuxQi/d1OxliCucXZvIrV3WNqZmY2kRpyjFQHyyxM8C1oibW1L6oZVlxIu7Fw5oLL/gnccEEK0N01Jfu6E0u+0d+0Hz4sq968SDWLEZKSLvwFhIb6uIfKboUAwjoinAJuKxCGem3DQQ3raywN1wwJFkhq2t3lYc4K7mRDLDDbsaXclrJcIhYVOzu5pvvtjbezsWrSFaG3JFczZXYGI266jXtJoHMQg8C6TN/9bffcCPO1aiDYib+/cabrj3laWh2T03fJMPNLu19WihoMZCfRtI82wmRyqT81zzWe/Yec1WdJiTmlf0IFT1IHBQRL6kqoHH4CDx5ijjs1kW8gVqw87t0aCqDCfT9F7ifRBavDnK/plRx/PJ5PKMz2bZ7HHXAxgP8onRccfzmZjLspBXNvvAU+xqjnJmat7xfIbNBtbmFu81x5vdWXfrHM0OfcWrdTG9yNl9qF93XFWvdKZIGw+ry2d0JkN3a71j+aQyOeayeX88RLEIKbPV1xRxbsDcWqvGL5oTM2kKBSXk4ID5yGLF4b1RjMciPHdq0vF8/DDXxaIrFuHlwaTj+SSKNI8OO5PHak/mu53JMmApi/sFJNOOGgi/PURg3ORNm5ocy2fEB2G9Fl3NERbyyuRc1tGQW39pNrzjbK5AXY1z3rGv7u3mKPuSCcfzGZ4uMhAO5bHiL2bOmn5NVV/DGIe4wvybNz8rCREJi8hzInL/Msd+R0SeN/9eEpG8iLSbx/pF5EXz2IHypVUPXYvLbTjbb3l2rRrvH6K4y5r90MV0NkZ+I2k2vWOHZ1P76t6ORZjN5kllnO2ZHzG3V21vcGgaNaUt1vdzwNPAzwI/BzwlIj9TRh6/Dhxe7oCq/rmqXq2qV2OEzu5X1YmiU24xj+8tI7+qw7qpne63LG5xeE3XBtbsdEizpdmrZa+LcWvi2PB0mqZIjaPdlaXiluaRaSMQwcnuylJ8vv8CXKeqv6SqHwSuBz5VSuIisg14F/B3JZz+PuArpaS73uhorCMcEsejekYWl0P2Q8XhzpIE1vaqbQ0e7K+6hMXWtMOaEzNpOpvqHA14KJUul35nL7dXXYpbmkdc0FyKuQ2panGH2jilGRaAvwR+F2he7SQRaQBuAz5W9LECD4uIAp9X1XtWuPYO4A6AeDxOX19fiUU7l1QqteZr7aClDg4e7acvMuRYHs++nKG+Bp5+4nHAW82qSiQMB15+lYsKpxzL54WjaWJ1yv79+wFvNS8UjKW+n3zhMF2zxx3L59DJNI0hXdTppeZkxtD8+LMvEh17xbF8jg7MEwnhC81DKWP12r6nniMz4JxHc2Jojq1NIfr6+hzTW0rpHxSRhzjbuv954IHzXSQi7wYSqvqsiPSe5/SfAL6/pHvpRlUdFJEu4Dsi8oqqPrb0QtNw3AOwd+9e7e09X1bL09fXx1qvtYOeQ99H6mvp7b3esTy+OvAsW9tT9PbeDHivufvZPupaWujtfaNjeXz+6JNsryvQ2/sWwHvN7d//Dg0dm+ntvcKxPP7nwe+xuyNKb+91gLeaCwXlt/Z/m5bNPfT2XupYPv/lyUe5Yns7vb1XA95qTmVyfPLxh+jYtpPem3Y7l8++h7h89zZ6e/c4preUHeV+B/g8cCVwFXCPqt5VQto3Au8RkX7gq8CPiMiXVjj3dpZ0L6nqoPk/AdyL0bW1bulqjjg+WW44mfbFwKWFG7NsR3ymuavZ+XW3vN5/u5jQ4mxq5zRbEwP9orkpUkNDXdhRzbOZHDOZnOOaSxmk/k3gaVX9LVX9TVW9t5SEVfWTqrpNVXdgGIBHVfUDy6TfAtwMfKPos0YRabZeA7cCL5WSb7XixjIMiaR/+mnBGMxz2iiO+Eyz07Pms7kC47NZX4wzWXQ5vO7WpDkx0E+anV5r7GxYr7OaSxlLiAEPicj3ROTXRCReSYYicqeI3Fn00U8BD6vqbNFnceBxETmIEUH1LVV9sJJ8/U68Ocrk3AKZXN6R9I1WVsZXrem42bJ0ahvOVCbHbDbvS81OYYWT+k2zkwO2fgrrtehaJ5rPOwahqn8I/KGIXIkx/rBfRE6r6ttLzURV+4A+8/XdS459Efjiks9OYHRnbRgsV3F0JsO2tgbb0x+fzZIrqG/ccDA0zy8Y8eLNUfujjPwU4moRj0UZTWUcm03tV83P9E+c/8Q14qeJgRbxWJQXTk85lr5bmsuJg0sAwxhRTN4v5rPOODub2plWh59mmlo4rTnhQ83xWIR8QRmfzTqSvl81O+kd+2lpEQujy9g579gtzaWMQXxURPqA7wKdwK8E6zDZz+JkOYf6Ld3qsywHpzUP+1Cz07vp+VmzU10uluZNHu4YuBTLO55xaDb1cDJNY13Y8YmBpaS+HfgNVX3e0ZJscBZ3onLMQFiL1vmnlXV29y1nNfupNd21uLNcGmixPf2RpLn8QqNzyy+US7Hmnnb7u0+NfZnrHF3rqVwWdxBMpok50H2aSGaIu/AslxLm+onAODhPW0MdtWFxbKvC4WQaEej0USvrbGvauW615kgNjT5YfsHC6fWYRswtKL3cMXApbmn2E05rHk6mF9czcxL/mNwNTigkdDU7FxqXSKbpbIr4YvkFC2vtHOe8prQrraxy2OS4p5j2lZcIzq9NFGh2Dv/UFgF0xSKL+xfYzbBPthpdSlcsQmIDaa4Nh+hsqttQmtsaaqkNi2Oa/bKNbjFnu9Xs16yqxs6QLmgODISPiDvoQYwk/TUHwiLe7NzEsUQy46vxB4uuDaZZxDnveCFfYCyV9Z3mxkgNzQ55x5NzC2TzBVee58BA+AgrNM4JjBnF/nqIwDnNhYL6asmJYpzSbO3Q51fNTkQxWS10P2ruckizm3NdAgPhI7piUabnF0gv2BsvnsnlmfDJvsxLsZYksDtefGLOmBjoZ812sxgbH2j2BY5pngkMxIZksd/S5lZHYjHc01/9tGAM2mZyBZLz9saLn21l+U9zV3OEsVSGXL5ga7oj09bsWn9qdqSy9LtmB0K4R1y8twMD4SMWIx9svqkSLrY4ymUjau6KRSkots+mtr5DP7amu2JRkumc7d6x/z0I+2dTW92TboT2BgbCR5ydWWyvBzHkw/V5LALN9rEhNSetHQP9MzHQoisWJeuEd5ycp6PRnYmBgYHwEfGYMzHyQ1NGet2t9bamawdOag6HxKeVpXOaW+prfTUx0GJRs82e4tCUMR/AyX2Z14pTmgen0q49y4GB8BEt9bXU1YRsrzgGp+dprAsTi/qv4rDc5GEHNMebI4R9WXE4o3loep4tPpswZrGoeTrQXCluag4MhI8QETbHovZXllPzbGmt99XyCxb1dWFa6mvtN4qmZj/S2WQYLrs1n3GxZVkuTs0sdrM1XS6bHWoIrCsPQkTCIvKciNy/zLFeEZkWkefNv08XHbtNRI6IyDER+YTT5fQL3a1RBqfmbU1zaDrt21YWGF1fG0lzOGQ0BM7Yrtm/relY1FhWxU7N+YIynPTv7xyPRRHB1ns7mV4glcmtKw/i14HDqxz/nqpebf79ERhGBfgc8A7gMuB9InKZ80X1HqOytL/FsdWnrSyAra1RztioWVUZmva3ZrsbAvPZPFNzC75tTYuI7ZpHZzLkC+pbzXU1IbqaI7Zqdns80VEDISLbgHcBf1fmpdcDx1T1hKpmga8C77W7fH5ka2s9w8m0bTHymVyesVSGLS3+fIjAfg9ifDZLNlfwbcsS7G8IDE7Pm+kGmv1EtWt2etTyL4HfBZpXOefN5t7Tg8Bvq+ohYCswtoi8ogAAGvRJREFUUHTOaeCG5S4WkTuAOwDi8Th9fX1rKmgqlVrztXYyM7JAvqB84+E+Ouort9+JOcPQJIf76es7c84xv2ieH88yPb/Ag4/sI1pT+ThJ/7QRaz9++jh9fa+dc8wvmhems5yZXODRffsI2TA2dGjM0Dxy8gh908fOOeYXzcxm6B/N2VaWp4eN8NEzrx6ib/jcTgq/aK7Jpjk2VrCtLPsHFgDof/l5Zk6erR+c0uuYgRCRdwMJVX1WRHpXOO2HwHZVTYnIO4GvAxcByz0xy842UdV7gHsA9u7dq729K2W1On19faz1Wls5kuCLh55hx2VXc+329oqT+8HxcXjsSW654Y289aLOc475RfN06xn+9ejzXHjlXi7sWq0tURoPvjQMP3iWW2+8jiu2nbspj180D0T6eeDkIS7f+2ZbJjwlnhmAAy/wzpvfzAUd527K4xfNLxVepe/0Ud5049uI1oYrTu/Vx07A84d5z4++jZaGczfl8Yvm78++zItPvsbNN99sS5DIgYeOEHr5GO+9tZeaoqX7ndLrZBfTjcB7RKQfo4voR0TkS8UnqGpSVVPm6weAWhHpxPAYeopO3YbhYax7rH5zu/rkh0yXdIuP3fCNqNnqQ7ar+8Hqeoi3+G/JCQtL85BNYZ+D0/M01IWJ1fsvfNuiu7We9EKBybkFW9IbnJ4nHoueYxycxLFcVPWTqrpNVXcAtwOPquoHis8Rkc1imlURud4szzjwDHCRiOwUkTrz+vucKquf2LJYcdjTJ289jN0+H4MAezXX1YTo8NG2m0uxXfNUmk3NESI1lbfMncIJzd0+Dd+2cEqzW7g+D0JE7hSRO823PwO8ZI5BfAa4XQ1ywMeAhzAioP7FHJtY9zRFamipr7XthhqcmqetoZb6Ov9WHF3mhDY7NXe3+GvbzaXYXXEMThua/cxZT9GuhoB/w3otql2zK76ZqvYBfebru4s+/yzw2RWueQB4wIXi+Y4tLfaFAxrzAfzrPQDUhEPEmyM2PkT+1xyL1tBYF7ZV84WbmmxJyynsnhcwOJ3m0s0xW9JyCqsyt0OzqjI4nebWPZsrTqtUgpnUPmRra71t/fGDU/O+DgO0sDPU1ZhF7W/NxrwAezSralVorqsJsanJnnkBmVye0ZmM7zW3N9YRqQnZotmL8O3AQPiQ7tb6xYHWSjEMhL9b02Bprtwo5vIFRpL+niRnYZfm5HyOuWx+Q2kemc4spudnRIStrfUM2qDZi0U3AwPhQ7pb65maW2A2U9kywbOZHMl0zvfdLWBWHFNpCoXK1s5PzGQoKFWj2Y6WpRXBVA2aDe/YPs1+Dr6wsPt3dlNzYCB8iNUlVKkXYT2I1dHFFCWbLzA2W9l+AVWluSXKWCpb8SY6ZyarR7M1vlbpJjrVqLlSvNAcGAgf0m3TvICBiTkAetobznOm91itokrnBVSVZpvmBQxMVpdmO+YFDEzOIQJb26rDg0jMZMjmKls+Z2Byjoa6MO0uhm8HBsKHLBqIycpaHYuVZVt1VBxgh2bj+mrpjwd7NNfXhn0978PCTs3x5qiv531YbG2tR7XyfSEGJubpaWtwNXw7MBA+ZHMsSk1IOG22DNfKwKRRcXQ2+b/i2NZuVByVa54jHovYspSD0/TYqLmn3d8Txizs1lwN2HVvn/ZAc2AgfEg4JGxrq+fURIUP0cQc29qqo+KIRWtpa6i1RXM1eExgDCrXhGRDaba6wSrVfLqKNF9gg2ZVNZ9ndzUHBsKn9LQ3LHYRrZWByfmq6Je2uKC9ofKKo4o029EQUNWq0mxHQyCbKzCUTLOtSjTb0RCYnFtgNpt3/XcODIRPqbSyVFVOT8wttl6qgUqNYjZXYGi6eipLqFzz1Jyxw1g1aa703jaioKiae9uOhoB1j7itOTAQPuWC9gYm5xZIptcW7TE1t8BMJse2KojysLigvYHTk/Pk1zgXYnBqnoJCT5VprqTiOLUYiFA9mnsCzWWzqDkYgwiAsy2FtbYuqyn00eKC9gZyBV3z/I9q1VxJQ6BaNZ+ZnF/zronVqrkiD8LSHIxBBMDZm3/NBsIM96yWgTyofDBvUXOVVRxgw+9cZZqNhsDawj4HJuapDQvxmP8nyVlc0N7A1NwC0/NrbAhMzNPeWEdjxN29LwID4VOsXcHWXFlOeuOSVkLFRnFyjtqwsLmKKg47NLc11NLkcsVRCXZ4x1tb6wmH/B+dZ1Gp5tOTc550qQUGwqfEorW0VhDtMTAxR2tDLc3R2vOf7BO2tEQrivYYmJiju9oqjkobAhNzVeU9QOWhrqerWPPaPcU5T6K2AgPhY4x+y7X1x782Psf2KnuIasIhtrbVV6S5WiJbLCptCFSj5koaAqrKybHZqtNcSUNgIV/g9OS8J8+z4wZCRMIi8pyI3L/MsfeLyAvm3xMiclXRsX4ReVFEnheRA06X049UEgJ5cmyWXT7fQGY51jqYZ1Ucu6tWc/lGMZPLc3pyrup+57MNgfJ/Z2NAP1d1mitpCJyenCdXUE80u+FB/DrGtqHLcRK4WVWvBP4YuGfJ8VtU9WpV3etkAf3KdtNALJQZ7ZFeyHNmap6dnY0Olcw5Lmhv4ORoquzVPkdTGVKZXPVqHkuVfd3AxBwFhV1Vq3m27Ous76kaNW+vULMX97ajBkJEtgHvAv5uueOq+oSqTppvnwS2OVmeamP3piZyBS271dE/btyE1VhZ7t7URDKdY3w2W9Z1J0erW/Ppyfmyl/0+UeWaT4zOlr3/x3rQXC7WNV4YRadDH/4S+F2guYRzfxn4dtF7BR4WEQU+r6pLvQsAROQO4A6AeDxOX1/fmgqaSqXWfK1TTE8bFcbXH32Sa+Ol/1TPDBsbDY33H6Zv8uiK5/lR89yYUfavPfw4l7aXvuDe/gEjfHDk2Iv0Da7c7vGj5uxYDlX41wf309NcepvtkZOGET39ynNMHl95YN6PmgtTC8wv5Ln3oX101Jeuef/RLGGB4y88Tf8qwQh+1BxKZRlOLvDtR/ZRX1N6IMX3D2VorIWDzzyx4jmO6VVVR/6AdwN/Y77uBe5f5dxbMLqhOoo+6zb/dwEHgZvOl+e1116ra2Xfvn1rvtYpkvNZ3X7X/fq5fa+Wdd1nH31Vt991v86kF1Y9z4+aT0/O6fa77tcvPdlf1nV/+q2X9aLfe0Bz+cKq5/lR86Ez07r9rvv1mwfPlHXdXV87qNf80cPnPc+Pmp84Nqbb77pf9x9JlHXdnf90QG/5833nPc+Pmr/94pBuv+t+ff7UZFnXve+eH+h7P/v4qudUohc4oCvUqU52Md0IvEdE+oGvAj8iIl9aepKIXInRBfVeVR23PlfVQfN/ArgXuN7BsvqS5mgt8ViE44ny3NL+sVm6miNVFRtvsSUWpb42XLbmk2OzbO9oqKoQV4udnY2IsCbN1djVArC7yyj38dHyxl6qWfOFa9TcPzbr2ZiLYwZCVT+pqttUdQdwO/Coqn6g+BwRuQD4d+AXVfVo0eeNItJsvQZuBV5yqqx+ZvemJo5toIcoFBJ2bWrcUJrr68Jsba3fUJo3NUVojtaUVVkWCkr/ePVqvqC9kXBIytI8n80zOJ32TLPr8yBE5E4RudN8+2mgA/ibJeGsceBxETkIPA18S1UfdLusfmD3piZOJEqP6lFVXk2kqi4MsJjdm5o4nij9IVrIF+gfr86wXotyNU/PL5CYyVStZhExNZfuNZ2Zmie9UKhazXU1Iba3N5Sl2TImXml2pQ9CVfuAPvP13UWffwT4yDLnnwCuWvr5RuTCriZmMjlGZzJ0lbCERGImw/T8ApduLiUuwJ9c2NXEfQcHmc/mqa87/0D1ybFZFvJa9ZqfOjlOoaCESugmOzoyA1D1mh87Olry+UeGDc2XVLHm3V1NZXkQXmsOZlL7HGviV6ndD6+sh4fI1HyixLkB60VzeqHAYIkr2a4XzYmZTMkr2R4xjeLF8er0IMDQ3D8+W/JKtkdGZqirCbGjw5uZ44GB8DnWYN6xErsfjgwnAbgkXsUVxxo0h82xi2plt1n2V8vQ3BytYUtL9SxMuJT/v717D46rvg44/j3S6mG9JWTJlmRbtpFt2fIL/OA9NnZaCASYtLShecNMJtNA6SNtnf5BSPOiQ6aTtE3DMJSSlgyUkkyLMQHCw0ABgzG2ZMuyQX5KtmQ9bEkrC0le7ekfe9fI8q4k27p7tVfnM+PR7r13755jrfbc+7u/+/tFcx7v73lfa5DygmlJNb7YSPOnZ3NmSDkyznub9rUGuXx6DoFUb76qrUBMcjPyMsmflkZDS8+4tt/XGqQkN4PC7HSXI3PPvOIc0lKFvePMeX9rkHnF2WQExn/fxGQTPRMY7+95f2uQhaW5STHfeDyLZuQBF5JzT1I3qUHy5WwFYpITEZaU5VF/fHwfqI9OBJO62QEiF/MWlOayd5w57/dBzgVZ6VQUThvX71lVIwUiyXOeVTSN3MzAuHIeDIU52H466XNeMCOHQIqMK+euvkFO9Ax4mrMViCSwpCyPfa3BMcdkGgorH5/oTfqjLOBsURyr91bvQIimk5/4JufxFMXWnn56+kNJn/OFHPwc7OglFNakLxAZgVSqSnPHlbPXF6jBCkRSqCnPZzAUHrP3w4H2XgZC4bOnscmspjyfk6cHae0Zfdax6Km6L3Iuy+dQx2mCY1y0rT/m5DzTHznva+kZ86JtNOdqX+ScR/2x7jEPfqJFxMucrUAkgSVlkQ/InmOjH3XsauoCYPmsAtdjctt4c671U87l0fbp4Kjb1TZ3kZoi1JTlJyIsVy0pz2MgFObAGIPY1TZ3kZ2empTDuY+0pCyPztOR5qPR1DZ3MSMv09OpVa1AJIG5xTlMS0ul/nj3qNvVNnWRmxFIyqGQR6qemYcIY+a8q6mL8oJpTM/NSFBk7ol+4Y8n5wWlueO6R2SyG2/OtU1dLK3IT8qhVEaqKR9/zstneXsQYAUiCaSmCDXleWfPEOKpa+5m2az8cd1oNdllpQeoKskZV85e/xFNlJK8TErzMkbNWVWpa+5mhU9ynjc9h+z01FFzHggN0dAS9MVZIsDisjxSU2TUnLv6Bjnc2ed5zlYgksSqyiJ2N3fTNxiKub5vMERDSw/LK/zxRwSRnHccPsVQnDkD2oMDHD3Z57uc3z90Mm779MGO03R/csY3OaemCFfMKeT9QyfjblN/vIfBoTArfJJzVnqAJWV5vDdKzjud4uF1zlYgksSayiJCYWXX0dhHHR8cPkUorKydd1mCI3PPmsoiggOhuH3Gtx2MDP7rt5xbuvtpPhX7jup3D/gv59WVRew/EaS7L/bF+WjOq+cWJTIsV62uLGJXUxcDodiTRG070ElaqrBydmGCIzuXFYgkccWcQkTg/cOxjzrePdhJIEVYNcfbD9REin4hbB8l55yMADVlyd+zJWp15dg5z8jL9GzoBTesrixCFT44EjvnbQc7WViaS3FO8l9nilpdWcRgKMzu5tjXId492MnKWYWeX2eyApEk8qelsaw8nzfiDG72zoFOVswqIDsJ54CIp7xgGpWXZcXN+d0DnaydW+TZMARuWDQjl8uy02PmHA4r2w50cs38y5L6DuqRVs4uYFpaasycB0JDbD98kqvn++eMCeCqeUWkpkjMnLs/OcOeY92TImf//GVNARuqS9nV1EV78NzucSd6+qlr7uL6qukeReaeDdWlvNPYyemBc6+9NLYFOdRxmuurij2KzB0pKcL6RSW8vq/tvBsjdzadovP0INcv8FfOmWmpXFdVzCt7T5x37eXtxg76z4S5wWc5F2Slc+WcQn6398R5617bd4KwMilytgKRRDZWl6IKrzac+6H67e4WVOGWZTM8isw9G6tLGRwKnzcs9Ja6VkTg5qUzPYrMPRurS+npD7F9xEXMLXWtpAdS2Fhd6lFk7vlMdSnHu/vPu8N4S10ruZkBrrvcfwc/n6kuZV9rkKYRA/dtqWtlZn4mK2d531xsBSKJVM/MZV5xNv/1QdM5yzfXtbCwNJfLS5J7GIJYVlcWUpKbcU7OqsrmuuOsnlPk6U1EbrlhQTG5GYFzcg4NhXlhdws3VE1P6tFM49m4uJT01BSeGZZz/5khXt7byu8tnkF6wH9fVTfVzECEc3Lu7jvDmx+3c3PNzEnRXd31/3URSRWRnSLyfIx1IiL/JCKNIlInIlcMW3eTiOx31m1yO85kICJ86ao57DzaRV1zpDdTbVMXO46c4s5VFR5H545Aagp3rZnNGx+1c6gjcrftWx930NjW69ucs9ID/MGVFbywu4W2YGSokd/uaaW1p58/8mnORdnp3LpsJr/e0Xx2fohndzQT7A/5NudZRVncuLCEp94/erY305PvHWEwFJ40n+1ElOX7gYY4624Gqpx/3wB+AZGiAvzcWb8YuEtEFrsf6uT3h6sqKMhK4/vP76V3IMSDm+spzErjj1fP8jo013xx7WwyA6n8/eZ6gv1n+OGWBsryM7ltRZnXobnma9dUAvCD5xvo7jvDP7y4j6qSHF82L0Xdfd1c+s4M8fCL+2kL9vPTVz7iitkFrPFR99aR7rl+Lh29g/zzq400nezjka0HWL9w+qQZc8rVAiEiFcAtwGNxNrkd+A+N2AYUiMhMYA3QqKoHVXUQeNrZdsrLy0zjwc8tYfvhUyx78CV2Hu3ie7fX+LLZIaokL5NNNy/i9f3tLP/ey3zcFuSHn1+a1PM/jKWyOJv7bqziudrjrPz+y7T1DPCjzy+dFM0Obqkpz+fua+fyn9uOcPWPX+P0wBA/uGOpr3psjXTN/GLuvLKCf3m9kXU/2QoC3/3cEq/DOkvGGlHwknYu8izwYyAX+Laq3jpi/fPAQ6r6f87zV4G/BSqBm5w5qxGRLwNrVfXeGO/xDSJnH5SWll759NNPX1Ssvb295OQkz0BgH54Isat9iJUlqawsubiurcmW87bjIfaeHGLtjABLii+uOCRTzqrKW8dCHOgKc115gKpC/+ccVuW1oyGae8OsqwhQme//nIfCystHQrT3hdkwO43y3As/br+UfNevX79DVVfFWudap3kRuRVoU9UdIrIu3mYxlukoy89fqPoo8CjAqlWrdN26eG81uq1bt3Kxr/XCugnYh+U8+a2fgH0kW843TsA+ki3nDZf4erfydfOuqmuB20Tks0AmkCciT6rql4Zt0wwMbzyvAI4D6XGWG2OMSRDXrkGo6ndUtUJVK4EvAK+NKA4AzwFfcXozXQV0q2oLsB2oEpG5IpLuvP45t2I1xhhzvoSPyyAi3wRQ1UeAF4DPAo1AH/B1Z11IRO4FXgJSgcdVtT7RsRpjzFSWkAKhqluBrc7jR4YtV+BbcV7zApECYowxxgP+uz3RGGPMhLACYYwxJiYrEMYYY2KyAmGMMSYmV++kTjQRaQeOXOTLi4GOCQwnGVjOU4Pl7H+Xku8cVY05nrqvCsSlEJEP4t1u7leW89RgOfufW/laE5MxxpiYrEAYY4yJyQrEpx71OgAPWM5Tg+Xsf67ka9cgjDHGxGRnEMYYY2KyAmGMMSamKV8gROQmEdkvIo0issnreNwmIrNE5HURaRCRehG53+uYEkVEUkVkpzOToe+JSIGIPCsi+5zf99Vex+Q2EfkL53O9R0SeEpFMr2OaaCLyuIi0icieYcuKROR3IvKx87NwIt5rShcIEUkFfg7cDCwG7hKRxd5G5boQ8FeqWg1cBXxrCuQcdT/Q4HUQCfQz4EVVXQQsx+e5i0g58GfAKlWtITJVwBe8jcoVTwA3jVi2CXhVVauAV53nl2xKFwhgDdCoqgdVdRB4Grjd45hcpaotqvqh8zhI5Euj3Nuo3CciFcAtwGNex5IIIpIH3AD8G4CqDqpql7dRJUQAmCYiASALH85EqapvAidHLL4d+KXz+JfAHRPxXlO9QJQDTcOeNzMFviyjRKQSWAm8520kCfFT4G+AsNeBJMg8oB34d6dZ7TERyfY6KDep6jHgJ8BRoIXIDJUvextVwpQ6s3Hi/CyZiJ1O9QIhMZZNiX6/IpID/Br4c1Xt8ToeN4nIrUCbqu7wOpYECgBXAL9Q1ZXAaSao2WGyctrdbwfmAmVAtoiMnObYXICpXiCagVnDnlfgw1PSkUQkjUhx+JWq/sbreBLgWuA2ETlMpBnxRhF50tuQXNcMNKtq9OzwWSIFw882AodUtV1VzwC/Aa7xOKZEOSEiMwGcn20TsdOpXiC2A1UiMldE0olc0HrO45hcJSJCpF26QVX/0et4EkFVv6OqFapaSeR3/Jqq+vrIUlVbgSYRWegs2gDs9TCkRDgKXCUiWc7nfAM+vzA/zHPAV53HXwX+dyJ2mpA5qScrVQ2JyL3AS0R6PDyuqvUeh+W2a4EvA7tFZJez7O+cOcCNv9wH/Mo5+DkIfN3jeFylqu+JyLPAh0R66+3Eh0NuiMhTwDqgWESage8CDwHPiMg9RArlnRPyXjbUhjHGmFimehOTMcaYOKxAGGOMickKhDHGmJisQBhjjInJCoQxxpiYrEAYE4czGuqfDnte5nSjdOO97hCRB0ZZv1REnnDjvY2Jx7q5GhOHM1bV887IoG6/1zvAbaraMco2rwB3q+pRt+MxBuwMwpjRPATMF5FdIvKwiFRGx+AXka+JyP+IyGYROSQi94rIXzoD420TkSJnu/ki8qKI7BCRt0Rk0cg3EZEFwEC0OIjInc58BrUi8uawTTfjz+GrzSRlBcKY+DYBB1R1har+dYz1NcCfEBk2/odAnzMw3rvAV5xtHgXuU9UrgW8D/xpjP9cSufs36gHg91V1OXDbsOUfANdfQj7GXJApPdSGMZfodWdOjaCIdBM5wgfYDSxzRsy9BvjvyNBAAGTE2M9MIkNzR70NPCEizxAZcC6qjcgopcYkhBUIYy7ewLDH4WHPw0T+tlKALlVdMcZ+PgHyo09U9ZsispbIBEe7RGSFqnYCmc62xiSENTEZE18QyL3YFzvzbBwSkTshMpKuiCyPsWkDcHn0iYjMV9X3VPUBoINPh6RfAOyJ8XpjXGEFwpg4nKP2t50Lxg9f5G6+CNwjIrVAPbGntH0TWCmftkM9LCK7nQvibwK1zvL1wJaLjMOYC2bdXI2ZBETkZ8BmVX0lzvoM4A3gOlUNJTQ4M2XZGYQxk8OPgKxR1s8GNllxMIlkZxDGGGNisjMIY4wxMVmBMMYYE5MVCGOMMTFZgTDGGBOTFQhjjDEx/T9TTlUt2T6hDgAAAABJRU5ErkJggg==\n",
          "text/plain": "<Figure size 432x288 with 1 Axes>"
         },
         "metadata": {},
         "output_type": "display_data"
        }
       ]
      }
     },
     "d7c72b98ccd04c6ea4fcec295f0174ff": {
      "model_module": "@jupyter-widgets/controls",
      "model_module_version": "1.5.0",
      "model_name": "IntSliderModel",
      "state": {
       "layout": "IPY_MODEL_980cca4e167c4434b55006e3e2cd1db8",
       "max": 10,
       "min": 1,
       "style": "IPY_MODEL_770eab8c3fd442b9a44219851443a22f",
       "value": 10
      }
     }
    },
    "version_major": 2,
    "version_minor": 0
   }
  }
 },
 "nbformat": 4,
 "nbformat_minor": 4
}
