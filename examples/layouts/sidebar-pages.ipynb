{
 "cells": [
  {
   "cell_type": "code",
   "execution_count": null,
   "metadata": {
    "tags": [
     "parameters"
    ]
   },
   "outputs": [],
   "source": [
    "flex_author = \"built using jupyter-flex\"\n",
    "flex_source_code = \"https://github.com/danielfrg/jupyter-flex/blob/master/examples/layouts/sidebar-pages.ipynb\""
   ]
  },
  {
   "cell_type": "markdown",
   "metadata": {},
   "source": [
    "# Page 1"
   ]
  },
  {
   "cell_type": "markdown",
   "metadata": {
    "tags": [
     "sidebar"
    ]
   },
   "source": [
    "## Sidebar"
   ]
  },
  {
   "cell_type": "markdown",
   "metadata": {
    "tags": [
     "size=800"
    ]
   },
   "source": [
    "### This is the sidebar of page 1"
   ]
  },
  {
   "cell_type": "markdown",
   "metadata": {
    "tags": [
     "text"
    ]
   },
   "source": [
    "This sidebar only appears of page 1, page 2 doesn't have a sidebar, page 3 has a different one."
   ]
  },
  {
   "cell_type": "markdown",
   "metadata": {
    "tags": [
     "size=200"
    ]
   },
   "source": [
    "### This is another card"
   ]
  },
  {
   "cell_type": "markdown",
   "metadata": {
    "tags": [
     "text"
    ]
   },
   "source": [
    "Just a small note `size=` tags are supported here too."
   ]
  },
  {
   "cell_type": "markdown",
   "metadata": {},
   "source": [
    "## Content section"
   ]
  },
  {
   "cell_type": "markdown",
   "metadata": {},
   "source": [
    "### This is the Page 1 content"
   ]
  },
  {
   "cell_type": "markdown",
   "metadata": {},
   "source": [
    "# Page 2"
   ]
  },
  {
   "cell_type": "markdown",
   "metadata": {},
   "source": [
    "### This page doesn't have a sidebar"
   ]
  },
  {
   "cell_type": "markdown",
   "metadata": {},
   "source": [
    "# Page 3"
   ]
  },
  {
   "cell_type": "markdown",
   "metadata": {
    "tags": [
     "sidebar"
    ]
   },
   "source": [
    "## Sidebar"
   ]
  },
  {
   "cell_type": "markdown",
   "metadata": {},
   "source": [
    "### This is a completly different sidebar just for page 3"
   ]
  },
  {
   "cell_type": "markdown",
   "metadata": {},
   "source": [
    "## Content"
   ]
  },
  {
   "cell_type": "markdown",
   "metadata": {},
   "source": [
    "### This is the third page of this dashboard"
   ]
  },
  {
   "cell_type": "code",
   "execution_count": 2,
   "metadata": {
    "tags": [
     "chart"
    ]
   },
   "outputs": [
    {
     "data": {
      "text/plain": [
       "'Page 3 code'"
      ]
     },
     "execution_count": 2,
     "metadata": {},
     "output_type": "execute_result"
    }
   ],
   "source": [
    "\"Page 3 code\""
   ]
  },
  {
   "cell_type": "code",
   "execution_count": null,
   "metadata": {},
   "outputs": [],
   "source": []
  }
 ],
 "metadata": {
  "celltoolbar": "Tags",
  "kernelspec": {
   "display_name": "Python 3",
   "language": "python",
   "name": "python3"
  },
  "language_info": {
   "codemirror_mode": {
    "name": "ipython",
    "version": 3
   },
   "file_extension": ".py",
   "mimetype": "text/x-python",
   "name": "python",
   "nbconvert_exporter": "python",
   "pygments_lexer": "ipython3",
   "version": "3.7.6"
  }
 },
 "nbformat": 4,
 "nbformat_minor": 4
}
