{
 "cells": [
  {
   "cell_type": "code",
   "execution_count": null,
   "metadata": {
    "tags": [
     "parameters"
    ]
   },
   "outputs": [],
   "source": [
    "flex_subtitle = \"built using jupyter-flex\"\n",
    "flex_external_link = \"https://github.com/danielfrg/jupyter-flex/blob/master/examples/layouts/sidebar-pages.ipynb\"\n",
    "\n",
    "flex_show_source = True"
   ]
  },
  {
   "cell_type": "markdown",
   "metadata": {},
   "source": [
    "# Page 1"
   ]
  },
  {
   "cell_type": "markdown",
   "metadata": {
    "tags": [
     "sidebar"
    ]
   },
   "source": [
    "## Sidebar"
   ]
  },
  {
   "cell_type": "markdown",
   "metadata": {},
   "source": [
    "### This is the sidebar of page 1"
   ]
  },
  {
   "cell_type": "markdown",
   "metadata": {
    "tags": [
     "body"
    ]
   },
   "source": [
    "This sidebar only appears of page 1.\n",
    "\n",
    "Page 2 doesn't have a sidebar.\n",
    "\n",
    "Page 3 has a different one."
   ]
  },
  {
   "cell_type": "markdown",
   "metadata": {},
   "source": [
    "## Content section"
   ]
  },
  {
   "cell_type": "markdown",
   "metadata": {
    "tags": []
   },
   "source": [
    "### This is page 1"
   ]
  },
  {
   "cell_type": "code",
   "execution_count": null,
   "metadata": {
    "tags": [
     "body"
    ]
   },
   "outputs": [],
   "source": [
    "# <code>"
   ]
  },
  {
   "cell_type": "markdown",
   "metadata": {
    "tags": []
   },
   "source": [
    "## Col 2"
   ]
  },
  {
   "cell_type": "markdown",
   "metadata": {},
   "source": [
    "### Col 2"
   ]
  },
  {
   "cell_type": "code",
   "execution_count": null,
   "metadata": {
    "tags": [
     "body"
    ]
   },
   "outputs": [],
   "source": [
    "# <code>"
   ]
  },
  {
   "cell_type": "markdown",
   "metadata": {},
   "source": [
    "# Page 2"
   ]
  },
  {
   "cell_type": "markdown",
   "metadata": {},
   "source": [
    "### Page 2 doesn't have a sidebar"
   ]
  },
  {
   "cell_type": "code",
   "execution_count": null,
   "metadata": {
    "tags": [
     "body"
    ]
   },
   "outputs": [],
   "source": [
    "# <code>"
   ]
  },
  {
   "cell_type": "markdown",
   "metadata": {
    "tags": [
     "orientation=rows"
    ]
   },
   "source": [
    "# Page 3"
   ]
  },
  {
   "cell_type": "markdown",
   "metadata": {
    "tags": [
     "sidebar"
    ]
   },
   "source": [
    "## Sidebar"
   ]
  },
  {
   "cell_type": "markdown",
   "metadata": {
    "tags": [
     "size=9"
    ]
   },
   "source": [
    "### Page 3 sidebar"
   ]
  },
  {
   "cell_type": "markdown",
   "metadata": {
    "tags": [
     "body"
    ]
   },
   "source": [
    "This card has `size=9`"
   ]
  },
  {
   "cell_type": "markdown",
   "metadata": {
    "tags": [
     "size=3"
    ]
   },
   "source": [
    "### A second card"
   ]
  },
  {
   "cell_type": "markdown",
   "metadata": {
    "tags": [
     "body"
    ]
   },
   "source": [
    "This card has `size=3`"
   ]
  },
  {
   "cell_type": "markdown",
   "metadata": {},
   "source": [
    "## Content"
   ]
  },
  {
   "cell_type": "markdown",
   "metadata": {},
   "source": [
    "### This is the third page of this dashboard"
   ]
  },
  {
   "cell_type": "code",
   "execution_count": null,
   "metadata": {
    "tags": [
     "body"
    ]
   },
   "outputs": [],
   "source": [
    "# <code>"
   ]
  },
  {
   "cell_type": "markdown",
   "metadata": {},
   "source": [
    "## Row 2"
   ]
  },
  {
   "cell_type": "markdown",
   "metadata": {},
   "source": [
    "### Row 2"
   ]
  },
  {
   "cell_type": "code",
   "execution_count": null,
   "metadata": {
    "tags": [
     "body"
    ]
   },
   "outputs": [],
   "source": [
    "# <code>"
   ]
  },
  {
   "cell_type": "code",
   "execution_count": null,
   "metadata": {},
   "outputs": [],
   "source": []
  }
 ],
 "metadata": {
  "celltoolbar": "Tags",
  "kernelspec": {
   "display_name": "Python 3 (ipykernel)",
   "language": "python",
   "name": "python3"
  },
  "language_info": {
   "codemirror_mode": {
    "name": "ipython",
    "version": 3
   },
   "file_extension": ".py",
   "mimetype": "text/x-python",
   "name": "python",
   "nbconvert_exporter": "python",
   "pygments_lexer": "ipython3",
   "version": "3.8.12"
  }
 },
 "nbformat": 4,
 "nbformat_minor": 4
}
