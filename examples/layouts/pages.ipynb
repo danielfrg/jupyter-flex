{
 "cells": [
  {
   "cell_type": "code",
   "execution_count": null,
   "metadata": {
    "tags": [
     "parameters"
    ]
   },
   "outputs": [],
   "source": [
    "flex_author = \"built using jupyter-flex\"\n",
    "flex_source_link = \"https://github.com/danielfrg/jupyter-flex/blob/master/examples/layouts/pages.ipynb\""
   ]
  },
  {
   "cell_type": "markdown",
   "metadata": {},
   "source": [
    "# Page 1"
   ]
  },
  {
   "cell_type": "markdown",
   "metadata": {
    "tags": [
     "size=650"
    ]
   },
   "source": [
    "## Col 1"
   ]
  },
  {
   "cell_type": "code",
   "execution_count": null,
   "metadata": {
    "tags": [
     "body"
    ]
   },
   "outputs": [],
   "source": [
    "\"Page 1 - Col 1\""
   ]
  },
  {
   "cell_type": "markdown",
   "metadata": {
    "tags": [
     "tabs",
     "size=350"
    ]
   },
   "source": [
    "## Col 2 (tabs)"
   ]
  },
  {
   "cell_type": "markdown",
   "metadata": {},
   "source": [
    "### Col 2 - Tab 1"
   ]
  },
  {
   "cell_type": "code",
   "execution_count": null,
   "metadata": {
    "tags": [
     "body"
    ]
   },
   "outputs": [],
   "source": [
    "\"Page 1 - Col 2 - Tab 1\""
   ]
  },
  {
   "cell_type": "markdown",
   "metadata": {},
   "source": [
    "### Col 2 - Tab 2"
   ]
  },
  {
   "cell_type": "code",
   "execution_count": null,
   "metadata": {
    "tags": [
     "body"
    ]
   },
   "outputs": [],
   "source": [
    "\"Page 1 - Col 2 - Tab 2\""
   ]
  },
  {
   "cell_type": "markdown",
   "metadata": {
    "tags": [
     "orientation=rows"
    ]
   },
   "source": [
    "# Page 2"
   ]
  },
  {
   "cell_type": "markdown",
   "metadata": {
    "tags": [
     "tabs",
     "size=400"
    ]
   },
   "source": [
    "## Row 1"
   ]
  },
  {
   "cell_type": "markdown",
   "metadata": {},
   "source": [
    "### Page 2 - Row 1 - Tab 1"
   ]
  },
  {
   "cell_type": "code",
   "execution_count": null,
   "metadata": {
    "tags": [
     "body"
    ]
   },
   "outputs": [],
   "source": [
    "\"Page 2 - Row 1 - Tab 1\""
   ]
  },
  {
   "cell_type": "markdown",
   "metadata": {},
   "source": [
    "### Page 2 - Row 1 - Tab 2"
   ]
  },
  {
   "cell_type": "code",
   "execution_count": null,
   "metadata": {
    "tags": [
     "body"
    ]
   },
   "outputs": [],
   "source": [
    "\"Page 2 - Row 1 - Tab 2\""
   ]
  },
  {
   "cell_type": "markdown",
   "metadata": {
    "tags": [
     "size=600"
    ]
   },
   "source": [
    "## Row 2"
   ]
  },
  {
   "cell_type": "code",
   "execution_count": null,
   "metadata": {
    "tags": [
     "body"
    ]
   },
   "outputs": [],
   "source": [
    "\"Page 1 - Row 2\""
   ]
  }
 ],
 "metadata": {
  "celltoolbar": "Tags",
  "kernelspec": {
   "display_name": "Python 3",
   "language": "python",
   "name": "python3"
  },
  "language_info": {
   "codemirror_mode": {
    "name": "ipython",
    "version": 3
   },
   "file_extension": ".py",
   "mimetype": "text/x-python",
   "name": "python",
   "nbconvert_exporter": "python",
   "pygments_lexer": "ipython3",
   "version": "3.7.6"
  }
 },
 "nbformat": 4,
 "nbformat_minor": 4
}
