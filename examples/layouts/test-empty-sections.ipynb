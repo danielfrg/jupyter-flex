{
 "cells": [
  {
   "cell_type": "code",
   "execution_count": null,
   "id": "d078fde6-766a-46af-a4f2-b7ad398356fd",
   "metadata": {
    "tags": [
     "parameters"
    ]
   },
   "outputs": [],
   "source": [
    "# This notebook tests that an empty section should not be visible\n",
    "\n",
    "flex_subtitle = \"built using jupyter-flex\"\n",
    "flex_external_link = \"https://github.com/danielfrg/jupyter-flex/blob/master/examples/layouts/test-empty-sections.ipynb\"\n",
    "\n",
    "flex_show_source = True"
   ]
  },
  {
   "cell_type": "markdown",
   "id": "19760b5c-08fd-414e-8cf5-5ecc47af3699",
   "metadata": {},
   "source": [
    "## Section 1"
   ]
  },
  {
   "cell_type": "code",
   "execution_count": null,
   "id": "d1d75821-8c43-45b5-b913-dbdb8729788c",
   "metadata": {
    "tags": [
     "body"
    ]
   },
   "outputs": [],
   "source": [
    "print(\"Section 1\")"
   ]
  },
  {
   "cell_type": "markdown",
   "id": "2a5bab20-c3a0-4337-9aca-dd6f3551d4d8",
   "metadata": {
    "execution": {
     "iopub.execute_input": "2021-09-18T17:09:13.627360Z",
     "iopub.status.busy": "2021-09-18T17:09:13.627123Z",
     "iopub.status.idle": "2021-09-18T17:09:13.629817Z",
     "shell.execute_reply": "2021-09-18T17:09:13.629307Z",
     "shell.execute_reply.started": "2021-09-18T17:09:13.627337Z"
    }
   },
   "source": [
    "## Section 2"
   ]
  },
  {
   "cell_type": "code",
   "execution_count": null,
   "id": "f04f8726-210a-4c03-8534-93213641af38",
   "metadata": {},
   "outputs": [],
   "source": [
    "# nothing-here\n",
    "print(\"Section 2\")"
   ]
  },
  {
   "cell_type": "markdown",
   "id": "796a6e2d-59c8-4343-ac06-321ed8d17c69",
   "metadata": {},
   "source": [
    "## Section 3"
   ]
  },
  {
   "cell_type": "code",
   "execution_count": null,
   "id": "0ce96ebc-fcd9-4779-8d5d-0f816a4a31f8",
   "metadata": {
    "tags": [
     "body"
    ]
   },
   "outputs": [],
   "source": [
    "print(\"Section 3 (2 is empty)\")"
   ]
  },
  {
   "cell_type": "markdown",
   "id": "dfe0c4d2-ef8e-4c06-a8cc-57cdbc2baa5c",
   "metadata": {},
   "source": [
    "## Section 4"
   ]
  },
  {
   "cell_type": "code",
   "execution_count": null,
   "id": "b97c4e2f-6c86-4744-b467-b56f612ac190",
   "metadata": {},
   "outputs": [],
   "source": [
    "# nothing-here\n",
    "print(\"Section 4\")"
   ]
  }
 ],
 "metadata": {
  "kernelspec": {
   "display_name": "Python 3 (ipykernel)",
   "language": "python",
   "name": "python3"
  },
  "language_info": {
   "codemirror_mode": {
    "name": "ipython",
    "version": 3
   },
   "file_extension": ".py",
   "mimetype": "text/x-python",
   "name": "python",
   "nbconvert_exporter": "python",
   "pygments_lexer": "ipython3",
   "version": "3.8.12"
  }
 },
 "nbformat": 4,
 "nbformat_minor": 5
}
