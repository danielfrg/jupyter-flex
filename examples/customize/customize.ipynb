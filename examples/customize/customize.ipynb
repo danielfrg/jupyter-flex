{
 "cells": [
  {
   "cell_type": "code",
   "execution_count": null,
   "metadata": {
    "tags": [
     "parameters"
    ]
   },
   "outputs": [],
   "source": [
    "flex_title = \"Customize CSS\"\n",
    "flex_author = \"A custom dashboard\"\n",
    "flex_logo = \"logo.png\"\n",
    "flex_favicon = \"favicon.ico\"\n",
    "flex_custom_css = \"custom.css\"\n",
    "flex_source_code = \"https://github.com/danielfrg/jupyter-flex/blob/master/examples/customize/customize.ipynb\""
   ]
  },
  {
   "cell_type": "markdown",
   "metadata": {
    "tags": [
     "class=red"
    ]
   },
   "source": [
    "# Page"
   ]
  },
  {
   "cell_type": "markdown",
   "metadata": {},
   "source": [
    "## Section 1"
   ]
  },
  {
   "cell_type": "markdown",
   "metadata": {
    "tags": [
     "text"
    ]
   },
   "source": [
    "The `custom.css` file:\n",
    "\n",
    "```\n",
    ".card {\n",
    "    background-color: #F9C850;\n",
    "}\n",
    "\n",
    ".yellow {\n",
    "    background-color: #F9C850;\n",
    "}\n",
    "\n",
    ".green {\n",
    "    background-color: #10C469;\n",
    "}\n",
    "\n",
    ".red {\n",
    "    background-color: #FF5C5A;\n",
    "}\n",
    "\n",
    ".purple {\n",
    "    background-color: #727CF5;\n",
    "}\n",
    "```\n",
    "\n",
    "The yellow from all cards is the `.card`\n",
    "\n",
    "The Red background on the page is because the page cell has a `class=red` tag."
   ]
  },
  {
   "cell_type": "markdown",
   "metadata": {
    "tags": [
     "class=green"
    ]
   },
   "source": [
    "## Section 2"
   ]
  },
  {
   "cell_type": "markdown",
   "metadata": {},
   "source": [
    "### This column has a `class=green` tag"
   ]
  },
  {
   "cell_type": "markdown",
   "metadata": {
    "tags": [
     "text"
    ]
   },
   "source": [
    "The green dividing this card and the one below is the `.green` added to the section"
   ]
  },
  {
   "cell_type": "markdown",
   "metadata": {
    "tags": [
     "class=purple"
    ]
   },
   "source": [
    "### This card has a  `class=purple` tag"
   ]
  },
  {
   "cell_type": "markdown",
   "metadata": {
    "tags": [
     "text"
    ]
   },
   "source": [
    "The purple from this card is the `.purple`"
   ]
  },
  {
   "cell_type": "code",
   "execution_count": null,
   "metadata": {},
   "outputs": [],
   "source": []
  }
 ],
 "metadata": {
  "celltoolbar": "Tags",
  "kernelspec": {
   "display_name": "Python 3",
   "language": "python",
   "name": "python3"
  },
  "language_info": {
   "codemirror_mode": {
    "name": "ipython",
    "version": 3
   },
   "file_extension": ".py",
   "mimetype": "text/x-python",
   "name": "python",
   "nbconvert_exporter": "python",
   "pygments_lexer": "ipython3",
   "version": "3.8.0"
  }
 },
 "nbformat": 4,
 "nbformat_minor": 2
}
