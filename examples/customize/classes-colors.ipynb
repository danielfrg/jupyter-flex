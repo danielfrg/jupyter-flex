{
 "cells": [
  {
   "cell_type": "code",
   "execution_count": null,
   "metadata": {
    "tags": [
     "parameters"
    ]
   },
   "outputs": [],
   "source": [
    "flex_title = \"A dashboard that used the custom color class names\"\n",
    "flex_author = \"built using jupyter-flex\"\n",
    "flex_source_link = \"https://github.com/danielfrg/jupyter-flex/blob/master/examples/customize/classes-colors.ipynb\""
   ]
  },
  {
   "cell_type": "markdown",
   "metadata": {
    "tags": [
     "class=blue"
    ]
   },
   "source": [
    "# Page"
   ]
  },
  {
   "cell_type": "markdown",
   "metadata": {},
   "source": [
    "## Section 1"
   ]
  },
  {
   "cell_type": "markdown",
   "metadata": {},
   "source": [
    "### This page has a class=blue tag"
   ]
  },
  {
   "cell_type": "markdown",
   "metadata": {
    "tags": [
     "body"
    ]
   },
   "source": [
    "Thats what makes the whole content wrapper blue"
   ]
  },
  {
   "cell_type": "markdown",
   "metadata": {
    "tags": [
     "class=yellow",
     "class=darken-4"
    ]
   },
   "source": [
    "### This Card has a class=yellow and class=darken-4 tags"
   ]
  },
  {
   "cell_type": "markdown",
   "metadata": {
    "tags": [
     "body"
    ]
   },
   "source": [
    "So the card looks orange."
   ]
  },
  {
   "cell_type": "markdown",
   "metadata": {
    "tags": [
     "class=green"
    ]
   },
   "source": [
    "## Section 2"
   ]
  },
  {
   "cell_type": "markdown",
   "metadata": {},
   "source": [
    "### This column section has a class=green tag"
   ]
  },
  {
   "cell_type": "code",
   "execution_count": null,
   "metadata": {
    "tags": [
     "body"
    ]
   },
   "outputs": [],
   "source": [
    "\"This is some code output\""
   ]
  },
  {
   "cell_type": "markdown",
   "metadata": {
    "tags": [
     "body"
    ]
   },
   "source": [
    "The `class=green` on the section cell makes this division (↓↓↓) between the cards green."
   ]
  },
  {
   "cell_type": "markdown",
   "metadata": {},
   "source": [
    "### On this Card the code and markdown cells here have different color tags"
   ]
  },
  {
   "cell_type": "code",
   "execution_count": null,
   "metadata": {
    "tags": [
     "class=yellow",
     "body"
    ]
   },
   "outputs": [],
   "source": [
    "\"This code section has a class=yellow tag\""
   ]
  },
  {
   "cell_type": "markdown",
   "metadata": {
    "tags": [
     "class=brown",
     "class=white-text",
     "body"
    ]
   },
   "source": [
    "This text section has a `class=brown` and `class=white-text` tags"
   ]
  },
  {
   "cell_type": "code",
   "execution_count": null,
   "metadata": {},
   "outputs": [],
   "source": []
  }
 ],
 "metadata": {
  "celltoolbar": "Tags",
  "kernelspec": {
   "display_name": "Python 3",
   "language": "python",
   "name": "python3"
  },
  "language_info": {
   "codemirror_mode": {
    "name": "ipython",
    "version": 3
   },
   "file_extension": ".py",
   "mimetype": "text/x-python",
   "name": "python",
   "nbconvert_exporter": "python",
   "pygments_lexer": "ipython3",
   "version": "3.7.6"
  }
 },
 "nbformat": 4,
 "nbformat_minor": 4
}
