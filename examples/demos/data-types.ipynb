{
 "cells": [
  {
   "cell_type": "code",
   "execution_count": null,
   "metadata": {
    "tags": [
     "parameters"
    ]
   },
   "outputs": [],
   "source": [
    "flex_title = \"Jupyter output data types\"\n",
    "flex_author = \"built using jupyter-flex\"\n",
    "flex_source_link = \"https://github.com/danielfrg/jupyter-flex/blob/master/examples/demos/data-types.ipynb\"\n",
    "flex_include_source = True"
   ]
  },
  {
   "cell_type": "markdown",
   "metadata": {},
   "source": [
    "# Markdown and images"
   ]
  },
  {
   "cell_type": "markdown",
   "metadata": {},
   "source": [
    "## Col 1"
   ]
  },
  {
   "cell_type": "markdown",
   "metadata": {},
   "source": [
    "### Markdown"
   ]
  },
  {
   "cell_type": "markdown",
   "metadata": {
    "tags": [
     "body"
    ]
   },
   "source": [
    "Text can be **bold**, _italic_, or ~~strikethrough~~. [Links](https://github.com) should be blue with no underlines (unless hovered over).\n",
    "\n",
    "Even LaTex expression work: $\\delta_{\\alpha}$.\n",
    "\n",
    "There should be whitespace between paragraphs. There should be whitespace between paragraphs. There should be whitespace between paragraphs. There should be whitespace between paragraphs.\n",
    "\n",
    "There should be whitespace between paragraphs. There should be whitespace between paragraphs. There should be whitespace between paragraphs. There should be whitespace between paragraphs.\n",
    "\n",
    "> There should be no margin above this first sentence.\n",
    ">\n",
    "> Blockquotes should be a lighter gray with a gray border along the left side.\n",
    ">\n",
    "> There should be no margin below this final sentence.\n",
    "\n",
    "# Header 1\n",
    "\n",
    "This is a normal paragraph following a header. Bacon ipsum dolor sit amet t-bone doner shank drumstick, pork belly porchetta chuck sausage brisket ham hock rump pig. Chuck kielbasa leberkas, pork bresaola ham hock filet mignon cow shoulder short ribs biltong.\n",
    "\n",
    "## Header 2\n",
    "\n",
    "> This is a blockquote following a header. Bacon ipsum dolor sit amet t-bone doner shank drumstick, pork belly porchetta chuck sausage brisket ham hock rump pig. Chuck kielbasa leberkas, pork bresaola ham hock filet mignon cow shoulder short ribs biltong.\n",
    "\n",
    "### Header 3\n",
    "\n",
    "```\n",
    "This is a code block following a header.\n",
    "```\n",
    "\n",
    "#### Header 4\n",
    "\n",
    "* This is an unordered list following a header.\n",
    "* This is an unordered list following a header.\n",
    "* This is an unordered list following a header.\n",
    "\n",
    "##### Header 5\n",
    "\n",
    "1. This is an ordered list following a header.\n",
    "2. This is an ordered list following a header.\n",
    "3. This is an ordered list following a header.\n",
    "\n",
    "###### Header 6\n",
    "\n",
    "| What      | Follows         |\n",
    "|-----------|-----------------|\n",
    "| A table   | A header        |\n",
    "| A table   | A header        |\n",
    "| A table   | A header        |\n",
    "\n",
    "----------------\n",
    "\n",
    "There's a horizontal rule above and below this.\n",
    "\n",
    "----------------\n",
    "\n",
    "Here is an unordered list:\n",
    "\n",
    "* Salt-n-Pepa\n",
    "* Bel Biv DeVoe\n",
    "* Kid 'N Play\n",
    "\n",
    "And an ordered list:\n",
    "\n",
    "1. Michael Jackson\n",
    "2. Michael Bolton\n",
    "3. Michael Bublé\n",
    "\n",
    "And an unordered task list:\n",
    "\n",
    "- [x] Create a sample markdown document\n",
    "- [x] Add task lists to it\n",
    "- [ ] Take a vacation\n",
    "\n",
    "And a \"mixed\" task list:\n",
    "\n",
    "- [ ] Steal underpants\n",
    "- ?\n",
    "- [ ] Profit!\n",
    "\n",
    "And a nested list:\n",
    "\n",
    "* Jackson 5\n",
    "  * Michael\n",
    "  * Tito\n",
    "  * Jackie\n",
    "  * Marlon\n",
    "  * Jermaine\n",
    "* TMNT\n",
    "  * Leonardo\n",
    "  * Michelangelo\n",
    "  * Donatello\n",
    "  * Raphael\n",
    "\n",
    "Definition lists can be used with HTML syntax. Definition terms are bold and italic.\n",
    "\n",
    "<dl>\n",
    "    <dt>Name</dt>\n",
    "    <dd>Godzilla</dd>\n",
    "    <dt>Born</dt>\n",
    "    <dd>1952</dd>\n",
    "    <dt>Birthplace</dt>\n",
    "    <dd>Japan</dd>\n",
    "    <dt>Color</dt>\n",
    "    <dd>Green</dd>\n",
    "</dl>\n",
    "\n",
    "----------------\n",
    "\n",
    "Tables should have bold headings and alternating shaded rows.\n",
    "\n",
    "| Artist            | Album           | Year |\n",
    "|-------------------|-----------------|------|\n",
    "| Michael Jackson   | Thriller        | 1982 |\n",
    "| Prince            | Purple Rain     | 1984 |\n",
    "| Beastie Boys      | License to Ill  | 1986 |\n",
    "\n",
    "If a table is too wide, it should condense down and/or scroll horizontally.\n",
    "\n",
    "| Artist            | Album           | Year | Label       | Awards   | Songs     |\n",
    "|-------------------|-----------------|------|-------------|----------|-----------|\n",
    "| Michael Jackson   | Thriller        | 1982 | Epic Records | Grammy Award for Album of the Year, American Music Award for Favorite Pop/Rock Album, American Music Award for Favorite Soul/R&B Album, Brit Award for Best Selling Album, Grammy Award for Best Engineered Album, Non-Classical | Wanna Be Startin' Somethin', Baby Be Mine, The Girl Is Mine, Thriller, Beat It, Billie Jean, Human Nature, P.Y.T. (Pretty Young Thing), The Lady in My Life |\n",
    "| Prince            | Purple Rain     | 1984 | Warner Brothers Records | Grammy Award for Best Score Soundtrack for Visual Media, American Music Award for Favorite Pop/Rock Album, American Music Award for Favorite Soul/R&B Album, Brit Award for Best Soundtrack/Cast Recording, Grammy Award for Best Rock Performance by a Duo or Group with Vocal | Let's Go Crazy, Take Me With U, The Beautiful Ones, Computer Blue, Darling Nikki, When Doves Cry, I Would Die 4 U, Baby I'm a Star, Purple Rain |\n",
    "| Beastie Boys      | License to Ill  | 1986 | Mercury Records | noawardsbutthistablecelliswide | Rhymin & Stealin, The New Style, She's Crafty, Posse in Effect, Slow Ride, Girls, (You Gotta) Fight for Your Right, No Sleep Till Brooklyn, Paul Revere, Hold It Now, Hit It, Brass Monkey, Slow and Low, Time to Get Ill |\n",
    "\n",
    "----------------\n",
    "\n",
    "Code snippets like `var foo = \"bar\";` can be shown inline.\n",
    "\n",
    "Also, `this should vertically align` ~~`with this`~~ ~~and this~~.\n",
    "\n",
    "Code can also be shown in a block element.\n",
    "```\n",
    "var foo = \"bar\";\n",
    "```\n",
    "\n",
    "Code can also use syntax highlighting.\n",
    "```javascript\n",
    "var foo = \"bar\";\n",
    "```\n",
    "\n",
    "```\n",
    "Long, single-line code blocks should not wrap. They should horizontally scroll if they are too long. This line should be long enough to demonstrate this.\n",
    "```\n",
    "\n",
    "```javascript\n",
    "var foo = \"The same thing is true for code with syntax highlighting. A single line of code should horizontally scroll if it is really long.\";\n",
    "```\n",
    "\n",
    "Inline code inside table cells should still be distinguishable.\n",
    "\n",
    "| Language    | Code               |\n",
    "|-------------|--------------------|\n",
    "| Javascript  | `var foo = \"bar\";` |\n",
    "| Ruby        | `foo = \"bar\"`      |\n",
    "\n",
    "----------------\n",
    "\n",
    "Small images should be shown at their actual size.\n",
    "\n",
    "![](http://placekitten.com/g/300/200/)\n",
    "\n",
    "Large images should always scale down and fit in the content container.\n",
    "\n",
    "![](http://placekitten.com/g/1200/800/)\n",
    "\n",
    "```\n",
    "This is the final element on the page and there should be no margin below this.\n",
    "```"
   ]
  },
  {
   "cell_type": "markdown",
   "metadata": {},
   "source": [
    "## Col 2"
   ]
  },
  {
   "cell_type": "markdown",
   "metadata": {},
   "source": [
    "### Small JPEG"
   ]
  },
  {
   "cell_type": "code",
   "execution_count": null,
   "metadata": {
    "tags": [
     "source"
    ]
   },
   "outputs": [],
   "source": [
    "from IPython.display import display\n",
    "from IPython.display import Image"
   ]
  },
  {
   "cell_type": "code",
   "execution_count": null,
   "metadata": {
    "tags": [
     "body"
    ]
   },
   "outputs": [],
   "source": [
    "Image(url='http://placekitten.com/g/200/200', width=150)"
   ]
  },
  {
   "cell_type": "markdown",
   "metadata": {},
   "source": [
    "### Large JPEG"
   ]
  },
  {
   "cell_type": "code",
   "execution_count": null,
   "metadata": {
    "tags": [
     "body"
    ]
   },
   "outputs": [],
   "source": [
    "Image(url='http://placekitten.com/g/1200/1200')"
   ]
  },
  {
   "cell_type": "markdown",
   "metadata": {
    "tags": [
     "orientation=rows"
    ]
   },
   "source": [
    "# More images"
   ]
  },
  {
   "cell_type": "markdown",
   "metadata": {},
   "source": [
    "### Embeded image"
   ]
  },
  {
   "cell_type": "code",
   "execution_count": null,
   "metadata": {
    "tags": [
     "body"
    ]
   },
   "outputs": [],
   "source": [
    "img_url = 'http://www.lawrencehallofscience.org/static/scienceview/scienceview.berkeley.edu/html/view/view_assets/images/newview.jpg'\n",
    "Image(img_url, embed=True)"
   ]
  },
  {
   "cell_type": "markdown",
   "metadata": {},
   "source": [
    "### Small PNG"
   ]
  },
  {
   "cell_type": "code",
   "execution_count": null,
   "metadata": {
    "tags": [
     "body"
    ]
   },
   "outputs": [],
   "source": [
    "Image(url='http://www.vpdclub.com.au/images/running-dog.png', width=150)"
   ]
  },
  {
   "cell_type": "markdown",
   "metadata": {},
   "source": [
    "### Large PNG"
   ]
  },
  {
   "cell_type": "code",
   "execution_count": null,
   "metadata": {
    "tags": [
     "body"
    ]
   },
   "outputs": [],
   "source": [
    "Image(url='http://pngimg.com/uploads/dog/dog_PNG50361.png')"
   ]
  },
  {
   "cell_type": "markdown",
   "metadata": {},
   "source": [
    "## Col 2"
   ]
  },
  {
   "cell_type": "markdown",
   "metadata": {},
   "source": [
    "### Small SVG"
   ]
  },
  {
   "cell_type": "code",
   "execution_count": null,
   "metadata": {
    "tags": [
     "body"
    ]
   },
   "outputs": [],
   "source": [
    "Image(url='https://www.w3docs.com/build/images/bw_chrome.svg', width=150)"
   ]
  },
  {
   "cell_type": "markdown",
   "metadata": {},
   "source": [
    "### Large SVG"
   ]
  },
  {
   "cell_type": "code",
   "execution_count": null,
   "metadata": {
    "tags": [
     "body"
    ]
   },
   "outputs": [],
   "source": [
    "Image(url='https://upload.wikimedia.org/wikipedia/commons/f/fa/Apple_logo_black.svg')"
   ]
  },
  {
   "cell_type": "markdown",
   "metadata": {
    "tags": [
     "orientation=rows"
    ]
   },
   "source": [
    "# HTML "
   ]
  },
  {
   "cell_type": "code",
   "execution_count": null,
   "metadata": {
    "tags": [
     "source"
    ]
   },
   "outputs": [],
   "source": [
    "from IPython.display import HTML"
   ]
  },
  {
   "cell_type": "markdown",
   "metadata": {},
   "source": [
    "## Row 1"
   ]
  },
  {
   "cell_type": "markdown",
   "metadata": {},
   "source": [
    "### Table"
   ]
  },
  {
   "cell_type": "code",
   "execution_count": null,
   "metadata": {
    "tags": [
     "body"
    ]
   },
   "outputs": [],
   "source": [
    "s = \"\"\"<table>\n",
    "<tr>\n",
    "<th>Header 1</th>\n",
    "<th>Header 2</th>\n",
    "</tr>\n",
    "<tr>\n",
    "<td>row 1, cell 1</td>\n",
    "<td>row 1, cell 2</td>\n",
    "</tr>\n",
    "<tr>\n",
    "<td>row 2, cell 1</td>\n",
    "<td>row 2, cell 2</td>\n",
    "</tr>\n",
    "</table>\"\"\"\n",
    "\n",
    "h = HTML(s)\n",
    "display(h)"
   ]
  },
  {
   "cell_type": "markdown",
   "metadata": {},
   "source": [
    "### JS"
   ]
  },
  {
   "cell_type": "code",
   "execution_count": null,
   "metadata": {
    "tags": [
     "source"
    ]
   },
   "outputs": [],
   "source": [
    "from IPython.display import Javascript"
   ]
  },
  {
   "cell_type": "markdown",
   "metadata": {
    "tags": [
     "body"
    ]
   },
   "source": [
    "You should have seen an alert when moving to this page, it came from this cell!"
   ]
  },
  {
   "cell_type": "code",
   "execution_count": null,
   "metadata": {
    "tags": [
     "body"
    ]
   },
   "outputs": [],
   "source": [
    "js = Javascript('alert(\"hi from the dashboard\")')\n",
    "display(js)"
   ]
  },
  {
   "cell_type": "markdown",
   "metadata": {},
   "source": [
    "## Row 2"
   ]
  },
  {
   "cell_type": "markdown",
   "metadata": {},
   "source": [
    "### Audio"
   ]
  },
  {
   "cell_type": "code",
   "execution_count": null,
   "metadata": {
    "tags": [
     "source"
    ]
   },
   "outputs": [],
   "source": [
    "from IPython.display import Audio"
   ]
  },
  {
   "cell_type": "code",
   "execution_count": null,
   "metadata": {
    "tags": [
     "body"
    ]
   },
   "outputs": [],
   "source": [
    "Audio(url=\"http://www.nch.com.au/acm/8k16bitpcm.wav\")"
   ]
  },
  {
   "cell_type": "markdown",
   "metadata": {},
   "source": [
    "### Video"
   ]
  },
  {
   "cell_type": "code",
   "execution_count": null,
   "metadata": {
    "tags": [
     "source"
    ]
   },
   "outputs": [],
   "source": [
    "from IPython.display import YouTubeVideo"
   ]
  },
  {
   "cell_type": "code",
   "execution_count": null,
   "metadata": {
    "tags": [
     "body"
    ]
   },
   "outputs": [],
   "source": [
    "YouTubeVideo('sjfsUzECqK0')"
   ]
  },
  {
   "cell_type": "markdown",
   "metadata": {
    "tags": [
     "orientation=rows"
    ]
   },
   "source": [
    "# Others"
   ]
  },
  {
   "cell_type": "markdown",
   "metadata": {},
   "source": [
    "### Latex"
   ]
  },
  {
   "cell_type": "code",
   "execution_count": null,
   "metadata": {
    "tags": [
     "source"
    ]
   },
   "outputs": [],
   "source": [
    "from IPython.display import Latex"
   ]
  },
  {
   "cell_type": "code",
   "execution_count": null,
   "metadata": {
    "tags": [
     "body"
    ]
   },
   "outputs": [],
   "source": [
    "Latex(r\"\"\"\\begin{eqnarray}\n",
    "\\nabla \\times \\vec{\\mathbf{B}} -\\, \\frac1c\\, \\frac{\\partial\\vec{\\mathbf{E}}}{\\partial t} & = \\frac{4\\pi}{c}\\vec{\\mathbf{j}} \\\\\n",
    "\\nabla \\cdot \\vec{\\mathbf{E}} & = 4 \\pi \\rho \\\\\n",
    "\\nabla \\times \\vec{\\mathbf{E}}\\, +\\, \\frac1c\\, \\frac{\\partial\\vec{\\mathbf{B}}}{\\partial t} & = \\vec{\\mathbf{0}} \\\\\n",
    "\\nabla \\cdot \\vec{\\mathbf{B}} & = 0 \n",
    "\\end{eqnarray}\"\"\")"
   ]
  },
  {
   "cell_type": "markdown",
   "metadata": {},
   "source": [
    "### JSON"
   ]
  },
  {
   "cell_type": "code",
   "execution_count": null,
   "metadata": {
    "tags": [
     "source"
    ]
   },
   "outputs": [],
   "source": [
    "from IPython.display import JSON"
   ]
  },
  {
   "cell_type": "code",
   "execution_count": null,
   "metadata": {
    "tags": [
     "body"
    ]
   },
   "outputs": [],
   "source": [
    "JSON({ \"name\": \"Tester McTester\", \"age\": 20, \"location\": \"The North Pole\", \"job\": { \"title\": \"Senior Engineer\", \"employer\": { \"name\": \"Acme Inc.\", \"id\": 1 } } })"
   ]
  },
  {
   "cell_type": "markdown",
   "metadata": {},
   "source": [
    "## Row 2"
   ]
  },
  {
   "cell_type": "markdown",
   "metadata": {},
   "source": [
    "### Stream"
   ]
  },
  {
   "cell_type": "code",
   "execution_count": null,
   "metadata": {
    "tags": [
     "body"
    ]
   },
   "outputs": [],
   "source": [
    "d = { \"name\": \"Tester McTester\", \"age\": 20, \"location\": \"The North Pole\", \"job\": { \"title\": \"Senior Engineer\", \"employer\": { \"name\": \"Acme Inc.\", \"id\": 1 } } }\n",
    "print(d)"
   ]
  },
  {
   "cell_type": "markdown",
   "metadata": {},
   "source": [
    "### Error trace"
   ]
  },
  {
   "cell_type": "code",
   "execution_count": 16,
   "metadata": {
    "tags": [
     "body"
    ]
   },
   "outputs": [
    {
     "ename": "ModuleNotFoundError",
     "evalue": "No module named 'pandos'",
     "output_type": "error",
     "traceback": [
      "\u001b[0;31m---------------------------------------------------------------------------\u001b[0m",
      "\u001b[0;31mModuleNotFoundError\u001b[0m                       Traceback (most recent call last)",
      "\u001b[0;32m<ipython-input-16-9090f386c792>\u001b[0m in \u001b[0;36m<module>\u001b[0;34m\u001b[0m\n\u001b[0;32m----> 1\u001b[0;31m \u001b[0;32mimport\u001b[0m \u001b[0mpandos\u001b[0m \u001b[0;32mas\u001b[0m \u001b[0mpd\u001b[0m\u001b[0;34m\u001b[0m\u001b[0;34m\u001b[0m\u001b[0m\n\u001b[0m",
      "\u001b[0;31mModuleNotFoundError\u001b[0m: No module named 'pandos'"
     ]
    }
   ],
   "source": [
    "import pandos as pd"
   ]
  },
  {
   "cell_type": "markdown",
   "metadata": {},
   "source": [
    "# iframe"
   ]
  },
  {
   "cell_type": "code",
   "execution_count": null,
   "metadata": {
    "tags": [
     "source"
    ]
   },
   "outputs": [],
   "source": [
    "from IPython.display import IFrame"
   ]
  },
  {
   "cell_type": "code",
   "execution_count": null,
   "metadata": {
    "tags": [
     "body"
    ]
   },
   "outputs": [],
   "source": [
    "IFrame(\"http://jupyter.org\", width=\"99%\", height=\"97%\")"
   ]
  },
  {
   "cell_type": "code",
   "execution_count": null,
   "metadata": {},
   "outputs": [],
   "source": []
  }
 ],
 "metadata": {
  "kernelspec": {
   "display_name": "Python 3",
   "language": "python",
   "name": "python3"
  },
  "language_info": {
   "codemirror_mode": {
    "name": "ipython",
    "version": 3
   },
   "file_extension": ".py",
   "mimetype": "text/x-python",
   "name": "python",
   "nbconvert_exporter": "python",
   "pygments_lexer": "ipython3",
   "version": "3.7.6"
  }
 },
 "nbformat": 4,
 "nbformat_minor": 4
}
