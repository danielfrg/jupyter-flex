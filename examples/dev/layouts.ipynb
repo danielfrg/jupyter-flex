{
 "cells": [
  {
   "cell_type": "code",
   "execution_count": 1,
   "metadata": {
    "tags": [
     "parameters"
    ]
   },
   "outputs": [],
   "source": [
    "title = \"This is a dashboard\"\n",
    "flex_author = \"powered by jupyter-flex\"\n",
    "flex_source_code = \"https://github.com/danielfrg/jupyter-flex\""
   ]
  },
  {
   "cell_type": "markdown",
   "metadata": {},
   "source": [
    "# Columns"
   ]
  },
  {
   "cell_type": "markdown",
   "metadata": {
    "tags": [
     "size=650"
    ]
   },
   "source": [
    "## Col 1"
   ]
  },
  {
   "cell_type": "markdown",
   "metadata": {},
   "source": [
    "### First card"
   ]
  },
  {
   "cell_type": "markdown",
   "metadata": {
    "tags": [
     "text"
    ]
   },
   "source": [
    "This card has all possible card elements, this is just some markdown."
   ]
  },
  {
   "cell_type": "code",
   "execution_count": 17,
   "metadata": {
    "tags": [
     "chart"
    ]
   },
   "outputs": [
    {
     "data": {
      "text/plain": [
       "'This is ouptut from the code'"
      ]
     },
     "execution_count": 17,
     "metadata": {},
     "output_type": "execute_result"
    }
   ],
   "source": [
    "\"This is ouptut from the code, this should be expanded to the text above and below.\""
   ]
  },
  {
   "cell_type": "markdown",
   "metadata": {
    "tags": [
     "text"
    ]
   },
   "source": [
    "This is even more text bellow the chart"
   ]
  },
  {
   "cell_type": "markdown",
   "metadata": {
    "tags": [
     "text"
    ]
   },
   "source": [
    "Even more text, in another cell"
   ]
  },
  {
   "cell_type": "markdown",
   "metadata": {
    "tags": [
     "footer"
    ]
   },
   "source": [
    "Finally this is the footer of the card"
   ]
  },
  {
   "cell_type": "code",
   "execution_count": null,
   "metadata": {
    "tags": [
     "footer"
    ]
   },
   "outputs": [],
   "source": [
    "\"You can also have code here!\""
   ]
  },
  {
   "cell_type": "markdown",
   "metadata": {
    "tags": [
     "tabs",
     "size=350"
    ]
   },
   "source": [
    "## Col 2"
   ]
  },
  {
   "cell_type": "markdown",
   "metadata": {},
   "source": [
    "### Col 2 - Tab 1"
   ]
  },
  {
   "cell_type": "markdown",
   "metadata": {
    "tags": [
     "text"
    ]
   },
   "source": [
    "This columns uses tabs, so the header is replaced by the name tab menu item"
   ]
  },
  {
   "cell_type": "code",
   "execution_count": 10,
   "metadata": {
    "tags": [
     "chart"
    ]
   },
   "outputs": [
    {
     "data": {
      "text/plain": [
       "'This is the code for: Page 1 - Col 2 - Tab 1'"
      ]
     },
     "execution_count": 10,
     "metadata": {},
     "output_type": "execute_result"
    }
   ],
   "source": [
    "\"This is the output for code on: Page 1 - Col 2 - Tab 1\""
   ]
  },
  {
   "cell_type": "markdown",
   "metadata": {
    "tags": [
     "footer"
    ]
   },
   "source": [
    "Footers also work on tabs"
   ]
  },
  {
   "cell_type": "markdown",
   "metadata": {},
   "source": [
    "### Col 2 - Tab 2"
   ]
  },
  {
   "cell_type": "code",
   "execution_count": 21,
   "metadata": {
    "tags": [
     "chart"
    ]
   },
   "outputs": [
    {
     "name": "stdout",
     "output_type": "stream",
     "text": [
      "This is the output for code on: Page 1 - Col 2 - Tab 1\n",
      "\n",
      "There is no more content on this card\n",
      "\n"
     ]
    }
   ],
   "source": [
    "print(\"\"\"This is the output for code on: Page 1 - Col 2 - Tab 1\n",
    "\n",
    "There is no more content on this card\n",
    "\"\"\")"
   ]
  },
  {
   "cell_type": "markdown",
   "metadata": {
    "tags": [
     "orientation=rows"
    ]
   },
   "source": [
    "# Rows"
   ]
  },
  {
   "cell_type": "markdown",
   "metadata": {
    "tags": [
     "tabs"
    ]
   },
   "source": [
    "## Row 1"
   ]
  },
  {
   "cell_type": "markdown",
   "metadata": {},
   "source": [
    "### Page 2 - Row 1 - Tab 1"
   ]
  },
  {
   "cell_type": "code",
   "execution_count": 5,
   "metadata": {
    "tags": [
     "chart"
    ]
   },
   "outputs": [
    {
     "data": {
      "text/plain": [
       "'Page 2 - Row 1 - Tab 1'"
      ]
     },
     "execution_count": 5,
     "metadata": {},
     "output_type": "execute_result"
    }
   ],
   "source": [
    "\"Page 2 - Row 1 - Tab 1\""
   ]
  },
  {
   "cell_type": "markdown",
   "metadata": {},
   "source": [
    "### Page 2 - Row 1 - Tab 2"
   ]
  },
  {
   "cell_type": "code",
   "execution_count": 6,
   "metadata": {
    "tags": [
     "chart"
    ]
   },
   "outputs": [
    {
     "data": {
      "text/plain": [
       "'Page 2 - Row 1 - Tab 2'"
      ]
     },
     "execution_count": 6,
     "metadata": {},
     "output_type": "execute_result"
    }
   ],
   "source": [
    "\"Page 2 - Row 1 - Tab 2\""
   ]
  },
  {
   "cell_type": "markdown",
   "metadata": {},
   "source": [
    "## Row 2"
   ]
  },
  {
   "cell_type": "markdown",
   "metadata": {
    "tags": [
     "text"
    ]
   },
   "source": [
    "Here you can have a lot of markdown if needed. This is a demo.\n",
    "\n",
    "Text can be **bold**, _italic_, or ~~strikethrough~~. [Links](https://github.com) should be blue with no underlines (unless hovered over).\n",
    "\n",
    "There should be whitespace between paragraphs. There should be whitespace between paragraphs. There should be whitespace between paragraphs. There should be whitespace between paragraphs.\n",
    "\n",
    "There should be whitespace between paragraphs. There should be whitespace between paragraphs. There should be whitespace between paragraphs. There should be whitespace between paragraphs.\n",
    "\n",
    "> There should be no margin above this first sentence.\n",
    ">\n",
    "> Blockquotes should be a lighter gray with a gray border along the left side.\n",
    ">\n",
    "> There should be no margin below this final sentence.\n",
    "\n",
    "# Header 1\n",
    "\n",
    "This is a normal paragraph following a header. Bacon ipsum dolor sit amet t-bone doner shank drumstick, pork belly porchetta chuck sausage brisket ham hock rump pig. Chuck kielbasa leberkas, pork bresaola ham hock filet mignon cow shoulder short ribs biltong.\n",
    "\n",
    "## Header 2\n",
    "\n",
    "> This is a blockquote following a header. Bacon ipsum dolor sit amet t-bone doner shank drumstick, pork belly porchetta chuck sausage brisket ham hock rump pig. Chuck kielbasa leberkas, pork bresaola ham hock filet mignon cow shoulder short ribs biltong.\n",
    "\n",
    "### Header 3\n",
    "\n",
    "```\n",
    "This is a code block following a header.\n",
    "```\n",
    "\n",
    "#### Header 4\n",
    "\n",
    "* This is an unordered list following a header.\n",
    "* This is an unordered list following a header.\n",
    "* This is an unordered list following a header.\n",
    "\n",
    "##### Header 5\n",
    "\n",
    "1. This is an ordered list following a header.\n",
    "2. This is an ordered list following a header.\n",
    "3. This is an ordered list following a header.\n",
    "\n",
    "###### Header 6\n",
    "\n",
    "| What      | Follows         |\n",
    "|-----------|-----------------|\n",
    "| A table   | A header        |\n",
    "| A table   | A header        |\n",
    "| A table   | A header        |\n",
    "\n",
    "----------------\n",
    "\n",
    "There's a horizontal rule above and below this.\n",
    "\n",
    "----------------\n",
    "\n",
    "Here is an unordered list:\n",
    "\n",
    "* Salt-n-Pepa\n",
    "* Bel Biv DeVoe\n",
    "* Kid 'N Play\n",
    "\n",
    "And an ordered list:\n",
    "\n",
    "1. Michael Jackson\n",
    "2. Michael Bolton\n",
    "3. Michael Bublé\n",
    "\n",
    "And an unordered task list:\n",
    "\n",
    "- [x] Create a sample markdown document\n",
    "- [x] Add task lists to it\n",
    "- [ ] Take a vacation\n",
    "\n",
    "And a \"mixed\" task list:\n",
    "\n",
    "- [ ] Steal underpants\n",
    "- ?\n",
    "- [ ] Profit!\n",
    "\n",
    "And a nested list:\n",
    "\n",
    "* Jackson 5\n",
    "  * Michael\n",
    "  * Tito\n",
    "  * Jackie\n",
    "  * Marlon\n",
    "  * Jermaine\n",
    "* TMNT\n",
    "  * Leonardo\n",
    "  * Michelangelo\n",
    "  * Donatello\n",
    "  * Raphael\n",
    "\n",
    "Definition lists can be used with HTML syntax. Definition terms are bold and italic.\n",
    "\n",
    "<dl>\n",
    "    <dt>Name</dt>\n",
    "    <dd>Godzilla</dd>\n",
    "    <dt>Born</dt>\n",
    "    <dd>1952</dd>\n",
    "    <dt>Birthplace</dt>\n",
    "    <dd>Japan</dd>\n",
    "    <dt>Color</dt>\n",
    "    <dd>Green</dd>\n",
    "</dl>\n",
    "\n",
    "----------------\n",
    "\n",
    "Tables should have bold headings and alternating shaded rows.\n",
    "\n",
    "| Artist            | Album           | Year |\n",
    "|-------------------|-----------------|------|\n",
    "| Michael Jackson   | Thriller        | 1982 |\n",
    "| Prince            | Purple Rain     | 1984 |\n",
    "| Beastie Boys      | License to Ill  | 1986 |\n",
    "\n",
    "If a table is too wide, it should condense down and/or scroll horizontally.\n",
    "\n",
    "| Artist            | Album           | Year | Label       | Awards   | Songs     |\n",
    "|-------------------|-----------------|------|-------------|----------|-----------|\n",
    "| Michael Jackson   | Thriller        | 1982 | Epic Records | Grammy Award for Album of the Year, American Music Award for Favorite Pop/Rock Album, American Music Award for Favorite Soul/R&B Album, Brit Award for Best Selling Album, Grammy Award for Best Engineered Album, Non-Classical | Wanna Be Startin' Somethin', Baby Be Mine, The Girl Is Mine, Thriller, Beat It, Billie Jean, Human Nature, P.Y.T. (Pretty Young Thing), The Lady in My Life |\n",
    "| Prince            | Purple Rain     | 1984 | Warner Brothers Records | Grammy Award for Best Score Soundtrack for Visual Media, American Music Award for Favorite Pop/Rock Album, American Music Award for Favorite Soul/R&B Album, Brit Award for Best Soundtrack/Cast Recording, Grammy Award for Best Rock Performance by a Duo or Group with Vocal | Let's Go Crazy, Take Me With U, The Beautiful Ones, Computer Blue, Darling Nikki, When Doves Cry, I Would Die 4 U, Baby I'm a Star, Purple Rain |\n",
    "| Beastie Boys      | License to Ill  | 1986 | Mercury Records | noawardsbutthistablecelliswide | Rhymin & Stealin, The New Style, She's Crafty, Posse in Effect, Slow Ride, Girls, (You Gotta) Fight for Your Right, No Sleep Till Brooklyn, Paul Revere, Hold It Now, Hit It, Brass Monkey, Slow and Low, Time to Get Ill |\n",
    "\n",
    "----------------\n",
    "\n",
    "Code snippets like `var foo = \"bar\";` can be shown inline.\n",
    "\n",
    "Also, `this should vertically align` ~~`with this`~~ ~~and this~~.\n",
    "\n",
    "Code can also be shown in a block element.\n",
    "```\n",
    "var foo = \"bar\";\n",
    "```\n",
    "\n",
    "Code can also use syntax highlighting.\n",
    "```javascript\n",
    "var foo = \"bar\";\n",
    "```\n",
    "\n",
    "```\n",
    "Long, single-line code blocks should not wrap. They should horizontally scroll if they are too long. This line should be long enough to demonstrate this.\n",
    "```\n",
    "\n",
    "```javascript\n",
    "var foo = \"The same thing is true for code with syntax highlighting. A single line of code should horizontally scroll if it is really long.\";\n",
    "```\n",
    "\n",
    "Inline code inside table cells should still be distinguishable.\n",
    "\n",
    "| Language    | Code               |\n",
    "|-------------|--------------------|\n",
    "| Javascript  | `var foo = \"bar\";` |\n",
    "| Ruby        | `foo = \"bar\"`      |\n",
    "\n",
    "----------------\n",
    "\n",
    "Small images should be shown at their actual size.\n",
    "\n",
    "![](http://placekitten.com/g/300/200/)\n",
    "\n",
    "Large images should always scale down and fit in the content container.\n",
    "\n",
    "![](http://placekitten.com/g/1200/800/)\n",
    "\n",
    "```\n",
    "This is the final element on the page and there should be no margin below this.\n",
    "```\n",
    "\n",
    "# More stuff\n",
    "\n",
    "Some Python code:\n",
    "\n",
    "```python\n",
    "id_ = 0\n",
    "for directory in directories:\n",
    "    rootdir = os.path.join('/Users/drodriguez/Downloads/aclImdb', directory)\n",
    "    for subdir, dirs, files in os.walk(rootdir):\n",
    "        for file_ in files:\n",
    "            with open(os.path.join(subdir, file_), 'r') as f:\n",
    "                doc_id = '_*%i' % id_\n",
    "                id_ = id_ + 1\n",
    "\n",
    "                text = f.read()\n",
    "                text = text.decode('utf-8')\n",
    "                tokens = nltk.word_tokenize(text)\n",
    "                doc = ' '.join(tokens).lower()\n",
    "                doc = doc.encode('ascii', 'ignore')\n",
    "                input_file.write('%s %s\\n' % (doc_id, doc))\n",
    "```\n",
    "\n",
    "Our terminal design:"
   ]
  },
  {
   "cell_type": "code",
   "execution_count": null,
   "metadata": {},
   "outputs": [],
   "source": []
  }
 ],
 "metadata": {
  "celltoolbar": "Tags",
  "kernelspec": {
   "display_name": "Python 3",
   "language": "python",
   "name": "python3"
  },
  "language_info": {
   "codemirror_mode": {
    "name": "ipython",
    "version": 3
   },
   "file_extension": ".py",
   "mimetype": "text/x-python",
   "name": "python",
   "nbconvert_exporter": "python",
   "pygments_lexer": "ipython3",
   "version": "3.7.6"
  }
 },
 "nbformat": 4,
 "nbformat_minor": 4
}
