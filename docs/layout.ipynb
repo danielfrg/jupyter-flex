{
 "cells": [
  {
   "cell_type": "markdown",
   "metadata": {},
   "source": [
    "# Layouts\n",
    "\n",
    "In the [Getting Started](getting-started/) page we saw a couple of options to control the orientation of the different sections of the dashboards.\n",
    "\n",
    "This page explains all the options to control the layout of the dashboard."
   ]
  },
  {
   "cell_type": "markdown",
   "metadata": {},
   "source": [
    "## Orientation\n",
    "\n",
    "The default orientation of the dashboard is `columns`. This means that each section, level-2 markdown headers: (`##`), will be shown as a column and the charts in each section will be shown as rows.\n",
    "\n",
    "The default is to use the oposite orientation between sections and charts but this can be overwritten, see [section parameters](#section-parameters), the defaults are:\n",
    "- If dashboard orientation is `columns` (default), then section orientation is `rows`\n",
    "- If dashboard orientation is `rows`, then section orientation is `columns`\n",
    "\n",
    "Let's start with this notebook:"
   ]
  },
  {
   "cell_type": "code",
   "execution_count": null,
   "metadata": {},
   "outputs": [],
   "source": [
    "## Column 1"
   ]
  },
  {
   "cell_type": "code",
   "execution_count": null,
   "metadata": {},
   "outputs": [],
   "source": [
    "### Single plot"
   ]
  },
  {
   "cell_type": "code",
   "execution_count": null,
   "metadata": {
    "tags": [
     "chart"
    ]
   },
   "outputs": [],
   "source": [
    "# code"
   ]
  },
  {
   "cell_type": "code",
   "execution_count": null,
   "metadata": {},
   "outputs": [],
   "source": [
    "## Column 2"
   ]
  },
  {
   "cell_type": "code",
   "execution_count": null,
   "metadata": {},
   "outputs": [],
   "source": [
    "### Sub Plot 1"
   ]
  },
  {
   "cell_type": "code",
   "execution_count": null,
   "metadata": {
    "tags": [
     "chart"
    ]
   },
   "outputs": [],
   "source": [
    "# code"
   ]
  },
  {
   "cell_type": "code",
   "execution_count": null,
   "metadata": {},
   "outputs": [],
   "source": [
    "### Sub Plot 2"
   ]
  },
  {
   "cell_type": "code",
   "execution_count": null,
   "metadata": {
    "tags": [
     "chart"
    ]
   },
   "outputs": [],
   "source": [
    "# code"
   ]
  },
  {
   "cell_type": "markdown",
   "metadata": {},
   "source": [
    "Using `voila` or `nbconvert` with the flex template will generate:\n",
    "\n",
    "[![Jupyter-flex orientation columns](/assets/img/layouts/orientation-columns.png \"Orientation Columns\")](/examples/orientation-columns.html)"
   ]
  },
  {
   "cell_type": "markdown",
   "metadata": {},
   "source": [
    "### Global Parameters"
   ]
  },
  {
   "cell_type": "markdown",
   "metadata": {},
   "source": [
    "You can change the orientation of the layout using the `orientation` parameter.\n",
    "\n",
    "To set any parameters just tag one code cell with `parameters`.\n",
    "- It's usually a good idea to have this cell at the begining of the notebook\n",
    "- This is the same tag used by [papermill](https://github.com/nteract/papermill) so you can use it as part of you pipeline.\n",
    "\n",
    "For example adding the following cell as the first cell of the notebook."
   ]
  },
  {
   "cell_type": "code",
   "execution_count": null,
   "metadata": {
    "tags": [
     "parameters"
    ]
   },
   "outputs": [],
   "source": [
    "orientation = \"rows\""
   ]
  },
  {
   "cell_type": "markdown",
   "metadata": {},
   "source": [
    "Will generate:\n",
    "\n",
    "[![Jupyter-flex orientation rows](/assets/img/layouts/orientation-rows.png \"Orientation Rows\")](/examples/orientation-rows.html)\n",
    "\n",
    "\n",
    "## Section parameters\n",
    "\n",
    "Each section default parameters can be overwritten by adding tags to the section cell (the one with a level-2 header: `##`). For example in the last dashboard to make make the second row of the bottom section to also be divided by rows we add an `orientation={value}` tag like this:"
   ]
  },
  {
   "cell_type": "code",
   "execution_count": null,
   "metadata": {
    "tags": [
     "orientation=rows"
    ]
   },
   "outputs": [],
   "source": [
    "## Column 2"
   ]
  },
  {
   "cell_type": "markdown",
   "metadata": {},
   "source": [
    "Will generate:\n",
    "\n",
    "[![Jupyter-flex orientation rows + rows](/assets/img/layouts/orientation-rows-rows.png \"Orientation Rows + Rows\")](/examples/orientation-rows-rows.html)"
   ]
  },
  {
   "cell_type": "markdown",
   "metadata": {},
   "source": [
    "### Width and Height\n",
    "\n",
    "You might have noticed that by default all the sections and plots inside each section are divided equally. If there is 2 sections each section will get 50% of the space. If there is 3 plots in one section each will get 33% of the space.\n",
    "\n",
    "This can be controlled using the `size={value}` tag in sections and charts.\n",
    "\n",
    "For example take this notebook that focuses most of the dashboard space on the top chart."
   ]
  },
  {
   "cell_type": "code",
   "execution_count": null,
   "metadata": {
    "tags": [
     "parameters"
    ]
   },
   "outputs": [],
   "source": [
    "orientation = \"rows\""
   ]
  },
  {
   "cell_type": "code",
   "execution_count": null,
   "metadata": {
    "tags": [
     "size=650"
    ]
   },
   "outputs": [],
   "source": [
    "## Row 1"
   ]
  },
  {
   "cell_type": "code",
   "execution_count": null,
   "metadata": {},
   "outputs": [],
   "source": [
    "### Main plot"
   ]
  },
  {
   "cell_type": "code",
   "execution_count": null,
   "metadata": {
    "tags": [
     "chart"
    ]
   },
   "outputs": [],
   "source": [
    "# code"
   ]
  },
  {
   "cell_type": "code",
   "execution_count": null,
   "metadata": {
    "tags": [
     "size=350"
    ]
   },
   "outputs": [],
   "source": [
    "## Row 2"
   ]
  },
  {
   "cell_type": "code",
   "execution_count": null,
   "metadata": {},
   "outputs": [],
   "source": [
    "### Subplot 1"
   ]
  },
  {
   "cell_type": "code",
   "execution_count": null,
   "metadata": {
    "tags": [
     "chart"
    ]
   },
   "outputs": [],
   "source": [
    "# code"
   ]
  },
  {
   "cell_type": "code",
   "execution_count": null,
   "metadata": {},
   "outputs": [],
   "source": [
    "### Subplot 2"
   ]
  },
  {
   "cell_type": "code",
   "execution_count": null,
   "metadata": {
    "tags": [
     "chart"
    ]
   },
   "outputs": [],
   "source": [
    "# code"
   ]
  },
  {
   "cell_type": "markdown",
   "metadata": {},
   "source": [
    "[![Jupyter-flex Focal Chart Top](/assets/img/layouts/focal-chart-top.png \"Focal Chart Top\")](/examples/focal-chart-top.html)\n",
    "\n",
    "<div class=\"admonition tip\">\n",
    "    <p class=\"admonition-title\">What does the value of size mean?</p>\n",
    "    <p>The values for the <code>size</code> parameter are passed directly to the <code>flex-grow</code> and <code>flex-shrink</code> CSS properties. </p>\n",
    "    <p>The default value is 500 so all sections and charts get the same space compared to its sibilings</p>\n",
    "    <p>An easy way to change this is to make all <code>size</code> values in a section add to 1000 (or a simple round number), that way you can calculate the proportions easily.</p>\n",
    "</div>"
   ]
  },
  {
   "cell_type": "markdown",
   "metadata": {},
   "source": [
    "### Chart size\n",
    "\n",
    "In the same way that you can control section proportions, you can change the proportions for the multiple charts in a single section using the `size` parameter as a tag in the chart header (level-3 markdown header: `###`).\n",
    "\n",
    "In the last example if we change this two cells:"
   ]
  },
  {
   "cell_type": "code",
   "execution_count": null,
   "metadata": {
    "tags": [
     "size=700"
    ]
   },
   "outputs": [],
   "source": [
    "### Subplot 1"
   ]
  },
  {
   "cell_type": "code",
   "execution_count": null,
   "metadata": {
    "tags": [
     "size=300"
    ]
   },
   "outputs": [],
   "source": [
    "### Subplot 2"
   ]
  },
  {
   "cell_type": "markdown",
   "metadata": {},
   "source": [
    "[![Jupyter-flex Focal Chart Top with size](/assets/img/layouts/focal-chart-top-chart-size.png \"Focal Chart Top with size\")](/examples/focal-chart-top-chart-size.html)"
   ]
  },
  {
   "cell_type": "markdown",
   "metadata": {},
   "source": [
    "## Tabs\n",
    "\n",
    "You can make a section display all it's different component as tabs allowing you to get more screen space for each chart. Tabs are especially useful when you have a large number of components to display.\n",
    "\n",
    "To do this just tag a section with `tabs`. By default Jupyter-flex applies a small fade transition when changing tabs and fills the space for the navigation, the defaults can be controlled per section with and `no-nav-fill` and `no-fade` respectively.\n",
    "\n",
    "For example this notebook:"
   ]
  },
  {
   "cell_type": "code",
   "execution_count": null,
   "metadata": {
    "tags": [
     "tabs"
    ]
   },
   "outputs": [],
   "source": [
    "## Column 1"
   ]
  },
  {
   "cell_type": "code",
   "execution_count": null,
   "metadata": {},
   "outputs": [],
   "source": [
    "### First"
   ]
  },
  {
   "cell_type": "code",
   "execution_count": null,
   "metadata": {
    "tags": [
     "chart"
    ]
   },
   "outputs": [],
   "source": [
    "1"
   ]
  },
  {
   "cell_type": "code",
   "execution_count": null,
   "metadata": {},
   "outputs": [],
   "source": [
    "### Second"
   ]
  },
  {
   "cell_type": "code",
   "execution_count": null,
   "metadata": {
    "tags": [
     "chart"
    ]
   },
   "outputs": [],
   "source": [
    "2"
   ]
  },
  {
   "cell_type": "code",
   "execution_count": null,
   "metadata": {
    "tags": [
     "tabs",
     "no-nav-fill",
     "no-fade"
    ]
   },
   "outputs": [],
   "source": [
    "## Column 2"
   ]
  },
  {
   "cell_type": "code",
   "execution_count": null,
   "metadata": {},
   "outputs": [],
   "source": [
    "### A"
   ]
  },
  {
   "cell_type": "code",
   "execution_count": null,
   "metadata": {
    "tags": [
     "chart"
    ]
   },
   "outputs": [],
   "source": [
    "\"A\""
   ]
  },
  {
   "cell_type": "code",
   "execution_count": null,
   "metadata": {},
   "outputs": [],
   "source": [
    "### B"
   ]
  },
  {
   "cell_type": "code",
   "execution_count": null,
   "metadata": {
    "tags": [
     "chart"
    ]
   },
   "outputs": [],
   "source": [
    "\"B\""
   ]
  },
  {
   "cell_type": "code",
   "execution_count": null,
   "metadata": {},
   "outputs": [],
   "source": [
    "### C"
   ]
  },
  {
   "cell_type": "code",
   "execution_count": null,
   "metadata": {
    "tags": [
     "chart"
    ]
   },
   "outputs": [],
   "source": [
    "\"C\""
   ]
  },
  {
   "cell_type": "markdown",
   "metadata": {},
   "source": [
    "[![Jupyter-flex Section tabs](/assets/img/layouts/tabs-section-columns.png \"Tabs Section\")](/examples/tabs-section-columns.html)"
   ]
  },
  {
   "cell_type": "markdown",
   "metadata": {},
   "source": [
    "## Pages\n",
    "\n",
    "For more complex dashboards with more components you can divide the dashboard into multiple pages using level-1 markdown headers (`#`). If more than one of these header are present, the main navigation of the dashboard will include each page as its own top-level navigation tab, in a similar fashion to a [tabbed section](#tabs).\n",
    "\n",
    "Each page can have its own default orientation, multiple sections with each having its own parameters such as size, any values can be overwritten as you regularly do for [section using tags](#section-parameters).\n",
    "\n",
    "A simple example with 2 pages and a tabbed section on page 2:"
   ]
  },
  {
   "cell_type": "code",
   "execution_count": null,
   "metadata": {},
   "outputs": [],
   "source": [
    "# Page 1"
   ]
  },
  {
   "cell_type": "code",
   "execution_count": null,
   "metadata": {
    "tags": [
     "size=650"
    ]
   },
   "outputs": [],
   "source": [
    "## Col 1"
   ]
  },
  {
   "cell_type": "code",
   "execution_count": null,
   "metadata": {
    "tags": [
     "chart"
    ]
   },
   "outputs": [],
   "source": [
    "\"Page 1 - Col 1 - Plot 1\""
   ]
  },
  {
   "cell_type": "code",
   "execution_count": null,
   "metadata": {
    "tags": [
     "tabs",
     "size=350"
    ]
   },
   "outputs": [],
   "source": [
    "## Col 2"
   ]
  },
  {
   "cell_type": "code",
   "execution_count": null,
   "metadata": {},
   "outputs": [],
   "source": [
    "### Col 2 - Tab 1"
   ]
  },
  {
   "cell_type": "code",
   "execution_count": null,
   "metadata": {
    "tags": [
     "chart"
    ]
   },
   "outputs": [],
   "source": [
    "\"Page 1 - Col 2 - Tab 1\""
   ]
  },
  {
   "cell_type": "code",
   "execution_count": null,
   "metadata": {},
   "outputs": [],
   "source": [
    "### Col 2 - Tab 1"
   ]
  },
  {
   "cell_type": "code",
   "execution_count": null,
   "metadata": {
    "tags": [
     "chart"
    ]
   },
   "outputs": [],
   "source": [
    "\"Page 1 - Col 2 - Tab 2\""
   ]
  },
  {
   "cell_type": "code",
   "execution_count": null,
   "metadata": {
    "tags": [
     "orientation=rows"
    ]
   },
   "outputs": [],
   "source": [
    "# Page 2"
   ]
  },
  {
   "cell_type": "code",
   "execution_count": null,
   "metadata": {},
   "outputs": [],
   "source": [
    "## Row 1"
   ]
  },
  {
   "cell_type": "code",
   "execution_count": null,
   "metadata": {
    "tags": [
     "chart"
    ]
   },
   "outputs": [],
   "source": [
    "\"Page 2 - Row 1\""
   ]
  },
  {
   "cell_type": "code",
   "execution_count": null,
   "metadata": {},
   "outputs": [],
   "source": [
    "## Row 2"
   ]
  },
  {
   "cell_type": "code",
   "execution_count": null,
   "metadata": {
    "tags": [
     "chart"
    ]
   },
   "outputs": [],
   "source": [
    "\"Page 2 - Row 2\""
   ]
  },
  {
   "cell_type": "markdown",
   "metadata": {},
   "source": [
    "[![Jupyter-flex Pages](/assets/img/layouts/pages.png \"Pages\")](/examples/pages.html)"
   ]
  },
  {
   "cell_type": "markdown",
   "metadata": {},
   "source": [
    "## All examples\n",
    "\n",
    "<div class=\"image-grid-row\">\n",
    "  <figure class=\"image-card\">\n",
    "    <a href=\"/examples/orientation-rows.html\">\n",
    "        <img src=\"/assets/img/layouts/orientation-rows.png\">\n",
    "    </a>\n",
    "    <figcaption>orientation-rows</figcaption>\n",
    "  </figure>\n",
    "  <figure class=\"image-card\">\n",
    "    <a href=\"/examples/orientation-columns.html\">\n",
    "        <img src=\"/assets/img/layouts/orientation-columns.png\">\n",
    "    </a>\n",
    "    <figcaption>orientation-columns</figcaption>\n",
    "  </figure>\n",
    "  <figure class=\"image-card\">\n",
    "    <a href=\"/examples/orientation-rows-rows.html\">\n",
    "        <img src=\"/assets/img/layouts/orientation-rows-rows.png\">\n",
    "    </a>\n",
    "    <figcaption>orientation-rows + rows</figcaption>\n",
    "  </figure>\n",
    "</div>\n",
    "\n",
    "<div class=\"image-grid-row\">\n",
    "  <figure class=\"image-card\">\n",
    "    <a href=\"/examples/orientation-columns-columns.html\">\n",
    "        <img src=\"/assets/img/layouts/orientation-columns-columns.png\">\n",
    "    </a>\n",
    "    <figcaption>orientation-columns + columns</figcaption>\n",
    "  </figure>\n",
    "  <figure class=\"image-card\">\n",
    "    <a href=\"/examples/grid-2x2.html\">\n",
    "        <img src=\"/assets/img/layouts/grid-2x2.png\">\n",
    "    </a>\n",
    "    <figcaption>grid-2x2</figcaption>\n",
    "  </figure>\n",
    "  <figure class=\"image-card\">\n",
    "    <a href=\"/examples/grid-2x3.html\">\n",
    "        <img src=\"/assets/img/layouts/grid-2x3.png\">\n",
    "    </a>\n",
    "    <figcaption>grid-2x3</figcaption>\n",
    "  </figure>\n",
    "</div>\n",
    "\n",
    "<div class=\"image-grid-row\">\n",
    "  <figure class=\"image-card\">\n",
    "    <a href=\"/examples/focal-chart-top.html\">\n",
    "        <img src=\"/assets/img/layouts/focal-chart-top.png\">\n",
    "    </a>\n",
    "    <figcaption>focal-chart-top</figcaption>\n",
    "  </figure>\n",
    "  <figure class=\"image-card\">\n",
    "    <a href=\"/examples/focal-chart-top-chart-size.html\">\n",
    "        <img src=\"/assets/img/layouts/focal-chart-top-chart-size.png\">\n",
    "    </a>\n",
    "    <figcaption>focal-chart-top-chart-size</figcaption>\n",
    "  </figure>\n",
    "  <figure class=\"image-card\">\n",
    "      <a href=\"/examples/tabs-section-columns.html\">\n",
    "        <img src=\"/assets/img/layouts/tabs-section-columns.png\">\n",
    "    </a>\n",
    "    <figcaption>section-tabs-columns</figcaption>\n",
    "  </figure>\n",
    "</div>\n",
    "\n",
    "<div class=\"image-grid-row\">\n",
    "  <figure class=\"image-card\">\n",
    "      <a href=\"/examples/tabs-section-rows.html\">\n",
    "        <img src=\"/assets/img/layouts/tabs-section-rows.png\">\n",
    "    </a>\n",
    "    <figcaption>section-tabs-rows</figcaption>\n",
    "  </figure>\n",
    "  <figure class=\"image-card\">\n",
    "    <a href=\"/examples/pages.html\">\n",
    "        <img src=\"/assets/img/layouts/pages.png\">\n",
    "    </a>\n",
    "    <figcaption>pages (with tabs)</figcaption>\n",
    "  </figure>\n",
    "  <figure class=\"image-card\">\n",
    "  </figure>\n",
    "</div>"
   ]
  }
 ],
 "metadata": {
  "celltoolbar": "Tags",
  "kernelspec": {
   "display_name": "Python 3",
   "language": "python",
   "name": "python3"
  },
  "language_info": {
   "codemirror_mode": {
    "name": "ipython",
    "version": 3
   },
   "file_extension": ".py",
   "mimetype": "text/x-python",
   "name": "python",
   "nbconvert_exporter": "python",
   "pygments_lexer": "ipython3",
   "version": "3.8.0"
  }
 },
 "nbformat": 4,
 "nbformat_minor": 2
}
