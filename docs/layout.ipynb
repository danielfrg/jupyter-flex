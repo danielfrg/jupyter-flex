{
 "cells": [
  {
   "cell_type": "markdown",
   "metadata": {},
   "source": [
    "# Layouts\n",
    "\n",
    "This page explains the multiple layouts components and all the options to control the layout of the dashboard."
   ]
  },
  {
   "cell_type": "markdown",
   "metadata": {},
   "source": [
    "## Cards\n",
    "\n",
    "A Card is an object that holds any output components of the dashboard such as plots, text, widgets and more. \n",
    "\n",
    "To define a new Card you use a level-3 markdown header (`###`). Each card belongs in a Section and one Section can have one or more Cards.\n",
    "\n",
    "Any output components (plots or text) will be added to the current Card until a new Card, Section or Page is defined.\n",
    "\n",
    "The components of a Card are:\n",
    "\n",
    "1. The header will be the value of level-3 markdown header (`###`)\n",
    "2. One (or more) code cells that contain plots tagged with `chart`, in general it's a good idea to just have one plot per card.\n",
    "3. One (or more) markdown cells tagged with `text` that contain some narrative for the dashboard\n",
    "3. Footer will be one markdown cell tagged with `footer`\n",
    "\n",
    "For example this notebook with one Card, two plots and some text. Note that code cells get expanded to ocupy all the space in the Card while text cells get just use the space they need."
   ]
  },
  {
   "cell_type": "code",
   "execution_count": null,
   "metadata": {},
   "outputs": [],
   "source": [
    "import plotly.express as px"
   ]
  },
  {
   "cell_type": "code",
   "execution_count": null,
   "metadata": {},
   "outputs": [],
   "source": [
    "df = px.data.iris()"
   ]
  },
  {
   "cell_type": "code",
   "execution_count": null,
   "metadata": {},
   "outputs": [],
   "source": [
    "### Iris dataset"
   ]
  },
  {
   "cell_type": "code",
   "execution_count": null,
   "metadata": {
    "tags": [
     "chart"
    ]
   },
   "outputs": [],
   "source": [
    "# One plot\n",
    "fig = px.scatter(df, x=\"sepal_width\", y=\"sepal_length\")\n",
    "fig.show()"
   ]
  },
  {
   "cell_type": "code",
   "execution_count": null,
   "metadata": {
    "tags": [
     "chart"
    ]
   },
   "outputs": [],
   "source": [
    "# Another plot\n",
    "fig = px.scatter(df, x=\"petal_width\", y=\"petal_length\")\n",
    "fig.show()"
   ]
  },
  {
   "cell_type": "code",
   "execution_count": null,
   "metadata": {},
   "outputs": [],
   "source": [
    "#### These are two plots the iris datasets"
   ]
  },
  {
   "cell_type": "code",
   "execution_count": null,
   "metadata": {
    "tags": [
     "footer"
    ]
   },
   "outputs": [],
   "source": [
    "#### This plot is using plotly."
   ]
  },
  {
   "cell_type": "markdown",
   "metadata": {},
   "source": [
    "[![Jupyter-flex one plot](/assets/img/screenshots/layouts/card.png)](/examples/card.html)"
   ]
  },
  {
   "cell_type": "markdown",
   "metadata": {},
   "source": [
    "## Sections\n",
    "\n",
    "A Section is an object that holds one or more Cards, those Cards can be shown as rows (default) or columns inside the Section.\n",
    "\n",
    "To define a new Section you use a level-2 markdown header (`##`). Each Section belongs in a Page and one Page can have one or more Sections.\n",
    "The default orientation of Sections in a Page is to show each section as a column.\n",
    "\n",
    "For example this Notebook with two Sections, one with one Card and the other one with two:"
   ]
  },
  {
   "cell_type": "code",
   "execution_count": null,
   "metadata": {},
   "outputs": [],
   "source": [
    "## Column 1"
   ]
  },
  {
   "cell_type": "code",
   "execution_count": null,
   "metadata": {},
   "outputs": [],
   "source": [
    "### Single column"
   ]
  },
  {
   "cell_type": "code",
   "execution_count": null,
   "metadata": {
    "tags": [
     "chart"
    ]
   },
   "outputs": [],
   "source": [
    "# code"
   ]
  },
  {
   "cell_type": "code",
   "execution_count": null,
   "metadata": {},
   "outputs": [],
   "source": [
    "## Column 2"
   ]
  },
  {
   "cell_type": "code",
   "execution_count": null,
   "metadata": {},
   "outputs": [],
   "source": [
    "### Sub Plot 1"
   ]
  },
  {
   "cell_type": "code",
   "execution_count": null,
   "metadata": {
    "tags": [
     "chart"
    ]
   },
   "outputs": [],
   "source": [
    "# code"
   ]
  },
  {
   "cell_type": "code",
   "execution_count": null,
   "metadata": {},
   "outputs": [],
   "source": [
    "### Sub Plot 2"
   ]
  },
  {
   "cell_type": "code",
   "execution_count": null,
   "metadata": {
    "tags": [
     "chart"
    ]
   },
   "outputs": [],
   "source": [
    "# code"
   ]
  },
  {
   "cell_type": "markdown",
   "metadata": {},
   "source": [
    "[![Jupyter-flex section columns](/assets/img/screenshots/layouts/section-columns.png \"Section Columns\")](/examples/section-columns.html)\n",
    "\n",
    "### Orientation\n",
    "\n",
    "Each section default parameters can be overwritten by adding tags to the Section cell (the one with a level-2 header: `##`).\n",
    "\n",
    "For example in the last Notebook to make the second Section (right column) to also be divided by colums, instead of the defualt of rows, we add an `orientation=columns` tag like this:"
   ]
  },
  {
   "cell_type": "code",
   "execution_count": null,
   "metadata": {
    "tags": [
     "orientation=columns"
    ]
   },
   "outputs": [],
   "source": [
    "## Column 2"
   ]
  },
  {
   "cell_type": "markdown",
   "metadata": {},
   "source": [
    "[![Jupyter-flex section columns + columns](/assets/img/screenshots/layouts/section-columns-columns.png \"Section Columns + Columns\")](/examples/section-columns-columns.html)"
   ]
  },
  {
   "cell_type": "markdown",
   "metadata": {},
   "source": [
    "### Width and Height\n",
    "\n",
    "You might have noticed that by default all the Cards in a Section and Sections in a Page are divided equally. If there are 2 Cards in a Section each Card will get 50% of the space, if there are 3 Cards in one Section each will get 33.3% of the space and so on.\n",
    "\n",
    "This can be controlled using the `size={value}` tag in sections and cards.\n",
    "\n",
    "For example take this notebook that focuses most of the dashboard space on the top card."
   ]
  },
  {
   "cell_type": "code",
   "execution_count": null,
   "metadata": {
    "tags": [
     "parameters"
    ]
   },
   "outputs": [],
   "source": [
    "flex_orientation = \"rows\""
   ]
  },
  {
   "cell_type": "code",
   "execution_count": null,
   "metadata": {
    "tags": [
     "size=650"
    ]
   },
   "outputs": [],
   "source": [
    "## Row 1"
   ]
  },
  {
   "cell_type": "code",
   "execution_count": null,
   "metadata": {},
   "outputs": [],
   "source": [
    "### Main plot"
   ]
  },
  {
   "cell_type": "code",
   "execution_count": null,
   "metadata": {
    "tags": [
     "chart"
    ]
   },
   "outputs": [],
   "source": [
    "# code"
   ]
  },
  {
   "cell_type": "code",
   "execution_count": null,
   "metadata": {
    "tags": [
     "size=350"
    ]
   },
   "outputs": [],
   "source": [
    "## Row 2"
   ]
  },
  {
   "cell_type": "code",
   "execution_count": null,
   "metadata": {},
   "outputs": [],
   "source": [
    "### Subplot 1"
   ]
  },
  {
   "cell_type": "code",
   "execution_count": null,
   "metadata": {
    "tags": [
     "chart"
    ]
   },
   "outputs": [],
   "source": [
    "# code"
   ]
  },
  {
   "cell_type": "code",
   "execution_count": null,
   "metadata": {},
   "outputs": [],
   "source": [
    "### Subplot 2"
   ]
  },
  {
   "cell_type": "code",
   "execution_count": null,
   "metadata": {
    "tags": [
     "chart"
    ]
   },
   "outputs": [],
   "source": [
    "# code"
   ]
  },
  {
   "cell_type": "markdown",
   "metadata": {},
   "source": [
    "[![Jupyter-flex Focal Chart Top](/assets/img/screenshots/layouts/focal-chart-top.png \"Focal Chart Top\")](/examples/focal-chart-top.html)\n",
    "\n",
    "<div class=\"admonition tip\">\n",
    "    <p class=\"admonition-title\">What does the value of size mean?</p>\n",
    "    <p>The values for the <code>size</code> parameter are passed directly to the <code>flex-grow</code> and <code>flex-shrink</code> CSS properties. </p>\n",
    "    <p>The default value is 500 so all sections and cards get the same space compared to its sibilings</p>\n",
    "    <p>An easy way to change this is to make all <code>size</code> values in a section add to 1000 (or a simple round number), that way you can calculate the proportions easily.</p>\n",
    "</div>"
   ]
  },
  {
   "cell_type": "markdown",
   "metadata": {},
   "source": [
    "### Card size\n",
    "\n",
    "In the same way that you can control section proportions, you can change the proportions for the multiple card inside a section using the `size` parameter as a tag in the chart header (level-3 markdown header: `###`).\n",
    "\n",
    "In the last example if we change this two cells:"
   ]
  },
  {
   "cell_type": "code",
   "execution_count": null,
   "metadata": {
    "tags": [
     "size=700"
    ]
   },
   "outputs": [],
   "source": [
    "### Subplot 1"
   ]
  },
  {
   "cell_type": "code",
   "execution_count": null,
   "metadata": {
    "tags": [
     "size=300"
    ]
   },
   "outputs": [],
   "source": [
    "### Subplot 2"
   ]
  },
  {
   "cell_type": "markdown",
   "metadata": {},
   "source": [
    "[![Jupyter-flex Focal Chart Top with size](/assets/img/screenshots/layouts/focal-chart-top-chart-size.png \"Focal Chart Top with size\")](/examples/focal-chart-top-chart-size.html)"
   ]
  },
  {
   "cell_type": "markdown",
   "metadata": {},
   "source": [
    "## Tabs\n",
    "\n",
    "You can make a section display all it's cards as tabs allowing you to get more screen space for each chart. Tabs are especially useful when you have a large number of components to display.\n",
    "\n",
    "To do this just tag a section with `tabs`. By default Jupyter-flex applies a small fade transition when changing tabs and fills the space for the navigation, the defaults can be controlled per section with and `no-nav-fill` and `no-fade` respectively.\n",
    "\n",
    "For example this notebook:"
   ]
  },
  {
   "cell_type": "code",
   "execution_count": null,
   "metadata": {
    "tags": [
     "tabs"
    ]
   },
   "outputs": [],
   "source": [
    "## Column 1"
   ]
  },
  {
   "cell_type": "code",
   "execution_count": null,
   "metadata": {},
   "outputs": [],
   "source": [
    "### First"
   ]
  },
  {
   "cell_type": "code",
   "execution_count": null,
   "metadata": {
    "tags": [
     "chart"
    ]
   },
   "outputs": [],
   "source": [
    "1"
   ]
  },
  {
   "cell_type": "code",
   "execution_count": null,
   "metadata": {},
   "outputs": [],
   "source": [
    "### Second"
   ]
  },
  {
   "cell_type": "code",
   "execution_count": null,
   "metadata": {
    "tags": [
     "chart"
    ]
   },
   "outputs": [],
   "source": [
    "2"
   ]
  },
  {
   "cell_type": "code",
   "execution_count": null,
   "metadata": {
    "tags": [
     "tabs",
     "no-nav-fill",
     "no-fade"
    ]
   },
   "outputs": [],
   "source": [
    "## Column 2"
   ]
  },
  {
   "cell_type": "code",
   "execution_count": null,
   "metadata": {},
   "outputs": [],
   "source": [
    "### A"
   ]
  },
  {
   "cell_type": "code",
   "execution_count": null,
   "metadata": {
    "tags": [
     "chart"
    ]
   },
   "outputs": [],
   "source": [
    "\"A\""
   ]
  },
  {
   "cell_type": "code",
   "execution_count": null,
   "metadata": {},
   "outputs": [],
   "source": [
    "### B"
   ]
  },
  {
   "cell_type": "code",
   "execution_count": null,
   "metadata": {
    "tags": [
     "chart"
    ]
   },
   "outputs": [],
   "source": [
    "\"B\""
   ]
  },
  {
   "cell_type": "code",
   "execution_count": null,
   "metadata": {},
   "outputs": [],
   "source": [
    "### C"
   ]
  },
  {
   "cell_type": "code",
   "execution_count": null,
   "metadata": {
    "tags": [
     "chart"
    ]
   },
   "outputs": [],
   "source": [
    "\"C\""
   ]
  },
  {
   "cell_type": "markdown",
   "metadata": {},
   "source": [
    "[![Jupyter-flex Section tabs](/assets/img/screenshots/layouts/tabs-section-columns.png \"Tabs Section\")](/examples/tabs-section-columns.html)"
   ]
  },
  {
   "cell_type": "markdown",
   "metadata": {},
   "source": [
    "## Orientation\n",
    "\n",
    "The default orientation of the dashboard is `columns`. This means that each section, level-2 markdown headers (`##`), will be shown as a columns and the cards in each section will be shown as rows.\n",
    "\n",
    "The default is to use the oposite orientation between sections and cards but this can be overwritten, see [section parameters](#section-parameters), the defaults are:\n",
    "- If dashboard orientation is `columns` (default), then section orientation is `rows`\n",
    "- If dashboard orientation is `rows`, then section orientation is `columns`\n",
    "\n",
    "Let's start with this notebook:"
   ]
  },
  {
   "cell_type": "code",
   "execution_count": null,
   "metadata": {},
   "outputs": [],
   "source": [
    "## Column 1"
   ]
  },
  {
   "cell_type": "code",
   "execution_count": null,
   "metadata": {},
   "outputs": [],
   "source": [
    "### Single plot"
   ]
  },
  {
   "cell_type": "code",
   "execution_count": null,
   "metadata": {
    "tags": [
     "chart"
    ]
   },
   "outputs": [],
   "source": [
    "# code"
   ]
  },
  {
   "cell_type": "code",
   "execution_count": null,
   "metadata": {},
   "outputs": [],
   "source": [
    "## Column 2"
   ]
  },
  {
   "cell_type": "code",
   "execution_count": null,
   "metadata": {},
   "outputs": [],
   "source": [
    "### Sub Plot 1"
   ]
  },
  {
   "cell_type": "code",
   "execution_count": null,
   "metadata": {
    "tags": [
     "chart"
    ]
   },
   "outputs": [],
   "source": [
    "# code"
   ]
  },
  {
   "cell_type": "code",
   "execution_count": null,
   "metadata": {},
   "outputs": [],
   "source": [
    "### Sub Plot 2"
   ]
  },
  {
   "cell_type": "code",
   "execution_count": null,
   "metadata": {
    "tags": [
     "chart"
    ]
   },
   "outputs": [],
   "source": [
    "# code"
   ]
  },
  {
   "cell_type": "markdown",
   "metadata": {},
   "source": [
    "Using `voila` or `nbconvert` with the flex template will generate:\n",
    "\n",
    "[![Jupyter-flex orientation columns](/assets/img/screenshots/layouts/orientation-columns.png \"Orientation Columns\")](/examples/orientation-columns.html)"
   ]
  },
  {
   "cell_type": "markdown",
   "metadata": {},
   "source": [
    "### Global Parameters"
   ]
  },
  {
   "cell_type": "markdown",
   "metadata": {},
   "source": [
    "You can change the orientation of the layout using the `flex_orientation` parameter.\n",
    "\n",
    "To set any parameters just tag one code cell with `parameters`.\n",
    "- It's usually a good idea to have this cell at the begining of the notebook\n",
    "- This is the same tag used by [papermill](https://github.com/nteract/papermill) so you can use it as part of you pipeline.\n",
    "\n",
    "For example adding the following cell as the first cell of the notebook."
   ]
  },
  {
   "cell_type": "code",
   "execution_count": null,
   "metadata": {
    "tags": [
     "parameters"
    ]
   },
   "outputs": [],
   "source": [
    "flex_orientation = \"rows\""
   ]
  },
  {
   "cell_type": "markdown",
   "metadata": {},
   "source": [
    "Will generate:\n",
    "\n",
    "[![Jupyter-flex orientation rows](/assets/img/screenshots/layouts/orientation-rows.png \"Orientation Rows\")](/examples/orientation-rows.html)"
   ]
  },
  {
   "cell_type": "markdown",
   "metadata": {},
   "source": [
    "## Pages\n",
    "\n",
    "For more complex dashboards with more components you can divide the dashboard into multiple pages using level-1 markdown headers (`#`). If more than one of these header are present, the main navigation of the dashboard will include each page as its own top-level navigation tab, in a similar fashion to a [tabbed section](#tabs).\n",
    "\n",
    "Each page can have its own default orientation, multiple sections with each having its own parameters such as size, any values can be overwritten as you regularly do for [section using tags](#section-parameters).\n",
    "\n",
    "A simple example with 2 pages and a tabbed section on page 2:"
   ]
  },
  {
   "cell_type": "code",
   "execution_count": null,
   "metadata": {},
   "outputs": [],
   "source": [
    "# Page 1"
   ]
  },
  {
   "cell_type": "code",
   "execution_count": null,
   "metadata": {
    "tags": [
     "size=650"
    ]
   },
   "outputs": [],
   "source": [
    "## Col 1"
   ]
  },
  {
   "cell_type": "code",
   "execution_count": null,
   "metadata": {
    "tags": [
     "chart"
    ]
   },
   "outputs": [],
   "source": [
    "\"Page 1 - Col 1 - Plot 1\""
   ]
  },
  {
   "cell_type": "code",
   "execution_count": null,
   "metadata": {
    "tags": [
     "tabs",
     "size=350"
    ]
   },
   "outputs": [],
   "source": [
    "## Col 2"
   ]
  },
  {
   "cell_type": "code",
   "execution_count": null,
   "metadata": {},
   "outputs": [],
   "source": [
    "### Col 2 - Tab 1"
   ]
  },
  {
   "cell_type": "code",
   "execution_count": null,
   "metadata": {
    "tags": [
     "chart"
    ]
   },
   "outputs": [],
   "source": [
    "\"Page 1 - Col 2 - Tab 1\""
   ]
  },
  {
   "cell_type": "code",
   "execution_count": null,
   "metadata": {},
   "outputs": [],
   "source": [
    "### Col 2 - Tab 1"
   ]
  },
  {
   "cell_type": "code",
   "execution_count": null,
   "metadata": {
    "tags": [
     "chart"
    ]
   },
   "outputs": [],
   "source": [
    "\"Page 1 - Col 2 - Tab 2\""
   ]
  },
  {
   "cell_type": "code",
   "execution_count": null,
   "metadata": {
    "tags": [
     "orientation=rows"
    ]
   },
   "outputs": [],
   "source": [
    "# Page 2"
   ]
  },
  {
   "cell_type": "code",
   "execution_count": null,
   "metadata": {},
   "outputs": [],
   "source": [
    "## Row 1"
   ]
  },
  {
   "cell_type": "code",
   "execution_count": null,
   "metadata": {
    "tags": [
     "chart"
    ]
   },
   "outputs": [],
   "source": [
    "\"Page 2 - Row 1\""
   ]
  },
  {
   "cell_type": "code",
   "execution_count": null,
   "metadata": {},
   "outputs": [],
   "source": [
    "## Row 2"
   ]
  },
  {
   "cell_type": "code",
   "execution_count": null,
   "metadata": {
    "tags": [
     "chart"
    ]
   },
   "outputs": [],
   "source": [
    "\"Page 2 - Row 2\""
   ]
  },
  {
   "cell_type": "markdown",
   "metadata": {},
   "source": [
    "[![Jupyter-flex Pages](/assets/img/screenshots/layouts/pages.png \"Pages\")](/examples/pages.html)"
   ]
  },
  {
   "cell_type": "markdown",
   "metadata": {},
   "source": [
    "## All examples\n",
    "\n",
    "<div class=\"image-grid-row\">\n",
    "  <figure class=\"image-card\">\n",
    "    <a href=\"/examples/orientation-rows.html\">\n",
    "        <img src=\"/assets/img/screenshots/layouts/orientation-rows.png\">\n",
    "    </a>\n",
    "    <figcaption>orientation-rows</figcaption>\n",
    "  </figure>\n",
    "  <figure class=\"image-card\">\n",
    "    <a href=\"/examples/orientation-columns.html\">\n",
    "        <img src=\"/assets/img/screenshots/layouts/orientation-columns.png\">\n",
    "    </a>\n",
    "    <figcaption>orientation-columns</figcaption>\n",
    "  </figure>\n",
    "  <figure class=\"image-card\">\n",
    "    <a href=\"/examples/orientation-rows-rows.html\">\n",
    "        <img src=\"/assets/img/screenshots/layouts/orientation-rows-rows.png\">\n",
    "    </a>\n",
    "    <figcaption>orientation-rows + rows</figcaption>\n",
    "  </figure>\n",
    "</div>\n",
    "\n",
    "<div class=\"image-grid-row\">\n",
    "  <figure class=\"image-card\">\n",
    "    <a href=\"/examples/orientation-columns-columns.html\">\n",
    "        <img src=\"/assets/img/screenshots/layouts/orientation-columns-columns.png\">\n",
    "    </a>\n",
    "    <figcaption>orientation-columns + columns</figcaption>\n",
    "  </figure>\n",
    "  <figure class=\"image-card\">\n",
    "    <a href=\"/examples/grid-2x2.html\">\n",
    "        <img src=\"/assets/img/screenshots/layouts/grid-2x2.png\">\n",
    "    </a>\n",
    "    <figcaption>grid-2x2</figcaption>\n",
    "  </figure>\n",
    "  <figure class=\"image-card\">\n",
    "    <a href=\"/examples/grid-2x3.html\">\n",
    "        <img src=\"/assets/img/screenshots/layouts/grid-2x3.png\">\n",
    "    </a>\n",
    "    <figcaption>grid-2x3</figcaption>\n",
    "  </figure>\n",
    "</div>\n",
    "\n",
    "<div class=\"image-grid-row\">\n",
    "  <figure class=\"image-card\">\n",
    "    <a href=\"/examples/focal-chart-top.html\">\n",
    "        <img src=\"/assets/img/screenshots/layouts/focal-chart-top.png\">\n",
    "    </a>\n",
    "    <figcaption>focal-chart-top</figcaption>\n",
    "  </figure>\n",
    "  <figure class=\"image-card\">\n",
    "    <a href=\"/examples/focal-chart-top-chart-size.html\">\n",
    "        <img src=\"/assets/img/screenshots/layouts/focal-chart-top-chart-size.png\">\n",
    "    </a>\n",
    "    <figcaption>focal-chart-top-chart-size</figcaption>\n",
    "  </figure>\n",
    "  <figure class=\"image-card\">\n",
    "      <a href=\"/examples/tabs-section-columns.html\">\n",
    "        <img src=\"/assets/img/screenshots/layouts/tabs-section-columns.png\">\n",
    "    </a>\n",
    "    <figcaption>section-tabs-columns</figcaption>\n",
    "  </figure>\n",
    "</div>\n",
    "\n",
    "<div class=\"image-grid-row\">\n",
    "  <figure class=\"image-card\">\n",
    "      <a href=\"/examples/tabs-section-rows.html\">\n",
    "        <img src=\"/assets/img/screenshots/layouts/tabs-section-rows.png\">\n",
    "    </a>\n",
    "    <figcaption>section-tabs-rows</figcaption>\n",
    "  </figure>\n",
    "  <figure class=\"image-card\">\n",
    "    <a href=\"/examples/pages.html\">\n",
    "        <img src=\"/assets/img/screenshots/layouts/pages.png\">\n",
    "    </a>\n",
    "    <figcaption>pages (with tabs)</figcaption>\n",
    "  </figure>\n",
    "  <figure class=\"image-card\">\n",
    "    <a href=\"/examples/sidebar-global.html\">\n",
    "        <img src=\"/assets/img/screenshots/layouts/sidebar-global.png\">\n",
    "    </a>\n",
    "    <figcaption>sidebar-global</figcaption>\n",
    "  </figure>\n",
    "</div>"
   ]
  }
 ],
 "metadata": {
  "celltoolbar": "Tags",
  "kernelspec": {
   "display_name": "Python 3",
   "language": "python",
   "name": "python3"
  },
  "language_info": {
   "codemirror_mode": {
    "name": "ipython",
    "version": 3
   },
   "file_extension": ".py",
   "mimetype": "text/x-python",
   "name": "python",
   "nbconvert_exporter": "python",
   "pygments_lexer": "ipython3",
   "version": "3.7.6"
  }
 },
 "nbformat": 4,
 "nbformat_minor": 4
}
