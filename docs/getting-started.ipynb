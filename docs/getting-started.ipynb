{
 "cells": [
  {
   "cell_type": "markdown",
   "metadata": {},
   "source": [
    "Jupyter-flex allows you to create interactive dashboards based on Jupyter Notebooks simply by adding tags\n",
    "to notebooks cells and control the layout of the dashboard using markdown headers.\n",
    "\n",
    "## Your first dashboard\n",
    "\n",
    "Let's take a very simple Jupyter Notebook with 3 cells and one plot and convert it to a dashboard."
   ]
  },
  {
   "cell_type": "code",
   "execution_count": null,
   "metadata": {},
   "outputs": [],
   "source": [
    "import plotly.express as px"
   ]
  },
  {
   "cell_type": "code",
   "execution_count": null,
   "metadata": {},
   "outputs": [],
   "source": [
    "df = px.data.iris()"
   ]
  },
  {
   "cell_type": "code",
   "execution_count": null,
   "metadata": {},
   "outputs": [],
   "source": [
    "fig = px.scatter(df, x=\"sepal_width\", y=\"sepal_length\")\n",
    "fig.show()"
   ]
  },
  {
   "cell_type": "markdown",
   "metadata": {},
   "source": [
    "All you need to do is to add a new tag with the value `chart` to the cell with the plot.\n",
    "\n",
    "<div class=\"admonition tip\">\n",
    "    <p class=\"admonition-title\">How to view and add tags to cells in Jupyter Notebook</p>\n",
    "    <ol>\n",
    "        <li>In the top navigation go to View > Cell Toolbar > Tags</li>\n",
    "        <li>Then type \"chart\" in target cell and click on \"Add tag\"</li>\n",
    "    </ol>\n",
    "</div>"
   ]
  },
  {
   "cell_type": "code",
   "execution_count": null,
   "metadata": {
    "tags": [
     "chart"
    ]
   },
   "outputs": [],
   "source": [
    "fig = px.scatter(df, x=\"sepal_width\", y=\"sepal_length\")\n",
    "fig.show()"
   ]
  },
  {
   "cell_type": "markdown",
   "metadata": {},
   "source": [
    "From there there is a couple of options to convert the notebook to a html dashboard.\n",
    "\n",
    "1. You can go into execute the notebook regularly and then select: `File > Download as > Flex Dashboard (.html)\n",
    "![Jupyter-flex Download As](/assets/img/getting-started/download-as.png)\n",
    "2. You can also go into a terminal and run\n",
    "\n",
    "<p class=\"code-header\">Terminal</p>\n",
    "```\n",
    "$ jupyter nbconvert --to flex notebook.ipynb\n",
    "```\n",
    "\n",
    "Optionally add the --execute flag to execute the notebook before converting it\n",
    "\n",
    "<p class=\"code-header\">Terminal</p>\n",
    "```\n",
    "$ jupyter nbconvert --to flex notebook.ipynb --execute\n",
    "```\n",
    "\n",
    "Open the resulting `.html` file in a browser and the result will be:\n",
    "\n",
    "[![Jupyter-flex one plot](/assets/img/getting-started/one-plot.png)](/examples/one-plot.html)"
   ]
  },
  {
   "cell_type": "markdown",
   "metadata": {},
   "source": [
    "## Multiple outputs\n",
    "\n",
    "Output components are delineated using level 3 markdown headers (###). \n",
    "\n",
    "To add a new plot to the current dashboard add two new cells\n",
    "\n",
    "1. One markdown cell with a level 3 (`###`) markdown header\n",
    "2. One code cell with the `chart` tag"
   ]
  },
  {
   "cell_type": "code",
   "execution_count": null,
   "metadata": {},
   "outputs": [],
   "source": [
    "### Second plot"
   ]
  },
  {
   "cell_type": "code",
   "execution_count": null,
   "metadata": {
    "tags": [
     "chart"
    ]
   },
   "outputs": [],
   "source": [
    "fig = px.scatter(df, x=\"petal_width\", y=\"petal_length\")\n",
    "fig.show()"
   ]
  },
  {
   "cell_type": "markdown",
   "metadata": {},
   "source": [
    "Running the `jupyter-nbconvert` command again will result in:\n",
    "\n",
    "[![Jupyter-flex two plots](/assets/img/getting-started/two-plots.png)](/examples/two-plots.html)\n",
    "\n",
    "You will notice some details of Jupyter-flex:\n",
    "\n",
    "- The default title of the dashboard is the name of the notebook file, you can customize this see [parameters](#parameters)\n",
    "- The default layout is a single column with outputs stacked vertically and sized to fill available browser height\n",
    "- The value of the level 3 markdown header was used as the header of the output card\n",
    "- To set a header for the first output just add a new level 3 markdown header before the first cell tagged with `chart`"
   ]
  },
  {
   "cell_type": "markdown",
   "metadata": {},
   "source": [
    "## Multiple columns\n",
    "\n",
    "To add another column to the dashboard use a level 2 markdown header (`##`).\n",
    "\n",
    "In this case the value of the header is irrelevant its just an indicator to create a new section."
   ]
  },
  {
   "cell_type": "code",
   "execution_count": null,
   "metadata": {},
   "outputs": [],
   "source": [
    "## Column"
   ]
  },
  {
   "cell_type": "code",
   "execution_count": null,
   "metadata": {
    "tags": [
     "chart"
    ]
   },
   "outputs": [],
   "source": [
    "fig = px.scatter(df, x=\"sepal_length\", y=\"petal_length\")\n",
    "fig.show()"
   ]
  },
  {
   "cell_type": "markdown",
   "metadata": {},
   "source": [
    "In this case the result would be:\n",
    "\n",
    "[![Jupyter-flex two columns](/assets/img/getting-started/two-columns.png)](/examples/two-columns.html)"
   ]
  },
  {
   "cell_type": "markdown",
   "metadata": {},
   "source": [
    "## Orientation and title\n",
    "\n",
    "You can control the parameters of the dashboard such as title and orientation to be based of rows instead of columns.\n",
    "by tagging a code cell to as `parameters` (this is the same tag used by [papermill](https://papermill.readthedocs.io/en/latest/)).\n",
    "\n",
    "It's a good idea to have this cell at the begining of the notebook.\n",
    "\n",
    "Let's change the orientation of the plot to `rows` and add a title of `A Flex dashboard`."
   ]
  },
  {
   "cell_type": "code",
   "execution_count": null,
   "metadata": {
    "tags": [
     "parameters"
    ]
   },
   "outputs": [],
   "source": [
    "flex_title = \"A flex dashboard\"\n",
    "flex_orientation = \"rows\""
   ]
  },
  {
   "cell_type": "markdown",
   "metadata": {},
   "source": [
    "[![Jupyter-flex two rows](/assets/img/getting-started/two-rows.png)](/examples/two-rows.html)\n",
    "\n"
   ]
  },
  {
   "cell_type": "markdown",
   "metadata": {},
   "source": [
    "## Learning more\n",
    "\n",
    "The [Layout](/layout) page goes in depth about all the options to control the content of the dashboards in Jupyter-flex.\n",
    "\n",
    "The [Voila](/voila) page describes how to leverage Voila to create dashboards that use a live Jupyter kernel that enable viewers to change underlying parameters and see the results immediately using [ipywidgets](https://ipywidgets.readthedocs.io/)."
   ]
  }
 ],
 "metadata": {
  "celltoolbar": "Tags",
  "kernelspec": {
   "display_name": "Python 3",
   "language": "python",
   "name": "python3"
  },
  "language_info": {
   "codemirror_mode": {
    "name": "ipython",
    "version": 3
   },
   "file_extension": ".py",
   "mimetype": "text/x-python",
   "name": "python",
   "nbconvert_exporter": "python",
   "pygments_lexer": "ipython3",
   "version": "3.8.0"
  }
 },
 "nbformat": 4,
 "nbformat_minor": 2
}
