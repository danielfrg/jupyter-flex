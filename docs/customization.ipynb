{
 "cells": [
  {
   "cell_type": "markdown",
   "metadata": {},
   "source": [
    "Jupyter-flex allows for some easy ways to customize the look and feel of the dashboard in general and also specific components.\n",
    "\n",
    "Jupyter-flex frontend is based on [Bootstrap 4](https://getbootstrap.com/), it allows for easy customization once you are familiar with it.\n",
    "\n",
    "## Class tag\n",
    "\n",
    "To target individual components (Cards, Section or Pages) one can add one or more a `class={value}` tags to any cell that is shown in the dashboard, this adds the `value` to the CSS classes of that components\n",
    "\n",
    "Jupyter-flex includes multiple color CSS classes as part of it's default theme, these colors are the same as on [Materialize CSS Colors](https://materializecss.com/color.html).\n",
    "\n",
    "For example let's look at this notebook:"
   ]
  },
  {
   "cell_type": "code",
   "execution_count": 1,
   "metadata": {
    "execution": {
     "iopub.execute_input": "2021-08-10T17:48:19.521471Z",
     "iopub.status.busy": "2021-08-10T17:48:19.520714Z",
     "iopub.status.idle": "2021-08-10T17:48:19.524602Z",
     "shell.execute_reply": "2021-08-10T17:48:19.523879Z"
    },
    "tags": [
     "class=blue"
    ]
   },
   "outputs": [],
   "source": [
    "# Page"
   ]
  },
  {
   "cell_type": "code",
   "execution_count": 2,
   "metadata": {
    "execution": {
     "iopub.execute_input": "2021-08-10T17:48:19.528632Z",
     "iopub.status.busy": "2021-08-10T17:48:19.527783Z",
     "iopub.status.idle": "2021-08-10T17:48:19.530214Z",
     "shell.execute_reply": "2021-08-10T17:48:19.530722Z"
    }
   },
   "outputs": [],
   "source": [
    "## Section 1"
   ]
  },
  {
   "cell_type": "code",
   "execution_count": 3,
   "metadata": {
    "execution": {
     "iopub.execute_input": "2021-08-10T17:48:19.534566Z",
     "iopub.status.busy": "2021-08-10T17:48:19.533839Z",
     "iopub.status.idle": "2021-08-10T17:48:19.535939Z",
     "shell.execute_reply": "2021-08-10T17:48:19.536442Z"
    }
   },
   "outputs": [],
   "source": [
    "### This page has a class=blue tag"
   ]
  },
  {
   "cell_type": "code",
   "execution_count": 4,
   "metadata": {
    "execution": {
     "iopub.execute_input": "2021-08-10T17:48:19.550504Z",
     "iopub.status.busy": "2021-08-10T17:48:19.549660Z",
     "iopub.status.idle": "2021-08-10T17:48:19.553438Z",
     "shell.execute_reply": "2021-08-10T17:48:19.553938Z"
    },
    "tags": [
     "body"
    ]
   },
   "outputs": [
    {
     "data": {
      "text/plain": [
       "'Thats what makes the whole content wrapper blue'"
      ]
     },
     "execution_count": 4,
     "metadata": {},
     "output_type": "execute_result"
    }
   ],
   "source": [
    "\"Thats what makes the whole content wrapper blue\""
   ]
  },
  {
   "cell_type": "code",
   "execution_count": 5,
   "metadata": {
    "execution": {
     "iopub.execute_input": "2021-08-10T17:48:19.557709Z",
     "iopub.status.busy": "2021-08-10T17:48:19.556978Z",
     "iopub.status.idle": "2021-08-10T17:48:19.558984Z",
     "shell.execute_reply": "2021-08-10T17:48:19.559442Z"
    },
    "tags": [
     "class=yellow",
     "class=darken-4"
    ]
   },
   "outputs": [],
   "source": [
    "### This Card has a class=yellow and class=darken-4 tags"
   ]
  },
  {
   "cell_type": "code",
   "execution_count": 6,
   "metadata": {
    "execution": {
     "iopub.execute_input": "2021-08-10T17:48:19.564072Z",
     "iopub.status.busy": "2021-08-10T17:48:19.563389Z",
     "iopub.status.idle": "2021-08-10T17:48:19.565786Z",
     "shell.execute_reply": "2021-08-10T17:48:19.566217Z"
    },
    "tags": [
     "body"
    ]
   },
   "outputs": [
    {
     "data": {
      "text/plain": [
       "'So the card looks orange.'"
      ]
     },
     "execution_count": 6,
     "metadata": {},
     "output_type": "execute_result"
    }
   ],
   "source": [
    "\"So the card looks orange.\""
   ]
  },
  {
   "cell_type": "code",
   "execution_count": 7,
   "metadata": {
    "execution": {
     "iopub.execute_input": "2021-08-10T17:48:19.569845Z",
     "iopub.status.busy": "2021-08-10T17:48:19.569225Z",
     "iopub.status.idle": "2021-08-10T17:48:19.571165Z",
     "shell.execute_reply": "2021-08-10T17:48:19.571706Z"
    },
    "tags": [
     "class=green"
    ]
   },
   "outputs": [],
   "source": [
    "## Section 2"
   ]
  },
  {
   "cell_type": "code",
   "execution_count": 8,
   "metadata": {
    "execution": {
     "iopub.execute_input": "2021-08-10T17:48:19.575276Z",
     "iopub.status.busy": "2021-08-10T17:48:19.574580Z",
     "iopub.status.idle": "2021-08-10T17:48:19.576290Z",
     "shell.execute_reply": "2021-08-10T17:48:19.576851Z"
    }
   },
   "outputs": [],
   "source": [
    "### This column section has a class=green tag"
   ]
  },
  {
   "cell_type": "code",
   "execution_count": 9,
   "metadata": {
    "execution": {
     "iopub.execute_input": "2021-08-10T17:48:19.581228Z",
     "iopub.status.busy": "2021-08-10T17:48:19.580508Z",
     "iopub.status.idle": "2021-08-10T17:48:19.583394Z",
     "shell.execute_reply": "2021-08-10T17:48:19.583822Z"
    },
    "tags": [
     "body"
    ]
   },
   "outputs": [
    {
     "data": {
      "text/plain": [
       "'This is some code output'"
      ]
     },
     "execution_count": 9,
     "metadata": {},
     "output_type": "execute_result"
    }
   ],
   "source": [
    "\"This is some code output\""
   ]
  },
  {
   "cell_type": "code",
   "execution_count": 10,
   "metadata": {
    "execution": {
     "iopub.execute_input": "2021-08-10T17:48:19.588096Z",
     "iopub.status.busy": "2021-08-10T17:48:19.587356Z",
     "iopub.status.idle": "2021-08-10T17:48:19.589968Z",
     "shell.execute_reply": "2021-08-10T17:48:19.590466Z"
    },
    "tags": [
     "body"
    ]
   },
   "outputs": [
    {
     "data": {
      "text/plain": [
       "'The `class=green` on the section cell makes this division (↓↓↓) between the cards green.'"
      ]
     },
     "execution_count": 10,
     "metadata": {},
     "output_type": "execute_result"
    }
   ],
   "source": [
    "\"The `class=green` on the section cell makes this division (↓↓↓) between the cards green.\""
   ]
  },
  {
   "cell_type": "code",
   "execution_count": 11,
   "metadata": {
    "execution": {
     "iopub.execute_input": "2021-08-10T17:48:19.593886Z",
     "iopub.status.busy": "2021-08-10T17:48:19.593161Z",
     "iopub.status.idle": "2021-08-10T17:48:19.595256Z",
     "shell.execute_reply": "2021-08-10T17:48:19.595699Z"
    }
   },
   "outputs": [],
   "source": [
    "### On this Card the code and markdown cells here have different color tags"
   ]
  },
  {
   "cell_type": "code",
   "execution_count": 12,
   "metadata": {
    "execution": {
     "iopub.execute_input": "2021-08-10T17:48:19.600055Z",
     "iopub.status.busy": "2021-08-10T17:48:19.599372Z",
     "iopub.status.idle": "2021-08-10T17:48:19.601807Z",
     "shell.execute_reply": "2021-08-10T17:48:19.602240Z"
    },
    "tags": [
     "body",
     "class=yellow"
    ]
   },
   "outputs": [
    {
     "data": {
      "text/plain": [
       "'This code section has a class=yellow tag'"
      ]
     },
     "execution_count": 12,
     "metadata": {},
     "output_type": "execute_result"
    }
   ],
   "source": [
    "\"This code section has a class=yellow tag\""
   ]
  },
  {
   "cell_type": "code",
   "execution_count": 13,
   "metadata": {
    "execution": {
     "iopub.execute_input": "2021-08-10T17:48:19.606371Z",
     "iopub.status.busy": "2021-08-10T17:48:19.605746Z",
     "iopub.status.idle": "2021-08-10T17:48:19.607994Z",
     "shell.execute_reply": "2021-08-10T17:48:19.608562Z"
    },
    "tags": [
     "body",
     "class=brown",
     "class=white-text"
    ]
   },
   "outputs": [
    {
     "data": {
      "text/plain": [
       "'This text section has a `class=brown` and `class=white-text` tags'"
      ]
     },
     "execution_count": 13,
     "metadata": {},
     "output_type": "execute_result"
    }
   ],
   "source": [
    "\"This text section has a `class=brown` and `class=white-text` tags\""
   ]
  },
  {
   "cell_type": "markdown",
   "metadata": {},
   "source": [
    "[![Jupyter-flex customization](/assets/img/screenshots/customize/classes-colors.png \"classes-colors\")](/examples/classes-colors.html)\n",
    "\n",
    "<p class=\"img-caption\">Click on the image to open the rendered dashboard</p>"
   ]
  },
  {
   "cell_type": "markdown",
   "metadata": {},
   "source": [
    "## Custom CSS\n",
    "\n",
    "To add custom CSS styles to a dashboard you can set the `flex_custom_css` parameter to the path to a `.css` file, this path should be relative to where you execute the `nbconvert` or `voila` commands.\n",
    "\n",
    "Custom CSS files plus `class` tags allows you to easily customize all aspects of the dashboard.\n",
    "\n",
    "<div class=\"admonition warning\">\n",
    "    <p class=\"admonition-title\">Voila Static Files</p>\n",
    "    <p>By default Voila doesn't serve all files, see <a href=\"https://voila.readthedocs.io/en/latest/customize.html#serving-static-files\">Serving static files</a>.</p>\n",
    "    <p>If you are using <code>flex_custom_css</code> with voila you need to run it with:</p>\n",
    "    <pre>voila --template=flex --VoilaConfiguration.file_whitelist=\"['.*']\" notebook.ipynb</pre>\n",
    "</div>\n",
    "\n",
    "There is other parameters that allows you to customize the logo, favicon and other aspects of the dashboard, see [Reference > Parameters](/reference/#parameters).\n",
    "\n",
    "One simple example with a simple `custom.css` file:\n",
    "\n",
    "```\n",
    ".navbar .container-fluid {\n",
    "    background-color: #000 !important;\n",
    "}\n",
    "\n",
    ".page {\n",
    "    background-color: red;\n",
    "}\n",
    "\n",
    ".section {\n",
    "    background-color: green;\n",
    "}\n",
    "\n",
    ".card {\n",
    "    background-color: #bbbb70;\n",
    "}\n",
    "```"
   ]
  },
  {
   "cell_type": "code",
   "execution_count": 14,
   "metadata": {
    "execution": {
     "iopub.execute_input": "2021-08-10T17:48:19.613236Z",
     "iopub.status.busy": "2021-08-10T17:48:19.612557Z",
     "iopub.status.idle": "2021-08-10T17:48:19.614717Z",
     "shell.execute_reply": "2021-08-10T17:48:19.615298Z"
    },
    "tags": [
     "parameters"
    ]
   },
   "outputs": [],
   "source": [
    "flex_title = \"A dashboard using a custom.css file\"\n",
    "flex_custom_css = \"customize/custom.css\"\n",
    "flex_subtitle = \"built using jupyter-flex\"\n",
    "flex_source_code = \"https://github.com/danielfrg/jupyter-flex/blob/master/examples/customize/custom-css.ipynb\""
   ]
  },
  {
   "cell_type": "code",
   "execution_count": 15,
   "metadata": {
    "execution": {
     "iopub.execute_input": "2021-08-10T17:48:19.619175Z",
     "iopub.status.busy": "2021-08-10T17:48:19.618334Z",
     "iopub.status.idle": "2021-08-10T17:48:19.620803Z",
     "shell.execute_reply": "2021-08-10T17:48:19.621343Z"
    }
   },
   "outputs": [],
   "source": [
    "# Page"
   ]
  },
  {
   "cell_type": "code",
   "execution_count": 16,
   "metadata": {
    "execution": {
     "iopub.execute_input": "2021-08-10T17:48:19.625595Z",
     "iopub.status.busy": "2021-08-10T17:48:19.624698Z",
     "iopub.status.idle": "2021-08-10T17:48:19.626832Z",
     "shell.execute_reply": "2021-08-10T17:48:19.627350Z"
    }
   },
   "outputs": [],
   "source": [
    "## Section 1"
   ]
  },
  {
   "cell_type": "code",
   "execution_count": 17,
   "metadata": {
    "execution": {
     "iopub.execute_input": "2021-08-10T17:48:19.631733Z",
     "iopub.status.busy": "2021-08-10T17:48:19.631061Z",
     "iopub.status.idle": "2021-08-10T17:48:19.633094Z",
     "shell.execute_reply": "2021-08-10T17:48:19.633595Z"
    },
    "tags": [
     "body"
    ]
   },
   "outputs": [],
   "source": [
    "### Card 1"
   ]
  },
  {
   "cell_type": "code",
   "execution_count": 18,
   "metadata": {
    "execution": {
     "iopub.execute_input": "2021-08-10T17:48:19.637574Z",
     "iopub.status.busy": "2021-08-10T17:48:19.636900Z",
     "iopub.status.idle": "2021-08-10T17:48:19.639252Z",
     "shell.execute_reply": "2021-08-10T17:48:19.639976Z"
    }
   },
   "outputs": [],
   "source": [
    "## Section 2"
   ]
  },
  {
   "cell_type": "code",
   "execution_count": 19,
   "metadata": {
    "execution": {
     "iopub.execute_input": "2021-08-10T17:48:19.644820Z",
     "iopub.status.busy": "2021-08-10T17:48:19.643855Z",
     "iopub.status.idle": "2021-08-10T17:48:19.646581Z",
     "shell.execute_reply": "2021-08-10T17:48:19.647163Z"
    }
   },
   "outputs": [],
   "source": [
    "### Plot 1"
   ]
  },
  {
   "cell_type": "code",
   "execution_count": 20,
   "metadata": {
    "execution": {
     "iopub.execute_input": "2021-08-10T17:48:19.651161Z",
     "iopub.status.busy": "2021-08-10T17:48:19.650482Z",
     "iopub.status.idle": "2021-08-10T17:48:19.653107Z",
     "shell.execute_reply": "2021-08-10T17:48:19.652606Z"
    },
    "tags": [
     "body"
    ]
   },
   "outputs": [],
   "source": [
    "# code"
   ]
  },
  {
   "cell_type": "code",
   "execution_count": 21,
   "metadata": {
    "execution": {
     "iopub.execute_input": "2021-08-10T17:48:19.657157Z",
     "iopub.status.busy": "2021-08-10T17:48:19.656419Z",
     "iopub.status.idle": "2021-08-10T17:48:19.658489Z",
     "shell.execute_reply": "2021-08-10T17:48:19.659804Z"
    }
   },
   "outputs": [],
   "source": [
    "### Plot 2"
   ]
  },
  {
   "cell_type": "code",
   "execution_count": 22,
   "metadata": {
    "execution": {
     "iopub.execute_input": "2021-08-10T17:48:19.665458Z",
     "iopub.status.busy": "2021-08-10T17:48:19.664560Z",
     "iopub.status.idle": "2021-08-10T17:48:19.667270Z",
     "shell.execute_reply": "2021-08-10T17:48:19.666792Z"
    },
    "tags": [
     "body"
    ]
   },
   "outputs": [],
   "source": [
    "# code"
   ]
  },
  {
   "cell_type": "code",
   "execution_count": 23,
   "metadata": {
    "execution": {
     "iopub.execute_input": "2021-08-10T17:48:19.671435Z",
     "iopub.status.busy": "2021-08-10T17:48:19.670658Z",
     "iopub.status.idle": "2021-08-10T17:48:19.673010Z",
     "shell.execute_reply": "2021-08-10T17:48:19.673506Z"
    }
   },
   "outputs": [],
   "source": [
    "### Plot 3"
   ]
  },
  {
   "cell_type": "code",
   "execution_count": 24,
   "metadata": {
    "execution": {
     "iopub.execute_input": "2021-08-10T17:48:19.677363Z",
     "iopub.status.busy": "2021-08-10T17:48:19.676591Z",
     "iopub.status.idle": "2021-08-10T17:48:19.678749Z",
     "shell.execute_reply": "2021-08-10T17:48:19.679278Z"
    },
    "tags": [
     "body"
    ]
   },
   "outputs": [],
   "source": [
    "# code"
   ]
  },
  {
   "cell_type": "markdown",
   "metadata": {},
   "source": [
    "## Examples\n",
    "\n",
    "<div class=\"image-grid\">\n",
    "\n",
    "<a class=\"image-card\" href=\"/examples/classes-colors.html\">\n",
    "    <figure>\n",
    "        <img src=\"/assets/img/screenshots/customize/classes-colors.png\">\n",
    "        <figcaption>classes-color</figcaption>\n",
    "    </figure>\n",
    "</a>\n",
    "\n",
    "<a class=\"image-card\" href=\"/examples/custom-css-nbconvert.html\">\n",
    "    <figure>\n",
    "        <img src=\"/assets/img/screenshots/customize/custom-css.png\">\n",
    "        <figcaption>custom-css</figcaption>\n",
    "    </figure>\n",
    "</a>\n",
    "\n",
    "</div>"
   ]
  },
  {
   "cell_type": "code",
   "execution_count": null,
   "metadata": {},
   "outputs": [],
   "source": []
  }
 ],
 "metadata": {
  "celltoolbar": "Tags",
  "kernelspec": {
   "display_name": "Python 3 (ipykernel)",
   "language": "python",
   "name": "python3"
  },
  "language_info": {
   "codemirror_mode": {
    "name": "ipython",
    "version": 3
   },
   "file_extension": ".py",
   "mimetype": "text/x-python",
   "name": "python",
   "nbconvert_exporter": "python",
   "pygments_lexer": "ipython3",
   "version": "3.8.10"
  }
 },
 "nbformat": 4,
 "nbformat_minor": 4
}
