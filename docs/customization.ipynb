{
 "cells": [
  {
   "cell_type": "markdown",
   "metadata": {},
   "source": [
    "# Customization\n",
    "\n",
    "Jupyter-flex allows for some easy ways to customize the look and feel of the Dashboard.\n",
    "\n",
    "## Parameters\n",
    "\n",
    "To change this settings create a new code cell and tag it with `parameters`.\n",
    "\n",
    "<div class=\"admonition info\">\n",
    "    <p class=\"admonition-title\">The <code>paramter</code> tag</p>\n",
    "    <p>The <code>parameter</code> tag is same tag used by <a href=\"https://github.com/nteract/papermill\">papermill</a> so you can use it as part of you pipeline.\n",
    "    </p>\n",
    "</div>\n",
    "    \n",
    "\n",
    "### Title\n",
    "\n",
    "The title of the dashboard can be changed using the `flex_title` parameter.\n",
    "\n",
    "### Logo\n",
    "\n",
    "Using the `flex_logo` parameter you can pass a path to a logo that will be added to the left side of the title.\n",
    "\n",
    "The path to the logo file should be relative to where you execute `nbconvert` or `voila`.\n",
    "\n",
    "### Favicon\n",
    "\n",
    "Using the `flex_favicon` parameter you can pass a path to a favicon file.\n",
    "\n",
    "The path to the favicon file should be relative to where you execute `nbconvert` or `voila`.\n",
    "\n",
    "### Custom CSS\n",
    "\n",
    "You can point to a custom CSS file using the `flex_custom_css` parameter to overwrite the defaults of the theme.\n",
    "\n",
    "The path to the custom CSS file should be relative to where you execute `nbconvert` or `voila`.\n",
    "\n",
    "<div class=\"admonition info\">\n",
    "    <p class=\"admonition-title\">Bootstrap</p>\n",
    "    <p>Jupyter-flex is based on [Bootstrap 4](https://getbootstrap.com/), take a look to change the apperance.\n",
    "    </p>\n",
    "</div>\n",
    "\n",
    "## Class tag\n",
    "\n",
    "You can one or more a `class={value}` tags to any cell (page, section or card) to add a the `value` to the CSS classes of specific components, for example a specific section or card.\n",
    "\n",
    "## Example\n",
    "\n",
    "For example let's look at this notebook"
   ]
  },
  {
   "cell_type": "code",
   "execution_count": null,
   "metadata": {
    "tags": [
     "parameters"
    ]
   },
   "outputs": [],
   "source": [
    "flex_title = \"Customize CSS\"\n",
    "flex_author = \"A custom dashboard\"\n",
    "flex_logo = \"logo.png\"\n",
    "flex_favicon = \"favicon.ico\"\n",
    "flex_custom_css = \"custom.css\""
   ]
  },
  {
   "cell_type": "code",
   "execution_count": null,
   "metadata": {
    "tags": [
     "class=red"
    ]
   },
   "outputs": [],
   "source": [
    "# Page"
   ]
  },
  {
   "cell_type": "code",
   "execution_count": null,
   "metadata": {},
   "outputs": [],
   "source": [
    "# Section 1"
   ]
  },
  {
   "cell_type": "code",
   "execution_count": null,
   "metadata": {
    "tags": [
     "text"
    ]
   },
   "outputs": [],
   "source": [
    "# code"
   ]
  },
  {
   "cell_type": "code",
   "execution_count": null,
   "metadata": {
    "tags": [
     "class=green"
    ]
   },
   "outputs": [],
   "source": [
    "## Section 2"
   ]
  },
  {
   "cell_type": "code",
   "execution_count": null,
   "metadata": {},
   "outputs": [],
   "source": [
    "### This column has a `class=green` tag"
   ]
  },
  {
   "cell_type": "code",
   "execution_count": null,
   "metadata": {
    "tags": [
     "text"
    ]
   },
   "outputs": [],
   "source": [
    "# code"
   ]
  },
  {
   "cell_type": "code",
   "execution_count": null,
   "metadata": {
    "tags": [
     "class=purple"
    ]
   },
   "outputs": [],
   "source": [
    "### This card has a `class=purple` tag"
   ]
  },
  {
   "cell_type": "markdown",
   "metadata": {},
   "source": [
    "[![Jupyter-flex customization](/assets/img/screenshots/customize/classes-colors.png \"customize\")](/examples/customize.html)\n"
   ]
  }
 ],
 "metadata": {
  "celltoolbar": "Tags",
  "kernelspec": {
   "display_name": "Python 3",
   "language": "python",
   "name": "python3"
  },
  "language_info": {
   "codemirror_mode": {
    "name": "ipython",
    "version": 3
   },
   "file_extension": ".py",
   "mimetype": "text/x-python",
   "name": "python",
   "nbconvert_exporter": "python",
   "pygments_lexer": "ipython3",
   "version": "3.8.0"
  }
 },
 "nbformat": 4,
 "nbformat_minor": 2
}
